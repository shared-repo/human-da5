{
 "cells": [
  {
   "cell_type": "code",
   "execution_count": 1,
   "metadata": {},
   "outputs": [],
   "source": [
    "import numpy as np"
   ]
  },
  {
   "cell_type": "code",
   "execution_count": null,
   "metadata": {},
   "outputs": [
    {
     "name": "stdout",
     "output_type": "stream",
     "text": [
      "<class 'list'> <class 'numpy.ndarray'>\n",
      "int64 float32 int16\n"
     ]
    }
   ],
   "source": [
    "l = [1, 2, 3]\n",
    "x = np.array(l)\n",
    "x2 = np.array([1, 2, 3], dtype='f')\n",
    "x3 = np.array([1, 2, 3], dtype=np.int16)\n",
    "\n",
    "print( type(l), type(x) )\n",
    "print( x.dtype, x2.dtype, x3.dtype )"
   ]
  },
  {
   "cell_type": "code",
   "execution_count": 7,
   "metadata": {},
   "outputs": [
    {
     "name": "stdout",
     "output_type": "stream",
     "text": [
      "[1 2 3] 1\n",
      "[[1 2]\n",
      " [3 4]] 2\n"
     ]
    }
   ],
   "source": [
    "a=np.array([1,2,3])\n",
    "print (a, a.ndim)\n",
    "\n",
    "a = np.array([[1, 2], [3, 4]])\n",
    "print (a, a.ndim)"
   ]
  },
  {
   "cell_type": "code",
   "execution_count": null,
   "metadata": {},
   "outputs": [
    {
     "name": "stdout",
     "output_type": "stream",
     "text": [
      "[1 2 3 4 5] 1\n",
      "[[1 2 3 4 5 6]] 2\n"
     ]
    }
   ],
   "source": [
    "a=np.array([1, 2, 3, 4, 5])\n",
    "print (a, a.ndim)\n",
    "\n",
    "a=np.array([1, 2, 3, 4, 5], ndmin=2)\n",
    "print (a, a.ndim)\n"
   ]
  },
  {
   "cell_type": "code",
   "execution_count": 13,
   "metadata": {},
   "outputs": [
    {
     "name": "stdout",
     "output_type": "stream",
     "text": [
      "[[1 2 3]\n",
      " [4 5 6]]\n",
      "(2, 3)\n",
      "[[1 2]\n",
      " [3 4]\n",
      " [5 6]]\n",
      "(3, 2)\n",
      "[[1 2]\n",
      " [3 4]\n",
      " [5 6]]\n",
      "(3, 2) (2, 3)\n"
     ]
    }
   ],
   "source": [
    "a = np.array([[1,2,3],[4,5,6]])\n",
    "print(a)\n",
    "print (a.shape) \n",
    "\n",
    "a = np.array([[1,2,3],[4,5,6]])\n",
    "a.shape = (3,2)\n",
    "print(a) \n",
    "print(a.shape) \n",
    "\n",
    "a = np.array([[1,2,3],[4,5,6]])\n",
    "b = a.reshape(3,2)\n",
    "print(b)\n",
    "print(b.shape, a.shape) "
   ]
  },
  {
   "cell_type": "code",
   "execution_count": null,
   "metadata": {},
   "outputs": [
    {
     "name": "stdout",
     "output_type": "stream",
     "text": [
      "1\n",
      "3\n",
      "[[[ 0  1  2]\n",
      "  [ 3  4  5]\n",
      "  [ 6  7  8]\n",
      "  [ 9 10 11]]\n",
      "\n",
      " [[12 13 14]\n",
      "  [15 16 17]\n",
      "  [18 19 20]\n",
      "  [21 22 23]]]\n"
     ]
    }
   ],
   "source": [
    "# a = np.array(range(24))\n",
    "a = np.arange(24) # np.arange : 0 ~ 23까지 정수로 ndarray 만들기\n",
    "print(a.ndim)\n",
    "b = a.reshape(2,4,3)\n",
    "print(b.ndim)\n",
    "print(b)\n"
   ]
  },
  {
   "cell_type": "code",
   "execution_count": 16,
   "metadata": {},
   "outputs": [
    {
     "name": "stdout",
     "output_type": "stream",
     "text": [
      "[[4.9e-324 9.9e-324]\n",
      " [1.5e-323 2.0e-323]\n",
      " [2.5e-323 3.0e-323]]\n",
      "[[0. 0.]\n",
      " [0. 0.]\n",
      " [0. 0.]]\n",
      "[[1. 1.]\n",
      " [1. 1.]\n",
      " [1. 1.]]\n"
     ]
    }
   ],
   "source": [
    "x = np.empty([3,2])\n",
    "print(x)\n",
    "\n",
    "x = np.zeros((3,2))\n",
    "print(x)\n",
    "\n",
    "x = np.ones([3,2])\n",
    "print(x)\n"
   ]
  },
  {
   "cell_type": "code",
   "execution_count": 19,
   "metadata": {},
   "outputs": [
    {
     "name": "stdout",
     "output_type": "stream",
     "text": [
      "[10 12 14 16 18 20]\n"
     ]
    }
   ],
   "source": [
    "x = np.arange(10,21,2)\n",
    "print (x)"
   ]
  },
  {
   "cell_type": "code",
   "execution_count": 20,
   "metadata": {},
   "outputs": [
    {
     "name": "stdout",
     "output_type": "stream",
     "text": [
      "(array([1.  , 1.25, 1.5 , 1.75, 2.  ]), np.float64(0.25))\n"
     ]
    }
   ],
   "source": [
    "x = np.linspace(1,2,5, retstep = True)\n",
    "print (x) "
   ]
  },
  {
   "cell_type": "code",
   "execution_count": 24,
   "metadata": {},
   "outputs": [
    {
     "name": "stdout",
     "output_type": "stream",
     "text": [
      "[0 1 2 3 4 5 6 7 8 9]\n",
      "[2 3 4 5 6]\n",
      "[2 4 6]\n"
     ]
    }
   ],
   "source": [
    "a = np.arange(10)\n",
    "b1 = a[2:7]\n",
    "b2 = a[2:7:2]\n",
    "print(a)\n",
    "print(b1)\n",
    "print(b2)\n"
   ]
  },
  {
   "cell_type": "code",
   "execution_count": 26,
   "metadata": {},
   "outputs": [
    {
     "name": "stdout",
     "output_type": "stream",
     "text": [
      "[0 1 2 3 4 5 6 7 8 9]\n",
      "5\n"
     ]
    }
   ],
   "source": [
    "a = np.arange(10)\n",
    "b = a[5]\n",
    "print(a)\n",
    "print (b)"
   ]
  },
  {
   "cell_type": "code",
   "execution_count": null,
   "metadata": {},
   "outputs": [
    {
     "name": "stdout",
     "output_type": "stream",
     "text": [
      "[[ 0  1  2  3  4  5]\n",
      " [ 6  7  8  9 10 11]\n",
      " [12 13 14 15 16 17]\n",
      " [18 19 20 21 22 23]]\n"
     ]
    },
    {
     "data": {
      "text/plain": [
       "[[0, 1, 2, 3, 4, 5],\n",
       " [6, 7, 8, 9, 10, 11],\n",
       " [12, 13, 14, 15, 16, 17],\n",
       " [18, 19, 20, 21, 22, 23]]"
      ]
     },
     "execution_count": 28,
     "metadata": {},
     "output_type": "execute_result"
    }
   ],
   "source": [
    "a = np.arange(24)\n",
    "a = a.reshape((4,6))\n",
    "b = a.tolist() # ndarray -> list 변환\n",
    "\n",
    "print(a)\n",
    "b"
   ]
  },
  {
   "cell_type": "code",
   "execution_count": 30,
   "metadata": {},
   "outputs": [
    {
     "name": "stdout",
     "output_type": "stream",
     "text": [
      "[[ 6  7  8  9 10 11]\n",
      " [12 13 14 15 16 17]\n",
      " [18 19 20 21 22 23]]\n",
      "[[6, 7, 8, 9, 10, 11], [12, 13, 14, 15, 16, 17], [18, 19, 20, 21, 22, 23]]\n"
     ]
    }
   ],
   "source": [
    "print( a[1:] )\n",
    "print( b[1:] )"
   ]
  },
  {
   "cell_type": "code",
   "execution_count": null,
   "metadata": {},
   "outputs": [
    {
     "name": "stdout",
     "output_type": "stream",
     "text": [
      "[[ 0  1  2  3  4  5]\n",
      " [12 13 14 15 16 17]]\n",
      "[[0, 1, 2, 3, 4, 5], [12, 13, 14, 15, 16, 17]]\n"
     ]
    }
   ],
   "source": [
    "# 0행과 2행 데이터 조회\n",
    "print(a[ [0, 2] ]) # 인덱싱을 리스트, 튜플, ndarray 등으로 수행\n",
    "print([b[0], b[2]])"
   ]
  },
  {
   "cell_type": "code",
   "execution_count": 37,
   "metadata": {},
   "outputs": [
    {
     "name": "stdout",
     "output_type": "stream",
     "text": [
      "[ 3  9 15 21]\n",
      "[3, 9, 15, 21]\n"
     ]
    }
   ],
   "source": [
    "# 3열 데이터 조회\n",
    "print( a[:,3] ) # ndarray의 2차원 인덱싱, 슬라이싱 -> ar[row-indexing, col-indexing], ar[row-slicing, col-slicing]\n",
    "print( [ v[3] for v in b ] )\n"
   ]
  },
  {
   "cell_type": "code",
   "execution_count": 38,
   "metadata": {},
   "outputs": [
    {
     "name": "stdout",
     "output_type": "stream",
     "text": [
      "[[ 2  5]\n",
      " [ 8 11]\n",
      " [14 17]\n",
      " [20 23]]\n"
     ]
    }
   ],
   "source": [
    "print( a[:, [2, 5]]) # 모든 행의 2열, 5열 데이터 조회"
   ]
  },
  {
   "cell_type": "code",
   "execution_count": 39,
   "metadata": {},
   "outputs": [
    {
     "name": "stdout",
     "output_type": "stream",
     "text": [
      "[[ 6  7  8  9 10 11]\n",
      " [18 19 20 21 22 23]]\n"
     ]
    }
   ],
   "source": [
    "print(a[[1, 3], :]) # 1, 3행의 모든 열 데이터 조회\n"
   ]
  },
  {
   "cell_type": "code",
   "execution_count": 41,
   "metadata": {},
   "outputs": [
    {
     "name": "stdout",
     "output_type": "stream",
     "text": [
      "23\n",
      "23\n"
     ]
    }
   ],
   "source": [
    "# 3행 5열의 데이터 조회\n",
    "print( a[3, 5] )\n",
    "print( b[3][5] )\n"
   ]
  },
  {
   "cell_type": "code",
   "execution_count": 42,
   "metadata": {},
   "outputs": [
    {
     "data": {
      "text/plain": [
       "array([[13, 14, 15],\n",
       "       [19, 20, 21]])"
      ]
     },
     "execution_count": 42,
     "metadata": {},
     "output_type": "execute_result"
    }
   ],
   "source": [
    "# 2~4행(4행 포함), 1~3열(3열 포함) 데이터 조회\n",
    "a[2:5, 1:4]"
   ]
  }
 ],
 "metadata": {
  "kernelspec": {
   "display_name": "python-env-311",
   "language": "python",
   "name": "python3"
  },
  "language_info": {
   "codemirror_mode": {
    "name": "ipython",
    "version": 3
   },
   "file_extension": ".py",
   "mimetype": "text/x-python",
   "name": "python",
   "nbconvert_exporter": "python",
   "pygments_lexer": "ipython3",
   "version": "3.11.11"
  }
 },
 "nbformat": 4,
 "nbformat_minor": 2
}
