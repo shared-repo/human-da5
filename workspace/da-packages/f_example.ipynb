{
 "cells": [
  {
   "cell_type": "code",
   "execution_count": 1,
   "metadata": {},
   "outputs": [],
   "source": [
    "import numpy as np\n",
    "import pandas as pd\n",
    "import matplotlib.pyplot as plt"
   ]
  },
  {
   "cell_type": "code",
   "execution_count": 10,
   "metadata": {},
   "outputs": [
    {
     "name": "stdout",
     "output_type": "stream",
     "text": [
      "Index(['사용월', '호선명', '역ID', '지하철역', '유임승차', '유임하차', '무임승차', '무임하차', '작업일시'], dtype='object')\n",
      "     지하철역    유임승차비율    무임승차비율\n",
      "572  홍대입구  0.956434  0.043566\n",
      "    지하철역    유임승차비율    무임승차비율\n",
      "208  소요산  0.237237  0.762763\n"
     ]
    }
   ],
   "source": [
    "# data-files/subway-data-1.csv 파일 사용\n",
    "# 유임승차비율 = 유임승차 / (유임승차 + 무임승차)\n",
    "# 무임승차비율 = 무임승차 / (유임승차 + 무임승차)\n",
    "# 승차인원이 1000명 이상인 데이터만 사용\n",
    "# 유임승차비울과 무임승차비율이 가장 높은 지하철역을 각각 검색\n",
    "\n",
    "df_subway = pd.read_csv('data-files/subway-data-1.csv', thousands=\",\")\n",
    "print( df_subway.columns )\n",
    "# paid_ratio = df_subway['유임승차'] / (df_subway['유임승차'] + df_subway['무임승차'])\n",
    "df_subway['유임승차비율'] = df_subway['유임승차'] / (df_subway['유임승차'] + df_subway['무임승차'])\n",
    "df_subway['무임승차비율'] = df_subway['무임승차'] / (df_subway['유임승차'] + df_subway['무임승차'])\n",
    "# df_subway.head()\n",
    "\n",
    "df_subway['임계치이상'] = (df_subway['유임승차'] + df_subway['무임승차']) > 1000\n",
    "# df_subway.head()\n",
    "\n",
    "mask1 = df_subway['임계치이상']\n",
    "df_subway2 = df_subway[mask1]\n",
    "mask2 = df_subway2['유임승차비율'] == df_subway2['유임승차비율'].max()\n",
    "mask3 = df_subway2['무임승차비율'] == df_subway2['무임승차비율'].max()\n",
    "\n",
    "print( df_subway2[mask2].iloc[:, [3, -3, -2]] )\n",
    "print( df_subway2[mask3].iloc[:, [3, -3, -2]] )\n"
   ]
  }
 ],
 "metadata": {
  "kernelspec": {
   "display_name": "python-env-311",
   "language": "python",
   "name": "python3"
  },
  "language_info": {
   "codemirror_mode": {
    "name": "ipython",
    "version": 3
   },
   "file_extension": ".py",
   "mimetype": "text/x-python",
   "name": "python",
   "nbconvert_exporter": "python",
   "pygments_lexer": "ipython3",
   "version": "3.11.11"
  }
 },
 "nbformat": 4,
 "nbformat_minor": 2
}
