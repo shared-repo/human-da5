{
 "cells": [
  {
   "cell_type": "code",
   "execution_count": null,
   "metadata": {},
   "outputs": [],
   "source": [
    "# data-files/subway-data-1.csv 파일 사용\n",
    "# 유임승차비율 = 유임승차 / (유임승차 + 무임승차)\n",
    "# 무임승차비율 = 무임승차 / (유임승차 + 무임승차)\n",
    "# 유임승차비울과 무임승차비율이 가장 높은 지하철역을 각각 검색"
   ]
  }
 ],
 "metadata": {
  "kernelspec": {
   "display_name": "python-env-311",
   "language": "python",
   "name": "python3"
  },
  "language_info": {
   "name": "python",
   "version": "3.11.11"
  }
 },
 "nbformat": 4,
 "nbformat_minor": 2
}
