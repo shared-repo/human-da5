{
 "cells": [
  {
   "cell_type": "code",
   "execution_count": 23,
   "metadata": {},
   "outputs": [
    {
     "name": "stdout",
     "output_type": "stream",
     "text": [
      "Defaulting to user installation because normal site-packages is not writeable\n",
      "Collecting scikit-learn\n",
      "  Downloading scikit_learn-1.6.1-cp311-cp311-win_amd64.whl.metadata (15 kB)\n",
      "Requirement already satisfied: numpy>=1.19.5 in d:\\apps\\miniconda3\\envs\\python-env-311\\lib\\site-packages (from scikit-learn) (2.2.3)\n",
      "Collecting scipy>=1.6.0 (from scikit-learn)\n",
      "  Downloading scipy-1.15.2-cp311-cp311-win_amd64.whl.metadata (60 kB)\n",
      "Collecting joblib>=1.2.0 (from scikit-learn)\n",
      "  Downloading joblib-1.4.2-py3-none-any.whl.metadata (5.4 kB)\n",
      "Collecting threadpoolctl>=3.1.0 (from scikit-learn)\n",
      "  Downloading threadpoolctl-3.6.0-py3-none-any.whl.metadata (13 kB)\n",
      "Downloading scikit_learn-1.6.1-cp311-cp311-win_amd64.whl (11.1 MB)\n",
      "   ---------------------------------------- 0.0/11.1 MB ? eta -:--:--\n",
      "   -------- ------------------------------- 2.4/11.1 MB 12.3 MB/s eta 0:00:01\n",
      "   ---------------- ----------------------- 4.7/11.1 MB 11.9 MB/s eta 0:00:01\n",
      "   -------------------------- ------------- 7.3/11.1 MB 11.6 MB/s eta 0:00:01\n",
      "   --------------------------------- ------ 9.4/11.1 MB 11.7 MB/s eta 0:00:01\n",
      "   ---------------------------------------  11.0/11.1 MB 11.5 MB/s eta 0:00:01\n",
      "   ---------------------------------------- 11.1/11.1 MB 10.4 MB/s eta 0:00:00\n",
      "Downloading joblib-1.4.2-py3-none-any.whl (301 kB)\n",
      "Downloading scipy-1.15.2-cp311-cp311-win_amd64.whl (41.2 MB)\n",
      "   ---------------------------------------- 0.0/41.2 MB ? eta -:--:--\n",
      "   -- ------------------------------------- 2.1/41.2 MB 11.8 MB/s eta 0:00:04\n",
      "   ---- ----------------------------------- 4.7/41.2 MB 11.9 MB/s eta 0:00:04\n",
      "   ------ --------------------------------- 7.1/41.2 MB 11.8 MB/s eta 0:00:03\n",
      "   -------- ------------------------------- 8.4/41.2 MB 11.6 MB/s eta 0:00:03\n",
      "   -------- ------------------------------- 8.9/41.2 MB 8.7 MB/s eta 0:00:04\n",
      "   ---------- ----------------------------- 11.3/41.2 MB 9.0 MB/s eta 0:00:04\n",
      "   ------------- -------------------------- 13.6/41.2 MB 9.4 MB/s eta 0:00:03\n",
      "   --------------- ------------------------ 15.7/41.2 MB 9.4 MB/s eta 0:00:03\n",
      "   ----------------- ---------------------- 18.1/41.2 MB 9.7 MB/s eta 0:00:03\n",
      "   ------------------- -------------------- 20.4/41.2 MB 9.8 MB/s eta 0:00:03\n",
      "   --------------------- ------------------ 22.0/41.2 MB 9.5 MB/s eta 0:00:03\n",
      "   ---------------------- ----------------- 23.3/41.2 MB 9.2 MB/s eta 0:00:02\n",
      "   ----------------------- ---------------- 24.1/41.2 MB 8.9 MB/s eta 0:00:02\n",
      "   ------------------------ --------------- 25.7/41.2 MB 8.8 MB/s eta 0:00:02\n",
      "   -------------------------- ------------- 27.8/41.2 MB 8.8 MB/s eta 0:00:02\n",
      "   ---------------------------- ----------- 29.4/41.2 MB 8.8 MB/s eta 0:00:02\n",
      "   ----------------------------- ---------- 30.1/41.2 MB 8.5 MB/s eta 0:00:02\n",
      "   ------------------------------ --------- 31.2/41.2 MB 8.2 MB/s eta 0:00:02\n",
      "   ------------------------------- -------- 32.0/41.2 MB 8.1 MB/s eta 0:00:02\n",
      "   -------------------------------- ------- 33.3/41.2 MB 7.9 MB/s eta 0:00:02\n",
      "   --------------------------------- ------ 34.3/41.2 MB 7.8 MB/s eta 0:00:01\n",
      "   ---------------------------------- ----- 35.4/41.2 MB 7.7 MB/s eta 0:00:01\n",
      "   ----------------------------------- ---- 36.2/41.2 MB 7.5 MB/s eta 0:00:01\n",
      "   ----------------------------------- ---- 36.7/41.2 MB 7.3 MB/s eta 0:00:01\n",
      "   ------------------------------------ --- 37.2/41.2 MB 7.1 MB/s eta 0:00:01\n",
      "   ------------------------------------ --- 38.0/41.2 MB 6.9 MB/s eta 0:00:01\n",
      "   ------------------------------------- -- 38.5/41.2 MB 6.8 MB/s eta 0:00:01\n",
      "   ------------------------------------- -- 38.8/41.2 MB 6.7 MB/s eta 0:00:01\n",
      "   -------------------------------------- - 39.3/41.2 MB 6.5 MB/s eta 0:00:01\n",
      "   -------------------------------------- - 39.8/41.2 MB 6.4 MB/s eta 0:00:01\n",
      "   -------------------------------------- - 40.1/41.2 MB 6.3 MB/s eta 0:00:01\n",
      "   ---------------------------------------  40.4/41.2 MB 6.1 MB/s eta 0:00:01\n",
      "   ---------------------------------------  40.9/41.2 MB 5.9 MB/s eta 0:00:01\n",
      "   ---------------------------------------  41.2/41.2 MB 5.8 MB/s eta 0:00:01\n",
      "   ---------------------------------------- 41.2/41.2 MB 5.7 MB/s eta 0:00:00\n",
      "Downloading threadpoolctl-3.6.0-py3-none-any.whl (18 kB)\n",
      "Installing collected packages: threadpoolctl, scipy, joblib, scikit-learn\n",
      "Successfully installed joblib-1.4.2 scikit-learn-1.6.1 scipy-1.15.2 threadpoolctl-3.6.0\n"
     ]
    }
   ],
   "source": [
    " # 머신러닝 도구 패키지 설치\n",
    "!pip install scikit-learn"
   ]
  },
  {
   "cell_type": "code",
   "execution_count": 1,
   "metadata": {},
   "outputs": [],
   "source": [
    "import numpy as np\n",
    "import pandas as pd\n",
    "import matplotlib.pyplot as plt\n",
    "\n",
    "from io import StringIO # 문자열을 파일처럼 사용할 수 있도록 지원하는 모듈"
   ]
  },
  {
   "cell_type": "code",
   "execution_count": null,
   "metadata": {},
   "outputs": [
    {
     "data": {
      "text/html": [
       "<div>\n",
       "<style scoped>\n",
       "    .dataframe tbody tr th:only-of-type {\n",
       "        vertical-align: middle;\n",
       "    }\n",
       "\n",
       "    .dataframe tbody tr th {\n",
       "        vertical-align: top;\n",
       "    }\n",
       "\n",
       "    .dataframe thead th {\n",
       "        text-align: right;\n",
       "    }\n",
       "</style>\n",
       "<table border=\"1\" class=\"dataframe\">\n",
       "  <thead>\n",
       "    <tr style=\"text-align: right;\">\n",
       "      <th></th>\n",
       "      <th>A</th>\n",
       "      <th>B</th>\n",
       "      <th>C</th>\n",
       "      <th>D</th>\n",
       "    </tr>\n",
       "  </thead>\n",
       "  <tbody>\n",
       "    <tr>\n",
       "      <th>0</th>\n",
       "      <td>1.0</td>\n",
       "      <td>2.0</td>\n",
       "      <td>3.0</td>\n",
       "      <td>4.0</td>\n",
       "    </tr>\n",
       "    <tr>\n",
       "      <th>1</th>\n",
       "      <td>5.0</td>\n",
       "      <td>6.0</td>\n",
       "      <td>NaN</td>\n",
       "      <td>8.0</td>\n",
       "    </tr>\n",
       "    <tr>\n",
       "      <th>2</th>\n",
       "      <td>9.0</td>\n",
       "      <td>10.0</td>\n",
       "      <td>11.0</td>\n",
       "      <td>NaN</td>\n",
       "    </tr>\n",
       "  </tbody>\n",
       "</table>\n",
       "</div>"
      ],
      "text/plain": [
       "     A     B     C    D\n",
       "0  1.0   2.0   3.0  4.0\n",
       "1  5.0   6.0   NaN  8.0\n",
       "2  9.0  10.0  11.0  NaN"
      ]
     },
     "execution_count": 2,
     "metadata": {},
     "output_type": "execute_result"
    }
   ],
   "source": [
    "# 데이터 준비 \n",
    "\n",
    "csv_data = \"\"\"A,B,C,D\n",
    "1.0,2.0,3.0,4.0\n",
    "5.0,6.0,,8.0\n",
    "9.0,10.0,11.0,\n",
    "\"\"\"\n",
    "\n",
    "df = pd.read_csv(StringIO(csv_data))\n",
    "df"
   ]
  },
  {
   "cell_type": "code",
   "execution_count": 12,
   "metadata": {},
   "outputs": [
    {
     "data": {
      "text/plain": [
       "A    0\n",
       "B    0\n",
       "C    1\n",
       "D    1\n",
       "dtype: int64"
      ]
     },
     "execution_count": 12,
     "metadata": {},
     "output_type": "execute_result"
    }
   ],
   "source": [
    "# 결측 여부 확인\n",
    "# df.info()\n",
    "# df.isna()\n",
    "# df.isnull() # isna()와 동일한 기능\n",
    "# df.notna() # isna()와 반대 기능\n",
    "# df.notnull() # notna()와 동일한 기능\n",
    "df.isna().sum(axis=0) # False : 0, True : 1로 처리하기 때문에 sum()으로 결측값의 갯수 계산 가능"
   ]
  },
  {
   "cell_type": "code",
   "execution_count": 21,
   "metadata": {},
   "outputs": [
    {
     "data": {
      "text/html": [
       "<div>\n",
       "<style scoped>\n",
       "    .dataframe tbody tr th:only-of-type {\n",
       "        vertical-align: middle;\n",
       "    }\n",
       "\n",
       "    .dataframe tbody tr th {\n",
       "        vertical-align: top;\n",
       "    }\n",
       "\n",
       "    .dataframe thead th {\n",
       "        text-align: right;\n",
       "    }\n",
       "</style>\n",
       "<table border=\"1\" class=\"dataframe\">\n",
       "  <thead>\n",
       "    <tr style=\"text-align: right;\">\n",
       "      <th></th>\n",
       "      <th>A</th>\n",
       "      <th>B</th>\n",
       "      <th>C</th>\n",
       "      <th>D</th>\n",
       "    </tr>\n",
       "  </thead>\n",
       "  <tbody>\n",
       "    <tr>\n",
       "      <th>0</th>\n",
       "      <td>1.0</td>\n",
       "      <td>2.0</td>\n",
       "      <td>3.0</td>\n",
       "      <td>4.0</td>\n",
       "    </tr>\n",
       "    <tr>\n",
       "      <th>2</th>\n",
       "      <td>9.0</td>\n",
       "      <td>10.0</td>\n",
       "      <td>11.0</td>\n",
       "      <td>NaN</td>\n",
       "    </tr>\n",
       "  </tbody>\n",
       "</table>\n",
       "</div>"
      ],
      "text/plain": [
       "     A     B     C    D\n",
       "0  1.0   2.0   3.0  4.0\n",
       "2  9.0  10.0  11.0  NaN"
      ]
     },
     "execution_count": 21,
     "metadata": {},
     "output_type": "execute_result"
    }
   ],
   "source": [
    "# 결측 데이터 처리 1 : 행 / 열 삭제\n",
    "\n",
    "df.dropna() # axis=0 # NaN이 있는 행 제거\n",
    "df.dropna(axis=1) # NaN이 있는 열 제거\n",
    "df.dropna(how='all') # 행의 모든 값이 NaN일 때 제거\n",
    "df.dropna(how='any') # 행의 값 중 NaN이 한 개라도 있다면 제거\n",
    "df.dropna(thresh=3) # 지정된 갯수 이상의 값이 NaN이 아닐 때 행 보존 아니면 제거\n",
    "df.dropna(subset=['C']) # C컬럼의 값이 NaN인 행 제거"
   ]
  },
  {
   "cell_type": "code",
   "execution_count": 27,
   "metadata": {},
   "outputs": [
    {
     "data": {
      "text/plain": [
       "array([[  1.,   2.,   3.,   4.],\n",
       "       [  5.,   6., 100.,   8.],\n",
       "       [  9.,  10.,  11., 100.]])"
      ]
     },
     "execution_count": 27,
     "metadata": {},
     "output_type": "execute_result"
    }
   ],
   "source": [
    "# 결측 데이터 처리 2 : 다른 값으로 대체\n",
    "from sklearn.impute import SimpleImputer # 결측 값 대체 기능 모듈\n",
    "\n",
    "# imputer = SimpleImputer(strategy=\"mean\") # median, most_frequence, constant\n",
    "imputer = SimpleImputer(strategy=\"constant\", fill_value=100) # constant인 경우 채울 값 지정\n",
    "imputed_df = imputer.fit_transform(df)\n",
    "imputed_df"
   ]
  },
  {
   "cell_type": "code",
   "execution_count": 28,
   "metadata": {},
   "outputs": [
    {
     "data": {
      "text/html": [
       "<div>\n",
       "<style scoped>\n",
       "    .dataframe tbody tr th:only-of-type {\n",
       "        vertical-align: middle;\n",
       "    }\n",
       "\n",
       "    .dataframe tbody tr th {\n",
       "        vertical-align: top;\n",
       "    }\n",
       "\n",
       "    .dataframe thead th {\n",
       "        text-align: right;\n",
       "    }\n",
       "</style>\n",
       "<table border=\"1\" class=\"dataframe\">\n",
       "  <thead>\n",
       "    <tr style=\"text-align: right;\">\n",
       "      <th></th>\n",
       "      <th>color</th>\n",
       "      <th>size</th>\n",
       "      <th>price</th>\n",
       "      <th>classlabel</th>\n",
       "    </tr>\n",
       "  </thead>\n",
       "  <tbody>\n",
       "    <tr>\n",
       "      <th>0</th>\n",
       "      <td>green</td>\n",
       "      <td>M</td>\n",
       "      <td>10.1</td>\n",
       "      <td>class1</td>\n",
       "    </tr>\n",
       "    <tr>\n",
       "      <th>1</th>\n",
       "      <td>red</td>\n",
       "      <td>L</td>\n",
       "      <td>13.5</td>\n",
       "      <td>class2</td>\n",
       "    </tr>\n",
       "    <tr>\n",
       "      <th>2</th>\n",
       "      <td>blue</td>\n",
       "      <td>XL</td>\n",
       "      <td>15.3</td>\n",
       "      <td>class1</td>\n",
       "    </tr>\n",
       "  </tbody>\n",
       "</table>\n",
       "</div>"
      ],
      "text/plain": [
       "   color size  price classlabel\n",
       "0  green    M   10.1     class1\n",
       "1    red    L   13.5     class2\n",
       "2   blue   XL   15.3     class1"
      ]
     },
     "execution_count": 28,
     "metadata": {},
     "output_type": "execute_result"
    }
   ],
   "source": [
    "# 데이터 준비\n",
    "df2 = pd.DataFrame([\n",
    "    ['green', 'M', 10.1, 'class1'],\n",
    "    ['red', 'L', 13.5, 'class2'],\n",
    "    ['blue', 'XL', 15.3, 'class1'],\n",
    "])\n",
    "\n",
    "df2.columns = ['color', 'size', 'price', 'classlabel']\n",
    "df2"
   ]
  },
  {
   "cell_type": "code",
   "execution_count": 40,
   "metadata": {},
   "outputs": [
    {
     "data": {
      "text/html": [
       "<div>\n",
       "<style scoped>\n",
       "    .dataframe tbody tr th:only-of-type {\n",
       "        vertical-align: middle;\n",
       "    }\n",
       "\n",
       "    .dataframe tbody tr th {\n",
       "        vertical-align: top;\n",
       "    }\n",
       "\n",
       "    .dataframe thead th {\n",
       "        text-align: right;\n",
       "    }\n",
       "</style>\n",
       "<table border=\"1\" class=\"dataframe\">\n",
       "  <thead>\n",
       "    <tr style=\"text-align: right;\">\n",
       "      <th></th>\n",
       "      <th>color</th>\n",
       "      <th>size</th>\n",
       "      <th>price</th>\n",
       "      <th>classlabel</th>\n",
       "    </tr>\n",
       "  </thead>\n",
       "  <tbody>\n",
       "    <tr>\n",
       "      <th>0</th>\n",
       "      <td>green</td>\n",
       "      <td>M</td>\n",
       "      <td>10.1</td>\n",
       "      <td>0</td>\n",
       "    </tr>\n",
       "    <tr>\n",
       "      <th>1</th>\n",
       "      <td>red</td>\n",
       "      <td>L</td>\n",
       "      <td>13.5</td>\n",
       "      <td>1</td>\n",
       "    </tr>\n",
       "    <tr>\n",
       "      <th>2</th>\n",
       "      <td>blue</td>\n",
       "      <td>XL</td>\n",
       "      <td>15.3</td>\n",
       "      <td>0</td>\n",
       "    </tr>\n",
       "  </tbody>\n",
       "</table>\n",
       "</div>"
      ],
      "text/plain": [
       "   color size  price  classlabel\n",
       "0  green    M   10.1           0\n",
       "1    red    L   13.5           1\n",
       "2   blue   XL   15.3           0"
      ]
     },
     "execution_count": 40,
     "metadata": {},
     "output_type": "execute_result"
    }
   ],
   "source": [
    "# 범주 문자열 -> 숫자로 변환\n",
    "\n",
    "df2['classlabel'].unique() # 중복 제거하고 고유한 값만 반환\n",
    "df2['classlabel'].value_counts() # 중복 제거하고 고유한 값만 갯수와 함께 반환\n",
    "np.unique(df2['classlabel'], return_counts=True) # 중복 제거하고 고유한 값만 반환 ( 갯수도 반환 가능 )\n",
    "\n",
    "# mapping = {'class1':1, 'class2':2} # 변환 규칙 dict로 정의\n",
    "mapping = {\n",
    "    v: idx for idx, v in enumerate( df2['classlabel'].unique() )\n",
    "}\n",
    "\n",
    "df2['classlabel'] = df2['classlabel'].map(mapping) # 변환 규칙을 처리해서 값 변환 처리\n",
    "df2"
   ]
  },
  {
   "cell_type": "code",
   "execution_count": null,
   "metadata": {},
   "outputs": [
    {
     "data": {
      "text/plain": [
       "{0: 'class1', 1: 'class2'}"
      ]
     },
     "execution_count": 41,
     "metadata": {},
     "output_type": "execute_result"
    }
   ],
   "source": [
    "# 수치화된 범주형 데이터를 원래 데이터로 복원\n",
    "inverse_mapping = {\n",
    "    v:k for k, v in mapping.items()\n",
    "}\n",
    "inverse_mapping\n"
   ]
  }
 ],
 "metadata": {
  "kernelspec": {
   "display_name": "python-env-311",
   "language": "python",
   "name": "python3"
  },
  "language_info": {
   "codemirror_mode": {
    "name": "ipython",
    "version": 3
   },
   "file_extension": ".py",
   "mimetype": "text/x-python",
   "name": "python",
   "nbconvert_exporter": "python",
   "pygments_lexer": "ipython3",
   "version": "3.11.11"
  }
 },
 "nbformat": 4,
 "nbformat_minor": 2
}
