{
 "cells": [
  {
   "cell_type": "code",
   "execution_count": 1,
   "metadata": {},
   "outputs": [],
   "source": [
    "import numpy as np\n",
    "import pandas as pd\n",
    "import matplotlib.pyplot as plt"
   ]
  },
  {
   "cell_type": "code",
   "execution_count": 5,
   "metadata": {},
   "outputs": [
    {
     "data": {
      "text/html": [
       "<div>\n",
       "<style scoped>\n",
       "    .dataframe tbody tr th:only-of-type {\n",
       "        vertical-align: middle;\n",
       "    }\n",
       "\n",
       "    .dataframe tbody tr th {\n",
       "        vertical-align: top;\n",
       "    }\n",
       "\n",
       "    .dataframe thead th {\n",
       "        text-align: right;\n",
       "    }\n",
       "</style>\n",
       "<table border=\"1\" class=\"dataframe\">\n",
       "  <thead>\n",
       "    <tr style=\"text-align: right;\">\n",
       "      <th></th>\n",
       "      <th>english</th>\n",
       "      <th>mathematics</th>\n",
       "    </tr>\n",
       "    <tr>\n",
       "      <th>student number</th>\n",
       "      <th></th>\n",
       "      <th></th>\n",
       "    </tr>\n",
       "  </thead>\n",
       "  <tbody>\n",
       "    <tr>\n",
       "      <th>1</th>\n",
       "      <td>42</td>\n",
       "      <td>65</td>\n",
       "    </tr>\n",
       "    <tr>\n",
       "      <th>2</th>\n",
       "      <td>69</td>\n",
       "      <td>80</td>\n",
       "    </tr>\n",
       "    <tr>\n",
       "      <th>3</th>\n",
       "      <td>56</td>\n",
       "      <td>63</td>\n",
       "    </tr>\n",
       "    <tr>\n",
       "      <th>4</th>\n",
       "      <td>41</td>\n",
       "      <td>63</td>\n",
       "    </tr>\n",
       "    <tr>\n",
       "      <th>5</th>\n",
       "      <td>57</td>\n",
       "      <td>76</td>\n",
       "    </tr>\n",
       "  </tbody>\n",
       "</table>\n",
       "</div>"
      ],
      "text/plain": [
       "                english  mathematics\n",
       "student number                      \n",
       "1                    42           65\n",
       "2                    69           80\n",
       "3                    56           63\n",
       "4                    41           63\n",
       "5                    57           76"
      ]
     },
     "execution_count": 5,
     "metadata": {},
     "output_type": "execute_result"
    }
   ],
   "source": [
    "scores_df = pd.read_csv(\"data-files/ch2_scores_em.csv\")\n",
    "scores_df.head(3)\n",
    "scores_df.set_index('student number', inplace=True) # 일반 컬럼을 인덱스로 변환\n",
    "scores_df.head()"
   ]
  },
  {
   "cell_type": "code",
   "execution_count": null,
   "metadata": {},
   "outputs": [
    {
     "name": "stdout",
     "output_type": "stream",
     "text": [
      "english        58.38\n",
      "mathematics    78.88\n",
      "dtype: float64\n",
      "--------------------------------------------------\n",
      "58.38\n",
      "--------------------------------------------------\n",
      "[58.38 78.88]\n",
      "--------------------------------------------------\n",
      "[58.38 78.88]\n",
      "english        57.5\n",
      "mathematics    80.0\n",
      "dtype: float64\n",
      "--------------------------------------------------\n",
      "57.5\n",
      "--------------------------------------------------\n",
      "--------------------------------------------------\n",
      "[57.5 80. ]\n"
     ]
    }
   ],
   "source": [
    "print( scores_df.mean() )\n",
    "print(\"-\" * 50)\n",
    "print( scores_df['english'].mean() )\n",
    "print(\"-\" * 50)\n",
    "print( scores_df.values.mean(axis=0) ) # numpy array로 변환한 후 평균 계산\n",
    "print(\"-\" * 50)\n",
    "print( np.mean(scores_df.values, axis=0) )\n",
    "\n",
    "print( scores_df.median() )\n",
    "print(\"-\" * 50)\n",
    "print( scores_df['english'].median() )\n",
    "# print(\"-\" * 50)\n",
    "# print( scores_df.values.median(axis=0) ) # numpy array로 변환한 후 평균 계산\n",
    "print(\"-\" * 50)\n",
    "print( np.median(scores_df.values, axis=0) )"
   ]
  },
  {
   "cell_type": "code",
   "execution_count": 27,
   "metadata": {},
   "outputs": [
    {
     "name": "stdout",
     "output_type": "stream",
     "text": [
      "english        94.1156\n",
      "mathematics    69.3856\n",
      "dtype: float64\n",
      "--------------------------------------------------\n",
      "[94.1156 69.3856]\n",
      "--------------------------------------------------\n",
      "english        9.701319\n",
      "mathematics    8.329802\n",
      "dtype: float64\n",
      "--------------------------------------------------\n",
      "[9.7013195  8.32980192]\n",
      "--------------------------------------------------\n"
     ]
    }
   ],
   "source": [
    "print( scores_df.var(ddof=0) ) # ddof = 1이 기본값\n",
    "print(\"-\" * 50)\n",
    "print( scores_df.values.var(axis=0, ddof=0) ) # ddof = 0이 기본값\n",
    "print(\"-\" * 50)\n",
    "\n",
    "print( scores_df.std(ddof=0) ) # ddof = 0이 기본값\n",
    "print(\"-\" * 50)\n",
    "print( scores_df.values.std(axis=0, ddof=0) ) # ddof = 0이 기본값\n",
    "print(\"-\" * 50)"
   ]
  },
  {
   "cell_type": "code",
   "execution_count": 34,
   "metadata": {},
   "outputs": [
    {
     "name": "stdout",
     "output_type": "stream",
     "text": [
      "[[37.  57. ]\n",
      " [54.  76. ]\n",
      " [57.5 80. ]\n",
      " [65.  84. ]\n",
      " [79.  94. ]]\n",
      "--------------------------------------------------\n"
     ]
    },
    {
     "data": {
      "text/html": [
       "<div>\n",
       "<style scoped>\n",
       "    .dataframe tbody tr th:only-of-type {\n",
       "        vertical-align: middle;\n",
       "    }\n",
       "\n",
       "    .dataframe tbody tr th {\n",
       "        vertical-align: top;\n",
       "    }\n",
       "\n",
       "    .dataframe thead th {\n",
       "        text-align: right;\n",
       "    }\n",
       "</style>\n",
       "<table border=\"1\" class=\"dataframe\">\n",
       "  <thead>\n",
       "    <tr style=\"text-align: right;\">\n",
       "      <th></th>\n",
       "      <th>english</th>\n",
       "      <th>mathematics</th>\n",
       "    </tr>\n",
       "  </thead>\n",
       "  <tbody>\n",
       "    <tr>\n",
       "      <th>count</th>\n",
       "      <td>50.000000</td>\n",
       "      <td>50.000000</td>\n",
       "    </tr>\n",
       "    <tr>\n",
       "      <th>mean</th>\n",
       "      <td>58.380000</td>\n",
       "      <td>78.880000</td>\n",
       "    </tr>\n",
       "    <tr>\n",
       "      <th>std</th>\n",
       "      <td>9.799813</td>\n",
       "      <td>8.414371</td>\n",
       "    </tr>\n",
       "    <tr>\n",
       "      <th>min</th>\n",
       "      <td>37.000000</td>\n",
       "      <td>57.000000</td>\n",
       "    </tr>\n",
       "    <tr>\n",
       "      <th>25%</th>\n",
       "      <td>54.000000</td>\n",
       "      <td>76.000000</td>\n",
       "    </tr>\n",
       "    <tr>\n",
       "      <th>50%</th>\n",
       "      <td>57.500000</td>\n",
       "      <td>80.000000</td>\n",
       "    </tr>\n",
       "    <tr>\n",
       "      <th>75%</th>\n",
       "      <td>65.000000</td>\n",
       "      <td>84.000000</td>\n",
       "    </tr>\n",
       "    <tr>\n",
       "      <th>max</th>\n",
       "      <td>79.000000</td>\n",
       "      <td>94.000000</td>\n",
       "    </tr>\n",
       "  </tbody>\n",
       "</table>\n",
       "</div>"
      ],
      "text/plain": [
       "         english  mathematics\n",
       "count  50.000000    50.000000\n",
       "mean   58.380000    78.880000\n",
       "std     9.799813     8.414371\n",
       "min    37.000000    57.000000\n",
       "25%    54.000000    76.000000\n",
       "50%    57.500000    80.000000\n",
       "75%    65.000000    84.000000\n",
       "max    79.000000    94.000000"
      ]
     },
     "execution_count": 34,
     "metadata": {},
     "output_type": "execute_result"
    }
   ],
   "source": [
    "print( np.percentile(scores_df.values, [0, 25, 50, 75, 100], axis=0) )\n",
    "print(\"-\" * 50)\n",
    "scores_df.describe()"
   ]
  },
  {
   "cell_type": "code",
   "execution_count": 35,
   "metadata": {},
   "outputs": [],
   "source": [
    "from sklearn.preprocessing import StandardScaler\n",
    "\n",
    "sscaler = StandardScaler() # 평균 0, 표준편차 1의 분포의 데이터로 변경\n",
    "scaled_scores_df = sscaler.fit_transform(scores_df)"
   ]
  },
  {
   "cell_type": "code",
   "execution_count": 39,
   "metadata": {},
   "outputs": [
    {
     "name": "stdout",
     "output_type": "stream",
     "text": [
      "english        37\n",
      "mathematics    57\n",
      "dtype: int64\n",
      "english        79\n",
      "mathematics    94\n",
      "dtype: int64\n",
      "1.532107773982716e-16\n",
      "1.0\n"
     ]
    }
   ],
   "source": [
    "print( scores_df.min() )\n",
    "print( scores_df.max() )\n",
    "print( scaled_scores_df.mean() )\n",
    "print( scaled_scores_df.std() )"
   ]
  },
  {
   "cell_type": "code",
   "execution_count": 43,
   "metadata": {},
   "outputs": [
    {
     "data": {
      "image/png": "[encoded data removed]",
      "text/plain": [
       "<Figure size 640x480 with 1 Axes>"
      ]
     },
     "metadata": {},
     "output_type": "display_data"
    }
   ],
   "source": [
    "plt.hist( scores_df['mathematics'], bins=25, range=(0, 100) )\n",
    "plt.show()"
   ]
  },
  {
   "cell_type": "code",
   "execution_count": 44,
   "metadata": {},
   "outputs": [
    {
     "data": {
      "image/png": "[encoded data removed]",
      "text/plain": [
       "<Figure size 640x480 with 1 Axes>"
      ]
     },
     "metadata": {},
     "output_type": "display_data"
    }
   ],
   "source": [
    "plt.boxplot(scores_df['mathematics'])\n",
    "plt.show()"
   ]
  },
  {
   "cell_type": "code",
   "execution_count": null,
   "metadata": {},
   "outputs": [],
   "source": []
  },
  {
   "cell_type": "code",
   "execution_count": null,
   "metadata": {},
   "outputs": [
    {
     "name": "stdout",
     "output_type": "stream",
     "text": [
      "[[1.         0.72374149]\n",
      " [0.72374149 1.        ]]\n",
      "--------------------------------------------------\n",
      "              english  mathematics\n",
      "english      1.000000     0.723741\n",
      "mathematics  0.723741     1.000000\n",
      "--------------------------------------------------\n",
      "              english  mathematics\n",
      "english      1.000000     0.704585\n",
      "mathematics  0.704585     1.000000\n",
      "--------------------------------------------------\n",
      "              english  mathematics\n",
      "english      1.000000     0.531316\n",
      "mathematics  0.531316     1.000000\n"
     ]
    }
   ],
   "source": [
    "# 상관계수 1\n",
    "print( np.corrcoef(scores_df['mathematics'], scores_df['english']) )\n",
    "print(\"-\" * 50)\n",
    "\n",
    "print( scores_df.corr(method='pearson') )   # 이상치의 영향을 상대적으로 많이 받는 상관계수, 모수 통계 기반\n",
    "print(\"-\" * 50)\n",
    "print( scores_df.corr(method='spearman') )  # 이상치의 영향을 상대적으로 적게 받는 상관계수, 비모수 통계 기반\n",
    "print(\"-\" * 50)\n",
    "print( scores_df.corr(method='kendall') )   # 이상치의 영향을 상대적으로 적게 받는 상관계수, 비모수 통계 기반, 데이터 수가 적을 때 효과적 (10개 미만)"
   ]
  },
  {
   "cell_type": "code",
   "execution_count": null,
   "metadata": {},
   "outputs": [],
   "source": [
    "# 상관계수 2\n",
    "\n",
    "from scipy.stats import pearsonr, spearmanr, kendalltau\n",
    "\n",
    "print( pearsonr(scores_df['mathematics'], scores_df['english']) )\n",
    "print( spearmanr(scores_df['mathematics'], scores_df['english']) )\n",
    "print( kendalltau(scores_df['mathematics'], scores_df['english']) )"
   ]
  }
 ],
 "metadata": {
  "kernelspec": {
   "display_name": "python-env-311",
   "language": "python",
   "name": "python3"
  },
  "language_info": {
   "codemirror_mode": {
    "name": "ipython",
    "version": 3
   },
   "file_extension": ".py",
   "mimetype": "text/x-python",
   "name": "python",
   "nbconvert_exporter": "python",
   "pygments_lexer": "ipython3",
   "version": "3.11.11"
  }
 },
 "nbformat": 4,
 "nbformat_minor": 2
}
