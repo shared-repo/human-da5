{
 "cells": [
  {
   "cell_type": "code",
   "execution_count": 1,
   "metadata": {},
   "outputs": [],
   "source": [
    "import numpy as np\n",
    "import pandas as pd\n",
    "import matplotlib.pyplot as plt\n",
    "import seaborn as sns\n",
    "from scipy import stats"
   ]
  },
  {
   "cell_type": "code",
   "execution_count": 2,
   "metadata": {},
   "outputs": [],
   "source": [
    "dice = [1, 2, 3, 4, 5, 6]\n",
    "prob = [1/21, 2/21, 3/21, 4/21, 5/21, 6/21] # 정상이라면 [1/6, 1/6, 1/6, 1/6, 1/6, 1/6]"
   ]
  },
  {
   "cell_type": "code",
   "execution_count": 17,
   "metadata": {},
   "outputs": [],
   "source": [
    " # dice를 대상으로 prob 확률을 따라 100개의 데이터 무작위로 뽑기\n",
    "np.random.seed(42) # 같은 난수 발생의 재현을 위한 설정\n",
    "samples = np.random.choice(dice, size=100, p=prob)\n",
    "samples2 = np.random.choice(dice, size=10000, p=prob)"
   ]
  },
  {
   "cell_type": "code",
   "execution_count": 18,
   "metadata": {},
   "outputs": [],
   "source": [
    "freq, _ = np.histogram(samples, bins=6, range=(1, 7))\n",
    "freq2, _ = np.histogram(samples2, bins=6, range=(1, 7))"
   ]
  },
  {
   "cell_type": "code",
   "execution_count": null,
   "metadata": {},
   "outputs": [
    {
     "data": {
      "image/png": "[encoded data removed]",
      "text/plain": [
       "<Figure size 640x480 with 2 Axes>"
      ]
     },
     "metadata": {},
     "output_type": "display_data"
    }
   ],
   "source": [
    "fig, axes = plt.subplots(nrows=1, ncols=2, sharey=True)\n",
    "\n",
    "axes[0].bar(range(1, 7), freq)\n",
    "axes[1].bar(range(1, 7), freq2/100)\n",
    "plt.show()"
   ]
  },
  {
   "cell_type": "code",
   "execution_count": null,
   "metadata": {},
   "outputs": [],
   "source": [
    "np.random.seed(42)\n",
    "\n",
    "base_numbers = np.arange(1, 46)\n",
    "base_numbers\n",
    "prob = [1/45] * 45\n",
    "prob\n",
    "np.random.choice(base_numbers, 6, p=prob, replace=False) # replace=False : 비복원추출\n",
    "\n",
    "means = []\n",
    "for _ in range(100000):\n",
    "    numbers = np.random.choice(base_numbers, 6, p=prob, replace=False) # 6개 숫자 뽑기\n",
    "    # numbers = np.random.choice(base_numbers, 10, p=prob, replace=False) # 10개 숫자 뽑기\n",
    "    mean = np.mean(numbers) # 평균 계산\n",
    "    means.append(mean) # 평균 목록에 추가\n"
   ]
  },
  {
   "cell_type": "code",
   "execution_count": 39,
   "metadata": {},
   "outputs": [
    {
     "data": {
      "image/png": "[encoded data removed]",
      "text/plain": [
       "<Figure size 640x480 with 1 Axes>"
      ]
     },
     "metadata": {},
     "output_type": "display_data"
    }
   ],
   "source": [
    "plt.hist(means, bins=70)\n",
    "plt.show()"
   ]
  },
  {
   "cell_type": "code",
   "execution_count": 29,
   "metadata": {},
   "outputs": [
    {
     "data": {
      "text/plain": [
       "39.0"
      ]
     },
     "execution_count": 29,
     "metadata": {},
     "output_type": "execute_result"
    }
   ],
   "source": [
    "42.5-3.5"
   ]
  },
  {
   "cell_type": "code",
   "execution_count": null,
   "metadata": {},
   "outputs": [],
   "source": []
  },
  {
   "cell_type": "code",
   "execution_count": 2,
   "metadata": {},
   "outputs": [
    {
     "data": {
      "text/html": [
       "<div>\n",
       "<style scoped>\n",
       "    .dataframe tbody tr th:only-of-type {\n",
       "        vertical-align: middle;\n",
       "    }\n",
       "\n",
       "    .dataframe tbody tr th {\n",
       "        vertical-align: top;\n",
       "    }\n",
       "\n",
       "    .dataframe thead th {\n",
       "        text-align: right;\n",
       "    }\n",
       "</style>\n",
       "<table border=\"1\" class=\"dataframe\">\n",
       "  <thead>\n",
       "    <tr style=\"text-align: right;\">\n",
       "      <th></th>\n",
       "      <th>무게</th>\n",
       "    </tr>\n",
       "  </thead>\n",
       "  <tbody>\n",
       "    <tr>\n",
       "      <th>0</th>\n",
       "      <td>122.02</td>\n",
       "    </tr>\n",
       "    <tr>\n",
       "      <th>1</th>\n",
       "      <td>131.73</td>\n",
       "    </tr>\n",
       "    <tr>\n",
       "      <th>2</th>\n",
       "      <td>130.60</td>\n",
       "    </tr>\n",
       "    <tr>\n",
       "      <th>3</th>\n",
       "      <td>131.82</td>\n",
       "    </tr>\n",
       "    <tr>\n",
       "      <th>4</th>\n",
       "      <td>132.05</td>\n",
       "    </tr>\n",
       "    <tr>\n",
       "      <th>5</th>\n",
       "      <td>126.12</td>\n",
       "    </tr>\n",
       "    <tr>\n",
       "      <th>6</th>\n",
       "      <td>124.43</td>\n",
       "    </tr>\n",
       "    <tr>\n",
       "      <th>7</th>\n",
       "      <td>132.89</td>\n",
       "    </tr>\n",
       "    <tr>\n",
       "      <th>8</th>\n",
       "      <td>122.79</td>\n",
       "    </tr>\n",
       "    <tr>\n",
       "      <th>9</th>\n",
       "      <td>129.95</td>\n",
       "    </tr>\n",
       "    <tr>\n",
       "      <th>10</th>\n",
       "      <td>126.14</td>\n",
       "    </tr>\n",
       "    <tr>\n",
       "      <th>11</th>\n",
       "      <td>134.45</td>\n",
       "    </tr>\n",
       "    <tr>\n",
       "      <th>12</th>\n",
       "      <td>127.64</td>\n",
       "    </tr>\n",
       "    <tr>\n",
       "      <th>13</th>\n",
       "      <td>125.68</td>\n",
       "    </tr>\n",
       "  </tbody>\n",
       "</table>\n",
       "</div>"
      ],
      "text/plain": [
       "        무게\n",
       "0   122.02\n",
       "1   131.73\n",
       "2   130.60\n",
       "3   131.82\n",
       "4   132.05\n",
       "5   126.12\n",
       "6   124.43\n",
       "7   132.89\n",
       "8   122.79\n",
       "9   129.95\n",
       "10  126.14\n",
       "11  134.45\n",
       "12  127.64\n",
       "13  125.68"
      ]
     },
     "execution_count": 2,
     "metadata": {},
     "output_type": "execute_result"
    }
   ],
   "source": [
    "df_potato = pd.read_csv('data-files/ch11_potato.csv')\n",
    "df_potato.shape\n",
    "df_potato"
   ]
  },
  {
   "cell_type": "code",
   "execution_count": 4,
   "metadata": {},
   "outputs": [
    {
     "data": {
      "text/plain": [
       "(무게    128.450714\n",
       " dtype: float64,\n",
       " 무게    3.838678\n",
       " dtype: float64)"
      ]
     },
     "execution_count": 4,
     "metadata": {},
     "output_type": "execute_result"
    }
   ],
   "source": [
    "df_potato.mean(), df_potato.std(ddof=0)"
   ]
  },
  {
   "cell_type": "code",
   "execution_count": null,
   "metadata": {},
   "outputs": [
    {
     "data": {
      "text/plain": [
       "ShapiroResult(statistic=np.float64(0.9412716764774873), pvalue=np.float64(0.43486250497195694))"
      ]
     },
     "execution_count": 10,
     "metadata": {},
     "output_type": "execute_result"
    }
   ],
   "source": [
    "# 정규성 테스트\n",
    "stats.shapiro(df_potato.values)"
   ]
  },
  {
   "cell_type": "code",
   "execution_count": 9,
   "metadata": {},
   "outputs": [
    {
     "data": {
      "text/plain": [
       "TtestResult(statistic=array([-4.27300298]), pvalue=array([0.00045379]), df=array([13]))"
      ]
     },
     "execution_count": 9,
     "metadata": {},
     "output_type": "execute_result"
    }
   ],
   "source": [
    "# 감자 샘플의 무게 평균은 128.45이지만 실제 모집단의 무게 평균은 133 이라는 주장을 검정\n",
    "# 감자 샘플은 표준 감자 품질(무게 133)보다 낮다는 주장을 검정\n",
    "\n",
    "# stats.ttest_1samp(df_potato.values, 133)\n",
    "# stats.ttest_1samp(df_potato.values, 130.5)\n",
    "\n",
    "# stats.ttest_1samp(df_potato.values, 133, alternative=\"two-sided\") # 양측검정 ( 가설 : == )\n",
    "stats.ttest_1samp(df_potato.values, 133, alternative=\"less\") # 단측검정 ( 가설 : < )\n",
    "# stats.ttest_1samp(df_potato.values, 133, alternative=\"greater\") # 단측검정 ( 가설 : > )"
   ]
  },
  {
   "cell_type": "code",
   "execution_count": null,
   "metadata": {},
   "outputs": [],
   "source": []
  },
  {
   "cell_type": "code",
   "execution_count": 17,
   "metadata": {},
   "outputs": [
    {
     "name": "stdout",
     "output_type": "stream",
     "text": [
      "5.399999999999999\n",
      "5.4\n",
      "TtestResult(statistic=np.float64(-2.204154108716127), pvalue=np.float64(0.04004419061842953), df=np.int64(19))\n",
      "TtestResult(statistic=np.float64(-1.8997443074539122), pvalue=np.float64(0.0650756655596349), df=np.float64(38.0))\n"
     ]
    }
   ],
   "source": [
    "# 연속형 데이터 2표본(대응표본)에 대한 가설 검정\n",
    "\n",
    "df_training_rel = pd.read_csv('data-files/ch11_training_rel.csv')\n",
    "df_training_rel\n",
    "\n",
    "before = df_training_rel['전'].values\n",
    "after = df_training_rel['후'].values\n",
    "\n",
    "print( after.mean() - before.mean() )\n",
    "print( (after - before).mean() )\n",
    "\n",
    "print( stats.ttest_rel(before, after) ) # 대응표본 test 방식\n",
    "print( stats.ttest_ind(before, after) ) # 독립표본 test 방식"
   ]
  }
 ],
 "metadata": {
  "kernelspec": {
   "display_name": "python-env-311",
   "language": "python",
   "name": "python3"
  },
  "language_info": {
   "codemirror_mode": {
    "name": "ipython",
    "version": 3
   },
   "file_extension": ".py",
   "mimetype": "text/x-python",
   "name": "python",
   "nbconvert_exporter": "python",
   "pygments_lexer": "ipython3",
   "version": "3.11.11"
  }
 },
 "nbformat": 4,
 "nbformat_minor": 2
}
