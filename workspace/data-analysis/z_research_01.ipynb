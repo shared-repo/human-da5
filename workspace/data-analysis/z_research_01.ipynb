{
 "cells": [
  {
   "cell_type": "code",
   "execution_count": null,
   "metadata": {},
   "outputs": [
    {
     "name": "stdout",
     "output_type": "stream",
     "text": [
      "Defaulting to user installation because normal site-packages is not writeable\n",
      "Collecting openai\n",
      "  Downloading openai-1.68.2-py3-none-any.whl.metadata (25 kB)\n",
      "Requirement already satisfied: anyio<5,>=3.5.0 in d:\\apps\\miniconda3\\envs\\python-env-311\\lib\\site-packages (from openai) (4.8.0)\n",
      "Collecting distro<2,>=1.7.0 (from openai)\n",
      "  Downloading distro-1.9.0-py3-none-any.whl.metadata (6.8 kB)\n",
      "Requirement already satisfied: httpx<1,>=0.23.0 in d:\\apps\\miniconda3\\envs\\python-env-311\\lib\\site-packages (from openai) (0.28.1)\n",
      "Collecting jiter<1,>=0.4.0 (from openai)\n",
      "  Downloading jiter-0.9.0-cp311-cp311-win_amd64.whl.metadata (5.3 kB)\n",
      "Collecting pydantic<3,>=1.9.0 (from openai)\n",
      "  Downloading pydantic-2.10.6-py3-none-any.whl.metadata (30 kB)\n",
      "Requirement already satisfied: sniffio in d:\\apps\\miniconda3\\envs\\python-env-311\\lib\\site-packages (from openai) (1.3.1)\n",
      "Collecting tqdm>4 (from openai)\n",
      "  Downloading tqdm-4.67.1-py3-none-any.whl.metadata (57 kB)\n",
      "Requirement already satisfied: typing-extensions<5,>=4.11 in d:\\apps\\miniconda3\\envs\\python-env-311\\lib\\site-packages (from openai) (4.12.2)\n",
      "Requirement already satisfied: idna>=2.8 in d:\\apps\\miniconda3\\envs\\python-env-311\\lib\\site-packages (from anyio<5,>=3.5.0->openai) (3.10)\n",
      "Requirement already satisfied: certifi in d:\\apps\\miniconda3\\envs\\python-env-311\\lib\\site-packages (from httpx<1,>=0.23.0->openai) (2025.1.31)\n",
      "Requirement already satisfied: httpcore==1.* in d:\\apps\\miniconda3\\envs\\python-env-311\\lib\\site-packages (from httpx<1,>=0.23.0->openai) (1.0.7)\n",
      "Requirement already satisfied: h11<0.15,>=0.13 in d:\\apps\\miniconda3\\envs\\python-env-311\\lib\\site-packages (from httpcore==1.*->httpx<1,>=0.23.0->openai) (0.14.0)\n",
      "Collecting annotated-types>=0.6.0 (from pydantic<3,>=1.9.0->openai)\n",
      "  Downloading annotated_types-0.7.0-py3-none-any.whl.metadata (15 kB)\n",
      "Collecting pydantic-core==2.27.2 (from pydantic<3,>=1.9.0->openai)\n",
      "  Downloading pydantic_core-2.27.2-cp311-cp311-win_amd64.whl.metadata (6.7 kB)\n",
      "Requirement already satisfied: colorama in d:\\apps\\miniconda3\\envs\\python-env-311\\lib\\site-packages (from tqdm>4->openai) (0.4.6)\n",
      "Downloading openai-1.68.2-py3-none-any.whl (606 kB)\n",
      "   ---------------------------------------- 0.0/606.1 kB ? eta -:--:--\n",
      "   ---------------------------------------- 606.1/606.1 kB 7.3 MB/s eta 0:00:00\n",
      "Downloading distro-1.9.0-py3-none-any.whl (20 kB)\n",
      "Downloading jiter-0.9.0-cp311-cp311-win_amd64.whl (210 kB)\n",
      "Downloading pydantic-2.10.6-py3-none-any.whl (431 kB)\n",
      "Downloading pydantic_core-2.27.2-cp311-cp311-win_amd64.whl (2.0 MB)\n",
      "   ---------------------------------------- 0.0/2.0 MB ? eta -:--:--\n",
      "   ------------------------------- -------- 1.6/2.0 MB 8.3 MB/s eta 0:00:01\n",
      "   ---------------------------------------- 2.0/2.0 MB 5.2 MB/s eta 0:00:00\n",
      "Downloading tqdm-4.67.1-py3-none-any.whl (78 kB)\n",
      "Downloading annotated_types-0.7.0-py3-none-any.whl (13 kB)\n",
      "Installing collected packages: tqdm, pydantic-core, jiter, distro, annotated-types, pydantic, openai\n",
      "Successfully installed annotated-types-0.7.0 distro-1.9.0 jiter-0.9.0 openai-1.68.2 pydantic-2.10.6 pydantic-core-2.27.2 tqdm-4.67.1\n"
     ]
    },
    {
     "name": "stderr",
     "output_type": "stream",
     "text": [
      "  WARNING: The script tqdm.exe is installed in 'C:\\Users\\human\\AppData\\Roaming\\Python\\Python311\\Scripts' which is not on PATH.\n",
      "  Consider adding this directory to PATH or, if you prefer to suppress this warning, use --no-warn-script-location.\n",
      "  WARNING: The script distro.exe is installed in 'C:\\Users\\human\\AppData\\Roaming\\Python\\Python311\\Scripts' which is not on PATH.\n",
      "  Consider adding this directory to PATH or, if you prefer to suppress this warning, use --no-warn-script-location.\n",
      "  WARNING: The script openai.exe is installed in 'C:\\Users\\human\\AppData\\Roaming\\Python\\Python311\\Scripts' which is not on PATH.\n",
      "  Consider adding this directory to PATH or, if you prefer to suppress this warning, use --no-warn-script-location.\n"
     ]
    }
   ],
   "source": [
    "# chatgpt api 서비스 사용을 위해 패키지 설치\n",
    "!pip install openai"
   ]
  },
  {
   "cell_type": "code",
   "execution_count": 2,
   "metadata": {},
   "outputs": [],
   "source": [
    "import openai"
   ]
  },
  {
   "cell_type": "code",
   "execution_count": null,
   "metadata": {},
   "outputs": [],
   "source": [
    "API_KEY = \"\""
   ]
  },
  {
   "cell_type": "code",
   "execution_count": 5,
   "metadata": {},
   "outputs": [],
   "source": [
    "client = openai.OpenAI(api_key=API_KEY) # openai api에 연결된 객체 생성"
   ]
  },
  {
   "cell_type": "code",
   "execution_count": 11,
   "metadata": {},
   "outputs": [],
   "source": [
    "response = client.chat.completions.create(\n",
    "    model='gpt-4o',\n",
    "    messages=[\n",
    "        { \"role\": \"system\", \"content\": \"당신은 모든 것을 알고있는 친절한 비서입니다. 질문에 가능한 간결하게 답변해 주세요\" },\n",
    "        { \"role\": \"user\", \"content\": \"미세먼지가 많은 날 저녁 메뉴와 레시피를 알려주세요\" }\n",
    "    ]\n",
    ")"
   ]
  },
  {
   "cell_type": "code",
   "execution_count": 12,
   "metadata": {},
   "outputs": [
    {
     "name": "stdout",
     "output_type": "stream",
     "text": [
      "미세먼지가 많은 날에는 면역력과 폐 건강에 좋은 음식을 선택하는 것이 중요합니다. 다음은 간단한 삼겹살 배추찜을 추천합니다.\n",
      "\n",
      "**삼겹살 배추찜 재료:**\n",
      "\n",
      "- 삼겹살 300g\n",
      "- 배추 1/4포기\n",
      "- 마늘 5쪽\n",
      "- 생강 약간\n",
      "- 파 약간\n",
      "- 간장 2큰술\n",
      "- 참기름 1큰술\n",
      "- 깨소금 약간\n",
      "\n",
      "**레시피:**\n",
      "\n",
      "1. 배추는 잎을 떼어내어 깨끗이 씻고, 잎과 줄기 부분을 썰어 준비합니다.\n",
      "2. 삼겹살은 한 입 크기로 썰어 놓습니다.\n",
      "3. 마늘과 생강은 얇게 저며 준비합니다. 파는 송송 썰어줍니다.\n",
      "4. 큰 냄비에 배추를 깔고 그 위에 삼겹살, 마늘, 생강, 파를 올립니다.\n",
      "5. 간장과 참기름을 골고루 뿌립니다.\n",
      "6. 뚜껑을 덮고 중약 불에서 배추가 무를 때까지 찝니다.\n",
      "7. 접시에 담고 깨소금을 뿌려서 완성합니다.\n",
      "\n",
      "이 메뉴는 간단하면서도 영양가가 있으며, 배추의 비타민과 삼겹살의 단백질이 건강에 도움을 줍니다.\n"
     ]
    }
   ],
   "source": [
    "print( response.choices[0].message.content )"
   ]
  },
  {
   "cell_type": "code",
   "execution_count": null,
   "metadata": {},
   "outputs": [],
   "source": [
    "response = client.chat.completions.create(\n",
    "    model='gpt-4o',\n",
    "    messages=[\n",
    "        { \"role\": \"system\", \"content\": \"당신은 모든 것을 알고있는 친절한 비서입니다. 질문에 가능한 간결하게 답변해 주세요\" },\n",
    "        { \"role\": \"user\", \"content\": \"2023년 한국시리즈 우승팀을 알려주세요\" },\n",
    "        { \"role\": \"assistant\", \"content\": \"2023년 한국시리즈 우승팀은 LG트윈스입니다.\" },\n",
    "        { \"role\": \"user\", \"content\": \"마지막 경기가 열린 장소를 알려주세요\" }\n",
    "    ]\n",
    ")"
   ]
  },
  {
   "cell_type": "code",
   "execution_count": 21,
   "metadata": {},
   "outputs": [
    {
     "name": "stdout",
     "output_type": "stream",
     "text": [
      "어떤 경기를 말씀하시는지 구체적으로 알려주시면 장소 정보를 제공할 수 있습니다.\n"
     ]
    }
   ],
   "source": [
    "print( response.choices[0].message.content )"
   ]
  }
 ],
 "metadata": {
  "kernelspec": {
   "display_name": "python-env-311",
   "language": "python",
   "name": "python3"
  },
  "language_info": {
   "codemirror_mode": {
    "name": "ipython",
    "version": 3
   },
   "file_extension": ".py",
   "mimetype": "text/x-python",
   "name": "python",
   "nbconvert_exporter": "python",
   "pygments_lexer": "ipython3",
   "version": "3.11.11"
  }
 },
 "nbformat": 4,
 "nbformat_minor": 2
}
