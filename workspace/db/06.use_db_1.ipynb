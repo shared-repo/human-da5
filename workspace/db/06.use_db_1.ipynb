{
 "cells": [
  {
   "cell_type": "code",
   "execution_count": null,
   "metadata": {},
   "outputs": [
    {
     "name": "stdout",
     "output_type": "stream",
     "text": [
      "Defaulting to user installation because normal site-packages is not writeable\n",
      "Requirement already satisfied: pymysql in c:\\users\\human\\appdata\\roaming\\python\\python311\\site-packages (1.1.1)\n",
      "Collecting cryptography\n",
      "  Downloading cryptography-44.0.2-cp39-abi3-win_amd64.whl.metadata (5.7 kB)\n",
      "Requirement already satisfied: cffi>=1.12 in d:\\apps\\miniconda3\\envs\\python-env-311\\lib\\site-packages (from cryptography) (1.17.1)\n",
      "Requirement already satisfied: pycparser in d:\\apps\\miniconda3\\envs\\python-env-311\\lib\\site-packages (from cffi>=1.12->cryptography) (2.22)\n",
      "Downloading cryptography-44.0.2-cp39-abi3-win_amd64.whl (3.2 MB)\n",
      "   ---------------------------------------- 0.0/3.2 MB ? eta -:--:--\n",
      "   ------------------- -------------------- 1.6/3.2 MB 10.5 MB/s eta 0:00:01\n",
      "   ----------------------------------- ---- 2.9/3.2 MB 7.0 MB/s eta 0:00:01\n",
      "   ---------------------------------------- 3.2/3.2 MB 6.5 MB/s eta 0:00:00\n",
      "Installing collected packages: cryptography\n",
      "Successfully installed cryptography-44.0.2\n"
     ]
    }
   ],
   "source": [
    "# mysql 데이터베이스 연동 패키지(모듈) 설치\n",
    "\n",
    "!pip install pymysql cryptography"
   ]
  },
  {
   "cell_type": "code",
   "execution_count": 3,
   "metadata": {},
   "outputs": [],
   "source": [
    "# 패키지(모듈) 준비\n",
    "import pymysql"
   ]
  },
  {
   "cell_type": "code",
   "execution_count": null,
   "metadata": {},
   "outputs": [],
   "source": [
    "# 데이터 연동 1. 연결\n",
    "conn = pymysql.connect(\n",
    "    host=\"localhost\", # 이 코드가 실행되는 컴퓨터 == 127.0.0.1\n",
    "    user=\"humanda5\",\n",
    "    password=\"humanda5\",\n",
    "    database=\"sakila\"\n",
    ")\n",
    "\n",
    "print( conn )"
   ]
  },
  {
   "cell_type": "code",
   "execution_count": 7,
   "metadata": {},
   "outputs": [],
   "source": [
    "# 데이터 연동 2. 명령 실행기 준비\n",
    "cursor = conn.cursor()"
   ]
  },
  {
   "cell_type": "code",
   "execution_count": 8,
   "metadata": {},
   "outputs": [
    {
     "data": {
      "text/plain": [
       "10"
      ]
     },
     "execution_count": 8,
     "metadata": {},
     "output_type": "execute_result"
    }
   ],
   "source": [
    "# 데이터 연동 3. 명령 실행 ( SQL 작성 + 실행 )\n",
    "sql = \"\"\"select film_id, title, release_year, length, rating \n",
    "         from film \n",
    "         limit 10\"\"\"\n",
    "cursor.execute(sql)\n"
   ]
  },
  {
   "cell_type": "code",
   "execution_count": 9,
   "metadata": {},
   "outputs": [
    {
     "name": "stdout",
     "output_type": "stream",
     "text": [
      "<class 'tuple'> (1, 'ACADEMY DINOSAUR', 2006, 86, 'PG')\n",
      "<class 'tuple'> (2, 'ACE GOLDFINGER', 2006, 48, 'G')\n",
      "<class 'tuple'> (3, 'ADAPTATION HOLES', 2006, 50, 'NC-17')\n",
      "<class 'tuple'> (4, 'AFFAIR PREJUDICE', 2006, 117, 'G')\n",
      "<class 'tuple'> (5, 'AFRICAN EGG', 2006, 130, 'G')\n",
      "<class 'tuple'> (6, 'AGENT TRUMAN', 2006, 169, 'PG')\n",
      "<class 'tuple'> (7, 'AIRPLANE SIERRA', 2006, 62, 'PG-13')\n",
      "<class 'tuple'> (8, 'AIRPORT POLLOCK', 2006, 54, 'R')\n",
      "<class 'tuple'> (9, 'ALABAMA DEVIL', 2006, 114, 'PG-13')\n",
      "<class 'tuple'> (10, 'ALADDIN CALENDAR', 2006, 63, 'NC-17')\n"
     ]
    }
   ],
   "source": [
    "# 데이터 연동 4. 조회 결과 읽기 (select query를 실행한 경우)\n",
    "rows = cursor.fetchall()\n",
    "for row in rows:\n",
    "    print(type(row), row)"
   ]
  },
  {
   "cell_type": "code",
   "execution_count": 10,
   "metadata": {},
   "outputs": [],
   "source": [
    "# 데이터 연동 5. 연결 종료\n",
    "cursor.close()\n",
    "conn.close()"
   ]
  }
 ],
 "metadata": {
  "kernelspec": {
   "display_name": "python-env-311",
   "language": "python",
   "name": "python3"
  },
  "language_info": {
   "codemirror_mode": {
    "name": "ipython",
    "version": 3
   },
   "file_extension": ".py",
   "mimetype": "text/x-python",
   "name": "python",
   "nbconvert_exporter": "python",
   "pygments_lexer": "ipython3",
   "version": "3.11.11"
  }
 },
 "nbformat": 4,
 "nbformat_minor": 2
}
