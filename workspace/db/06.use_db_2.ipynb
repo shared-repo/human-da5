{
 "cells": [
  {
   "cell_type": "code",
   "execution_count": null,
   "metadata": {},
   "outputs": [],
   "source": [
    "# data_repo database 만들기\n",
    "# iris dataset 저장 테이블 만들기\n",
    "# iris dataset 파일의 데이터를 위에서 만든 테이블에 저장"
   ]
  },
  {
   "cell_type": "code",
   "execution_count": 1,
   "metadata": {},
   "outputs": [],
   "source": [
    "# 데이터베이스 연동 패키지(모듈) 준비\n",
    "import pymysql"
   ]
  },
  {
   "cell_type": "code",
   "execution_count": 4,
   "metadata": {},
   "outputs": [
    {
     "name": "stdout",
     "output_type": "stream",
     "text": [
      "데이터베이스 생성 완료\n"
     ]
    }
   ],
   "source": [
    "# 1. 데이터베이스 만들기\n",
    "\n",
    "try:\n",
    "    # 데이터베이스 연결\n",
    "    conn = pymysql.connect(\n",
    "        host=\"127.0.0.1\",\n",
    "        user=\"root\",\n",
    "        password=\"human\"\n",
    "    )\n",
    "    # 명령 실행기 준비\n",
    "    cursor = conn.cursor()\n",
    "    # 명령 실행\n",
    "    cursor.execute(\"drop database if exists data_repo\")\n",
    "    cursor.execute(\"create database if not exists data_repo\")\n",
    "    cursor.execute(\"grant all privileges on data_repo.* to humanda5@localhost\")\n",
    "    cursor.execute('grant all privileges on data_repo.* to humanda5@\"%\"')\n",
    "    conn.commit()\n",
    "    print(\"데이터베이스 생성 완료\")\n",
    "except Exception as e:\n",
    "    print(\"오류 발생 : \", e)\n",
    "    if conn:\n",
    "        conn.rollback()\n",
    "finally:\n",
    "    # 연결 종료\n",
    "    if cursor:\n",
    "        cursor.close()\n",
    "    if conn:\n",
    "        conn.close()"
   ]
  },
  {
   "cell_type": "code",
   "execution_count": null,
   "metadata": {},
   "outputs": [],
   "source": [
    "# 2. 테이블 만들기\n",
    "\n",
    "try:\n",
    "    # 데이터베이스 연결\n",
    "    conn = pymysql.connect(\n",
    "        host=\"127.0.0.1\",\n",
    "        user=\"humanda5\",\n",
    "        password=\"humanda5\",\n",
    "        database=\"data_repo\"\n",
    "    )\n",
    "\n",
    "    # 명령 실행기 준비\n",
    "    cursor = conn.cursor()\n",
    "\n",
    "    # 명령 실행\n",
    "    sql = \"\"\"create table if not exists iris\n",
    "          (\n",
    "            idx int primary key auto_increment,\n",
    "            sepal_length float not null,\n",
    "            sepal_width float not null,\n",
    "            petal_length float not null,\n",
    "            petal_width float not null,\n",
    "            species varchar(50) not null\n",
    "          )\"\"\"\n",
    "    cursor.execute(sql)    \n",
    "except Exception as e:\n",
    "    print(\"오류 발생 : \", e)\n",
    "finally:\n",
    "    # 연결 종료\n",
    "    if cursor:\n",
    "        cursor.close()\n",
    "    if conn:\n",
    "        conn.close()"
   ]
  },
  {
   "cell_type": "code",
   "execution_count": 8,
   "metadata": {},
   "outputs": [],
   "source": [
    "# 데이터 분석 패키지 준비\n",
    "import numpy as np\n",
    "import pandas as pd\n",
    "import matplotlib.pyplot as plt"
   ]
  },
  {
   "cell_type": "code",
   "execution_count": 16,
   "metadata": {},
   "outputs": [
    {
     "name": "stdout",
     "output_type": "stream",
     "text": [
      "     0    1    2    3            4\n",
      "0  5.1  3.5  1.4  0.2  Iris-setosa\n",
      "1  4.9  3.0  1.4  0.2  Iris-setosa\n",
      "2  4.7  3.2  1.3  0.2  Iris-setosa\n",
      "<class 'numpy.ndarray'>\n",
      "[[5.1 3.5 1.4 0.2 'Iris-setosa']\n",
      " [4.9 3.0 1.4 0.2 'Iris-setosa']\n",
      " [4.7 3.2 1.3 0.2 'Iris-setosa']]\n",
      "<class 'list'>\n",
      "[[5.1, 3.5, 1.4, 0.2, 'Iris-setosa'], [4.9, 3.0, 1.4, 0.2, 'Iris-setosa'], [4.7, 3.2, 1.3, 0.2, 'Iris-setosa']]\n"
     ]
    }
   ],
   "source": [
    "# df_iris = pd.read_csv(\"data-files/iris.data\") # 첫 번째 행을 컬럼으로 사용\n",
    "df_iris = pd.read_csv(\"data-files/iris.data\", header=None) # 첫 번째 행부터 데이터로 사용\n",
    "print( df_iris.head(3) )\n",
    "ar_iris = df_iris.values # dataframe.values : dataframe -> ndarray\n",
    "print(type(ar_iris))\n",
    "print(ar_iris[:3])\n",
    "lst_iris = ar_iris.tolist()\n",
    "print(type(lst_iris))\n",
    "print(lst_iris[:3])"
   ]
  },
  {
   "cell_type": "code",
   "execution_count": null,
   "metadata": {},
   "outputs": [],
   "source": [
    "# 3-1. 파일 데이터 읽어서 위에서 만든 테이블에 저장 \n",
    "\n",
    "# 데이터 준비 ( 파일에서 데이터 읽기 )\n",
    "df_iris = pd.read_csv(\"data-files/iris.data\", header=None)\n",
    "\n",
    "try:\n",
    "    # 데이터베이스 연결\n",
    "    conn = pymysql.connect(\n",
    "        host=\"127.0.0.1\",\n",
    "        user=\"humanda5\",\n",
    "        password=\"humanda5\",\n",
    "        database=\"data_repo\"\n",
    "    )\n",
    "\n",
    "    # 명령 실행기 준비\n",
    "    cursor = conn.cursor()\n",
    "\n",
    "    # 명령 실행\n",
    "    sql = \"\"\"insert into iris \n",
    "             (sepal_length, sepal_width, petal_length, petal_width, species)\n",
    "             values \n",
    "             (%s, %s, %s, %s, %s)\"\"\"\n",
    "    # for row in df_iris.values: # dataframe.values : dataframe -> ndarray\n",
    "    #     cursor.execute(sql, list(row))\n",
    "    for row in df_iris.values.tolist(): # dataframe -> ndarray -> list\n",
    "        cursor.execute(sql, row)\n",
    "\n",
    "    conn.commit() # 마지막 commit or rollback 이후에 실행된 모든 변경사항 확정\n",
    "except Exception as e:\n",
    "    print(\"오류 발생 : \", e)\n",
    "    if conn:\n",
    "        conn.rollback() # 마지막 commit or rollback 이후에 실행된 모든 변경사항 취소\n",
    "finally:\n",
    "    # 연결 종료\n",
    "    if cursor:\n",
    "        cursor.close()\n",
    "    if conn:\n",
    "        conn.close()"
   ]
  },
  {
   "cell_type": "code",
   "execution_count": 18,
   "metadata": {},
   "outputs": [],
   "source": [
    "# 3-2. 파일 데이터 읽어서 위에서 만든 테이블에 저장 \n",
    "\n",
    "# 데이터 준비 ( 파일에서 데이터 읽기 )\n",
    "df_iris = pd.read_csv(\"data-files/iris.data\", header=None)\n",
    "\n",
    "try:\n",
    "    # 데이터베이스 연결\n",
    "    conn = pymysql.connect(\n",
    "        host=\"127.0.0.1\",\n",
    "        user=\"humanda5\",\n",
    "        password=\"humanda5\",\n",
    "        database=\"data_repo\"\n",
    "    )\n",
    "\n",
    "    # 명령 실행기 준비\n",
    "    cursor = conn.cursor()\n",
    "\n",
    "    # 명령 실행\n",
    "    sql = \"\"\"insert into iris \n",
    "             (sepal_length, sepal_width, petal_length, petal_width, species)\n",
    "             values \n",
    "             (%s, %s, %s, %s, %s)\"\"\"\n",
    "    data = df_iris.values.tolist()\n",
    "    cursor.executemany(sql, data)\n",
    "\n",
    "    conn.commit() # 마지막 commit or rollback 이후에 실행된 모든 변경사항 확정\n",
    "except Exception as e:\n",
    "    print(\"오류 발생 : \", e)\n",
    "    if conn:\n",
    "        conn.rollback() # 마지막 commit or rollback 이후에 실행된 모든 변경사항 취소\n",
    "finally:\n",
    "    # 연결 종료\n",
    "    if cursor:\n",
    "        cursor.close()\n",
    "    if conn:\n",
    "        conn.close()"
   ]
  }
 ],
 "metadata": {
  "kernelspec": {
   "display_name": "python-env-311",
   "language": "python",
   "name": "python3"
  },
  "language_info": {
   "codemirror_mode": {
    "name": "ipython",
    "version": 3
   },
   "file_extension": ".py",
   "mimetype": "text/x-python",
   "name": "python",
   "nbconvert_exporter": "python",
   "pygments_lexer": "ipython3",
   "version": "3.11.11"
  }
 },
 "nbformat": 4,
 "nbformat_minor": 2
}
