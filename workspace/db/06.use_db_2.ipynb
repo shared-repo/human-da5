{
 "cells": [
  {
   "cell_type": "code",
   "execution_count": null,
   "metadata": {},
   "outputs": [],
   "source": [
    "# data_repo database 만들기\n",
    "# iris dataset 저장 테이블 만들기\n",
    "# iris dataset 파일의 데이터를 위에서 만든 테이블에 저장"
   ]
  },
  {
   "cell_type": "code",
   "execution_count": 1,
   "metadata": {},
   "outputs": [],
   "source": [
    "# 데이터베이스 연동 패키지(모듈) 준비\n",
    "import pymysql"
   ]
  },
  {
   "cell_type": "code",
   "execution_count": 4,
   "metadata": {},
   "outputs": [],
   "source": [
    "try:\n",
    "    # 데이터베이스 연결\n",
    "    conn = pymysql.connect(\n",
    "        host=\"127.0.0.1\",\n",
    "        user=\"root\",\n",
    "        password=\"human\"\n",
    "    )\n",
    "    # 명령 실행기 준비\n",
    "    cursor = conn.cursor()\n",
    "    # 명령 실행\n",
    "    cursor.execute(\"drop database if exists data_repo\")\n",
    "    cursor.execute(\"create database if not exists data_repo\")\n",
    "    cursor.execute(\"grant all privileges on data_repo.* to humanda5@localhost\")\n",
    "    cursor.execute('grant all privileges on data_repo.* to humanda5@\"%\"')\n",
    "    conn.commit()\n",
    "except:\n",
    "    print(\"오류 발생\")\n",
    "    if conn:\n",
    "        conn.rollback()\n",
    "finally:\n",
    "    # 연결 종료\n",
    "    if cursor:\n",
    "        cursor.close()\n",
    "    if conn:\n",
    "        conn.close()"
   ]
  }
 ],
 "metadata": {
  "kernelspec": {
   "display_name": "python-env-311",
   "language": "python",
   "name": "python3"
  },
  "language_info": {
   "codemirror_mode": {
    "name": "ipython",
    "version": 3
   },
   "file_extension": ".py",
   "mimetype": "text/x-python",
   "name": "python",
   "nbconvert_exporter": "python",
   "pygments_lexer": "ipython3",
   "version": "3.11.11"
  }
 },
 "nbformat": 4,
 "nbformat_minor": 2
}
