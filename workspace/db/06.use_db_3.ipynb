{
 "cells": [
  {
   "cell_type": "code",
   "execution_count": null,
   "metadata": {},
   "outputs": [],
   "source": [
    "# winequality-red.csv 파일의 데이터를 읽어서 테이블에 저장\n",
    "# 1. 데이터베이스는 -2.ipynb에서 만든 data_repo 사용 (새로 만들기 X)\n",
    "# 2. 테이블 만들기 (red_wine)\n",
    "# 3. 데이터 읽어서 red_wine 테이블에 저장\n",
    "# 4. 7등급 이상의 데이터를 조회해서 파일로 저장 (high-quality-red-wine.csv)"
   ]
  }
 ],
 "metadata": {
  "kernelspec": {
   "display_name": "python-env-311",
   "language": "python",
   "name": "python3"
  },
  "language_info": {
   "name": "python",
   "version": "3.11.11"
  }
 },
 "nbformat": 4,
 "nbformat_minor": 2
}
