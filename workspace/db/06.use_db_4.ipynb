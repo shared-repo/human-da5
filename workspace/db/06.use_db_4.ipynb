{
 "cells": [
  {
   "cell_type": "code",
   "execution_count": null,
   "metadata": {},
   "outputs": [],
   "source": [
    "# winequality-red.csv, winequality-white.csv 파일의 데이터를 읽어서 테이블에 저장\n",
    "# 1. 각 파일의 데이터를 읽어서 각각 type 컬럼을 만들고 'red', 'white' 저장\n",
    "# 2. 두 파일의 데이터를 병합\n",
    "# 3. 데이터베이스는 -2.ipynb에서 만든 data_repo 사용 (새로 만들기 X)\n",
    "# 4. 테이블 만들기 (red_wine -> wine)\n",
    "# 5. 데이터 읽어서 wine 테이블에 저장\n",
    "# 6. 7등급 이상의 데이터를 조회해서 파일로 저장 (high-quality-wine.csv)"
   ]
  },
  {
   "cell_type": "code",
   "execution_count": 2,
   "metadata": {},
   "outputs": [],
   "source": [
    "# 데이터 분석 패키지 준비\n",
    "import numpy as np\n",
    "import pandas as pd\n",
    "import matplotlib.pyplot as plt"
   ]
  },
  {
   "cell_type": "code",
   "execution_count": 6,
   "metadata": {},
   "outputs": [
    {
     "name": "stdout",
     "output_type": "stream",
     "text": [
      "Index(['fixed acidity', 'volatile acidity', 'citric acid', 'residual sugar',\n",
      "       'chlorides', 'free sulfur dioxide', 'total sulfur dioxide', 'density',\n",
      "       'pH', 'sulphates', 'alcohol', 'quality'],\n",
      "      dtype='object') Index(['fixed acidity', 'volatile acidity', 'citric acid', 'residual sugar',\n",
      "       'chlorides', 'free sulfur dioxide', 'total sulfur dioxide', 'density',\n",
      "       'pH', 'sulphates', 'alcohol', 'quality'],\n",
      "      dtype='object')\n"
     ]
    }
   ],
   "source": [
    "# 1. 각 파일의 데이터를 읽어서 각각 type 컬럼을 만들고 'red', 'white' 저장\n",
    "df_red = pd.read_csv('data-files/winequality-red.csv', sep=\";\")\n",
    "df_white = pd.read_csv('data-files/winequality-white.csv', sep=\";\")\n",
    "\n",
    "print( df_red.columns, df_white.columns ) # 컬럼 동일성 확인\n",
    "\n",
    "df_red['type'] = 'red'\n",
    "df_white['type'] = 'white'\n"
   ]
  },
  {
   "cell_type": "code",
   "execution_count": 8,
   "metadata": {},
   "outputs": [
    {
     "name": "stdout",
     "output_type": "stream",
     "text": [
      "(1599, 13) (4898, 13) (6497, 13)\n"
     ]
    }
   ],
   "source": [
    "# 2. 두 파일의 데이터를 병합\n",
    "df_combined = pd.concat([df_red, df_white])\n",
    "print( df_red.shape, df_white.shape, df_combined.shape)"
   ]
  },
  {
   "cell_type": "code",
   "execution_count": 9,
   "metadata": {},
   "outputs": [],
   "source": [
    "# 데이터베이스 연동 패키지(모듈) 준비\n",
    "import pymysql"
   ]
  },
  {
   "cell_type": "code",
   "execution_count": 11,
   "metadata": {},
   "outputs": [],
   "source": [
    "# 2. 테이블 만들기\n",
    "\n",
    "try:\n",
    "    # 데이터베이스 연결\n",
    "    conn = pymysql.connect(\n",
    "        host=\"127.0.0.1\",\n",
    "        user=\"humanda5\",\n",
    "        password=\"humanda5\",\n",
    "        database=\"data_repo\"\n",
    "    )\n",
    "\n",
    "    # 명령 실행기 준비\n",
    "    cursor = conn.cursor()\n",
    "\n",
    "    # 명령 실행\n",
    "    sql = \"drop table if exists wine\"\n",
    "    cursor.execute(sql)\n",
    "    sql = \"\"\"create table if not exists wine\n",
    "          (\n",
    "            idx int primary key auto_increment,\n",
    "            fixed_acidity float not null,\n",
    "            volatile_acidity float not null,\n",
    "            citric_acid float not null,\n",
    "            residual_sugar float not null,\n",
    "            chlorides float not null,\n",
    "            free_sulfur_dioxide float not null,\n",
    "            total_sulfur_dioxide float not null,\n",
    "            density float not null,\n",
    "            pH float not null,\n",
    "            sulphates float not null,\n",
    "            alcohol float not null,\n",
    "            quality int not null,\n",
    "            type varchar(10) not null\n",
    "          )\"\"\"\n",
    "    cursor.execute(sql)    \n",
    "except Exception as e:\n",
    "    print(\"오류 발생 : \", e)\n",
    "finally:\n",
    "    # 연결 종료\n",
    "    if cursor:\n",
    "        cursor.close()\n",
    "    if conn:\n",
    "        conn.close()"
   ]
  },
  {
   "cell_type": "code",
   "execution_count": null,
   "metadata": {},
   "outputs": [],
   "source": []
  },
  {
   "cell_type": "code",
   "execution_count": 12,
   "metadata": {},
   "outputs": [],
   "source": [
    "# 3. 파일 데이터 읽어서 위에서 만든 테이블에 저장 \n",
    "\n",
    "try:\n",
    "    # 데이터베이스 연결\n",
    "    conn = pymysql.connect(\n",
    "        host=\"127.0.0.1\",\n",
    "        user=\"humanda5\",\n",
    "        password=\"humanda5\",\n",
    "        database=\"data_repo\"\n",
    "    )\n",
    "\n",
    "    # 명령 실행기 준비\n",
    "    cursor = conn.cursor()\n",
    "\n",
    "    # 명령 실행\n",
    "    sql = \"delete from wine\"\n",
    "    cursor.execute(sql)\n",
    "    sql = \"\"\"insert into wine \n",
    "             (fixed_acidity, volatile_acidity, citric_acid, residual_sugar, chlorides, free_sulfur_dioxide, total_sulfur_dioxide, density, pH, sulphates, alcohol, quality, type)\n",
    "             values \n",
    "             (%s, %s, %s, %s, %s, %s, %s, %s, %s, %s, %s, %s, %s)\"\"\"\n",
    "    data = df_combined.values.tolist()\n",
    "    cursor.executemany(sql, data)\n",
    "\n",
    "    conn.commit() # 마지막 commit or rollback 이후에 실행된 모든 변경사항 확정\n",
    "except Exception as e:\n",
    "    print(\"오류 발생 : \", e)\n",
    "    if conn:\n",
    "        conn.rollback() # 마지막 commit or rollback 이후에 실행된 모든 변경사항 취소\n",
    "finally:\n",
    "    # 연결 종료\n",
    "    if cursor:\n",
    "        cursor.close()\n",
    "    if conn:\n",
    "        conn.close()"
   ]
  },
  {
   "cell_type": "code",
   "execution_count": 18,
   "metadata": {},
   "outputs": [],
   "source": [
    "# 4. 데이터베이스의 데이터 중 quality가 7 이상인 데이터를 무작위 조회해서 파일로 저장\n",
    "\n",
    "try:\n",
    "    # 데이터베이스 연결\n",
    "    conn = pymysql.connect(\n",
    "        host=\"127.0.0.1\",\n",
    "        user=\"humanda5\",\n",
    "        password=\"humanda5\",\n",
    "        database=\"data_repo\"\n",
    "    )\n",
    "\n",
    "    # 명령 실행기 준비\n",
    "    cursor = conn.cursor()\n",
    "\n",
    "    # 명령 실행\n",
    "    sql = \"\"\"select * from wine where quality >= %s\"\"\" # lower : 소문자로 변경\n",
    "    cursor.execute(sql, [7])\n",
    "\n",
    "    wine_data = cursor.fetchall() # 조회 결과를 tuple 형식으로 반환\n",
    "\n",
    "    # 파일로 저장\n",
    "    df_wine = pd.DataFrame(wine_data, \n",
    "                           columns=['idx'] + list(df_combined.columns))\n",
    "    # df_iris.drop(['idx'], axis=1) # 'idx' 컬럼 제거, 원본 유지, 변경된 복사본 반환\n",
    "    df_wine.drop(['idx'], axis=1, inplace=True) # 'idx' 컬럼 제거, 원본 변경\n",
    "    df_wine.to_csv('data-files/high-quality-wine.csv', index=False) # index 저장하지 않도록 설정\n",
    "    \n",
    "except Exception as e:\n",
    "    print(\"오류 발생 : \", e)\n",
    "\n",
    "finally:\n",
    "    # 연결 종료\n",
    "    if cursor:\n",
    "        cursor.close()\n",
    "    if conn:\n",
    "        conn.close()"
   ]
  },
  {
   "cell_type": "code",
   "execution_count": 20,
   "metadata": {},
   "outputs": [
    {
     "name": "stdout",
     "output_type": "stream",
     "text": [
      "Index(['idxfixed acidity', 'idxvolatile acidity', 'idxcitric acid',\n",
      "       'idxresidual sugar', 'idxchlorides', 'idxfree sulfur dioxide',\n",
      "       'idxtotal sulfur dioxide', 'idxdensity', 'idxpH', 'idxsulphates',\n",
      "       'idxalcohol', 'idxquality', 'idxtype'],\n",
      "      dtype='object')\n",
      "['idx', 'fixed acidity', 'volatile acidity', 'citric acid', 'residual sugar', 'chlorides', 'free sulfur dioxide', 'total sulfur dioxide', 'density', 'pH', 'sulphates', 'alcohol', 'quality', 'type']\n"
     ]
    }
   ],
   "source": [
    "print(['idx'] + df_combined.columns) # df_combined.columns의 각 요소에 idx를 결합\n",
    "print(['idx'] + list(df_combined.columns)) # 두 리스트 병합"
   ]
  },
  {
   "cell_type": "code",
   "execution_count": 17,
   "metadata": {},
   "outputs": [
    {
     "data": {
      "text/plain": [
       "['idx',\n",
       " 'fixed acidity',\n",
       " 'volatile acidity',\n",
       " 'citric acid',\n",
       " 'residual sugar',\n",
       " 'chlorides',\n",
       " 'free sulfur dioxide',\n",
       " 'total sulfur dioxide',\n",
       " 'density',\n",
       " 'pH',\n",
       " 'sulphates',\n",
       " 'alcohol',\n",
       " 'quality',\n",
       " 'type']"
      ]
     },
     "execution_count": 17,
     "metadata": {},
     "output_type": "execute_result"
    }
   ],
   "source": [
    "['idx'] + list(df_combined.columns)"
   ]
  }
 ],
 "metadata": {
  "kernelspec": {
   "display_name": "python-env-311",
   "language": "python",
   "name": "python3"
  },
  "language_info": {
   "codemirror_mode": {
    "name": "ipython",
    "version": 3
   },
   "file_extension": ".py",
   "mimetype": "text/x-python",
   "name": "python",
   "nbconvert_exporter": "python",
   "pygments_lexer": "ipython3",
   "version": "3.11.11"
  }
 },
 "nbformat": 4,
 "nbformat_minor": 2
}
