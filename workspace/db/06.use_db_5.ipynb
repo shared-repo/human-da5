{
 "cells": [
  {
   "cell_type": "code",
   "execution_count": 39,
   "metadata": {},
   "outputs": [],
   "source": [
    "# 따릉이 대여소 현황 데이터 조회 (OPEN API)\n",
    "# 조회된 데이터를 데이터베이스에 저장 (테이블 만들기 + 데이터 저장)\n",
    "\n",
    "# apikey=5668556e4e6f686337344d77484770"
   ]
  },
  {
   "cell_type": "code",
   "execution_count": 40,
   "metadata": {},
   "outputs": [],
   "source": [
    "# 라이브러리 준비\n",
    "import requests\n",
    "import json\n",
    "import pandas as pd\n",
    "import pymysql"
   ]
  },
  {
   "cell_type": "code",
   "execution_count": 41,
   "metadata": {},
   "outputs": [
    {
     "name": "stdout",
     "output_type": "stream",
     "text": [
      "{\"stationInfo\":{\"list_total_count\":\"3143\",\"RESULT\":{\"CODE\":\"INFO-000\",\"MESSAGE\":\"정상 처리되었습니다.\"},\"row\":[{\"STA_LOC\":\"마포구\",\"RENT_ID\":\"ST-10\",\"RENT_NO\":\"00108\",\"RENT_NM\":\"서교동 사거리\",\"RENT_ID_NM\":\"108. 서교동 사거리\",\"HOLD_NUM\":\"12\",\"STA_ADD1\":\"서울특별시 마포구 양화로 93\",\"STA_ADD2\":\"427\",\"STA_LAT\":\"37.55274582\",\"STA_LONG\":\"126.91861725\",\"START_INDEX\":0,\"END_INDEX\":0,\"RNUM\":\"1\"},{\"STA_LOC\":\"광진구\",\"RENT_ID\":\"ST-100\",\"RENT_NO\":\"00503\",\"RENT_NM\":\"더샵스타시티 C동 앞\",\"RENT_ID_NM\":\"503. 더샵스타시티 C동 앞\",\"HOLD_NUM\":\"15\",\"STA_ADD1\":\"서울특별시 광진구 아차산로 262\",\"STA_ADD2\":\"더샵스타시티 C동 앞\",\"STA_LAT\":\"37.53666687\",\"STA_LONG\":\"127.07359314\",\"START_INDEX\":0,\"END_INDEX\":0,\"RNUM\":\"2\"},{\"STA_LOC\":\"양천구\",\"RENT_ID\":\"ST-1000\",\"RENT_NO\":\"00729\",\"RENT_NM\":\"서부식자재마트 건너편\",\"RENT_ID_NM\":\"729. 서부식자재마트 건너편\",\"HOLD_NUM\":\"10\",\"STA_ADD1\":\"서울특별시 양천구 신정동 236 \",\"STA_ADD2\":\"서부식자재마트 건너편\",\"STA_LAT\":\"37.51037979\",\"STA_LONG\":\"126.86679840\",\"START_INDEX\":0,\"END_INDEX\":0,\"RNUM\":\"3\"},{\"STA_LOC\":\"양천구\",\"RENT_ID\":\"ST-1002\",\"RENT_NO\":\"00731\",\"RENT_NM\":\"서울시 도로환경관리센터\",\"RENT_ID_NM\":\"731. 서울시 도로환경관리센터\",\"HOLD_NUM\":\"10\",\"STA_ADD1\":\"서울특별시 양천구 목동동로 316-6\",\"STA_ADD2\":\"서울시 도로환경관리센터\",\"STA_LAT\":\"37.52989960\",\"STA_LONG\":\"126.87654114\",\"START_INDEX\":0,\"END_INDEX\":0,\"RNUM\":\"4\"},{\"STA_LOC\":\"양천구\",\"RENT_ID\":\"ST-1003\",\"RENT_NO\":\"00732\",\"RENT_NM\":\"신월중학교\",\"RENT_ID_NM\":\"732. 신월중학교\",\"HOLD_NUM\":\"10\",\"STA_ADD1\":\"서울특별시 양천구 화곡로 59\",\"STA_ADD2\":\"신월동 이마트\",\"STA_LAT\":\"37.53955078\",\"STA_LONG\":\"126.82830048\",\"START_INDEX\":0,\"END_INDEX\":0,\"RNUM\":\"5\"}]}}\n"
     ]
    }
   ],
   "source": [
    "# 데이터 요청 1\n",
    "api_key=\"5668556e4e6f686337344d77484770\"\n",
    "url = f\"http://openapi.seoul.go.kr:8088/{api_key}/json/tbCycleStationInfo/1/5/\"\n",
    "\n",
    "resp = requests.get(url)\n",
    "print(resp.content.decode('utf-8'))"
   ]
  },
  {
   "cell_type": "code",
   "execution_count": 42,
   "metadata": {},
   "outputs": [
    {
     "name": "stdout",
     "output_type": "stream",
     "text": [
      "dict_keys(['stationInfo'])\n",
      "dict_keys(['list_total_count', 'RESULT', 'row'])\n",
      "[{'STA_LOC': '마포구', 'RENT_ID': 'ST-10', 'RENT_NO': '00108', 'RENT_NM': '서교동 사거리', 'RENT_ID_NM': '108. 서교동 사거리', 'HOLD_NUM': '12', 'STA_ADD1': '서울특별시 마포구 양화로 93', 'STA_ADD2': '427', 'STA_LAT': '37.55274582', 'STA_LONG': '126.91861725', 'START_INDEX': 0, 'END_INDEX': 0, 'RNUM': '1'}, {'STA_LOC': '광진구', 'RENT_ID': 'ST-100', 'RENT_NO': '00503', 'RENT_NM': '더샵스타시티 C동 앞', 'RENT_ID_NM': '503. 더샵스타시티 C동 앞', 'HOLD_NUM': '15', 'STA_ADD1': '서울특별시 광진구 아차산로 262', 'STA_ADD2': '더샵스타시티 C동 앞', 'STA_LAT': '37.53666687', 'STA_LONG': '127.07359314', 'START_INDEX': 0, 'END_INDEX': 0, 'RNUM': '2'}, {'STA_LOC': '양천구', 'RENT_ID': 'ST-1000', 'RENT_NO': '00729', 'RENT_NM': '서부식자재마트 건너편', 'RENT_ID_NM': '729. 서부식자재마트 건너편', 'HOLD_NUM': '10', 'STA_ADD1': '서울특별시 양천구 신정동 236 ', 'STA_ADD2': '서부식자재마트 건너편', 'STA_LAT': '37.51037979', 'STA_LONG': '126.86679840', 'START_INDEX': 0, 'END_INDEX': 0, 'RNUM': '3'}, {'STA_LOC': '양천구', 'RENT_ID': 'ST-1002', 'RENT_NO': '00731', 'RENT_NM': '서울시 도로환경관리센터', 'RENT_ID_NM': '731. 서울시 도로환경관리센터', 'HOLD_NUM': '10', 'STA_ADD1': '서울특별시 양천구 목동동로 316-6', 'STA_ADD2': '서울시 도로환경관리센터', 'STA_LAT': '37.52989960', 'STA_LONG': '126.87654114', 'START_INDEX': 0, 'END_INDEX': 0, 'RNUM': '4'}, {'STA_LOC': '양천구', 'RENT_ID': 'ST-1003', 'RENT_NO': '00732', 'RENT_NM': '신월중학교', 'RENT_ID_NM': '732. 신월중학교', 'HOLD_NUM': '10', 'STA_ADD1': '서울특별시 양천구 화곡로 59', 'STA_ADD2': '신월동 이마트', 'STA_LAT': '37.53955078', 'STA_LONG': '126.82830048', 'START_INDEX': 0, 'END_INDEX': 0, 'RNUM': '5'}]\n"
     ]
    }
   ],
   "source": [
    "# result_dict = json.loads(resp.content.decode('utf-8'))\n",
    "result_dict = resp.json()\n",
    "# result_dict\n",
    "print( result_dict.keys() )\n",
    "print( result_dict['stationInfo'].keys())\n",
    "print( result_dict['stationInfo']['row'] )"
   ]
  },
  {
   "cell_type": "code",
   "execution_count": 43,
   "metadata": {},
   "outputs": [
    {
     "name": "stdout",
     "output_type": "stream",
     "text": [
      "데이터 조회 완료 - 총 데이터 갯수 :  3143\n"
     ]
    }
   ],
   "source": [
    "# 데이터 요청 2\n",
    "api_key=\"5668556e4e6f686337344d77484770\"\n",
    "url = \"http://openapi.seoul.go.kr:8088/{0}/json/tbCycleStationInfo/{1}/{2}/\"\n",
    "\n",
    "all_stations = []\n",
    "while True:\n",
    "    start_idx = len(all_stations)\n",
    "    resp = requests.get(url.format(api_key, start_idx + 1, start_idx + 1000))\n",
    "    result = resp.json()\n",
    "    all_stations += result['stationInfo']['row'] # 기존 데이터 + 새로 조회된 데이터\n",
    "    total_cnt = int(result['stationInfo']['list_total_count'])\n",
    "    if total_cnt <= len(all_stations): # 현재까지 조회한 데이터 갯수가 총 데이터 갯수와 같거나 크다면\n",
    "        break\n",
    "\n",
    "print(\"데이터 조회 완료 - 총 데이터 갯수 : \", len(all_stations))"
   ]
  },
  {
   "cell_type": "code",
   "execution_count": 44,
   "metadata": {},
   "outputs": [
    {
     "name": "stdout",
     "output_type": "stream",
     "text": [
      "(3143, 13)\n"
     ]
    },
    {
     "data": {
      "text/html": [
       "<div>\n",
       "<style scoped>\n",
       "    .dataframe tbody tr th:only-of-type {\n",
       "        vertical-align: middle;\n",
       "    }\n",
       "\n",
       "    .dataframe tbody tr th {\n",
       "        vertical-align: top;\n",
       "    }\n",
       "\n",
       "    .dataframe thead th {\n",
       "        text-align: right;\n",
       "    }\n",
       "</style>\n",
       "<table border=\"1\" class=\"dataframe\">\n",
       "  <thead>\n",
       "    <tr style=\"text-align: right;\">\n",
       "      <th></th>\n",
       "      <th>STA_LOC</th>\n",
       "      <th>RENT_ID</th>\n",
       "      <th>RENT_NO</th>\n",
       "      <th>RENT_NM</th>\n",
       "      <th>RENT_ID_NM</th>\n",
       "      <th>HOLD_NUM</th>\n",
       "      <th>STA_ADD1</th>\n",
       "      <th>STA_ADD2</th>\n",
       "      <th>STA_LAT</th>\n",
       "      <th>STA_LONG</th>\n",
       "      <th>START_INDEX</th>\n",
       "      <th>END_INDEX</th>\n",
       "      <th>RNUM</th>\n",
       "    </tr>\n",
       "  </thead>\n",
       "  <tbody>\n",
       "    <tr>\n",
       "      <th>0</th>\n",
       "      <td>마포구</td>\n",
       "      <td>ST-10</td>\n",
       "      <td>00108</td>\n",
       "      <td>서교동 사거리</td>\n",
       "      <td>108. 서교동 사거리</td>\n",
       "      <td>12</td>\n",
       "      <td>서울특별시 마포구 양화로 93</td>\n",
       "      <td>427</td>\n",
       "      <td>37.55274582</td>\n",
       "      <td>126.91861725</td>\n",
       "      <td>0</td>\n",
       "      <td>0</td>\n",
       "      <td>1</td>\n",
       "    </tr>\n",
       "    <tr>\n",
       "      <th>1</th>\n",
       "      <td>광진구</td>\n",
       "      <td>ST-100</td>\n",
       "      <td>00503</td>\n",
       "      <td>더샵스타시티 C동 앞</td>\n",
       "      <td>503. 더샵스타시티 C동 앞</td>\n",
       "      <td>15</td>\n",
       "      <td>서울특별시 광진구 아차산로 262</td>\n",
       "      <td>더샵스타시티 C동 앞</td>\n",
       "      <td>37.53666687</td>\n",
       "      <td>127.07359314</td>\n",
       "      <td>0</td>\n",
       "      <td>0</td>\n",
       "      <td>2</td>\n",
       "    </tr>\n",
       "    <tr>\n",
       "      <th>2</th>\n",
       "      <td>양천구</td>\n",
       "      <td>ST-1000</td>\n",
       "      <td>00729</td>\n",
       "      <td>서부식자재마트 건너편</td>\n",
       "      <td>729. 서부식자재마트 건너편</td>\n",
       "      <td>10</td>\n",
       "      <td>서울특별시 양천구 신정동 236</td>\n",
       "      <td>서부식자재마트 건너편</td>\n",
       "      <td>37.51037979</td>\n",
       "      <td>126.86679840</td>\n",
       "      <td>0</td>\n",
       "      <td>0</td>\n",
       "      <td>3</td>\n",
       "    </tr>\n",
       "  </tbody>\n",
       "</table>\n",
       "</div>"
      ],
      "text/plain": [
       "  STA_LOC  RENT_ID RENT_NO      RENT_NM        RENT_ID_NM HOLD_NUM  \\\n",
       "0     마포구    ST-10   00108      서교동 사거리      108. 서교동 사거리       12   \n",
       "1     광진구   ST-100   00503  더샵스타시티 C동 앞  503. 더샵스타시티 C동 앞       15   \n",
       "2     양천구  ST-1000   00729  서부식자재마트 건너편  729. 서부식자재마트 건너편       10   \n",
       "\n",
       "             STA_ADD1     STA_ADD2      STA_LAT      STA_LONG  START_INDEX  \\\n",
       "0    서울특별시 마포구 양화로 93          427  37.55274582  126.91861725            0   \n",
       "1  서울특별시 광진구 아차산로 262  더샵스타시티 C동 앞  37.53666687  127.07359314            0   \n",
       "2  서울특별시 양천구 신정동 236   서부식자재마트 건너편  37.51037979  126.86679840            0   \n",
       "\n",
       "   END_INDEX RNUM  \n",
       "0          0    1  \n",
       "1          0    2  \n",
       "2          0    3  "
      ]
     },
     "execution_count": 44,
     "metadata": {},
     "output_type": "execute_result"
    }
   ],
   "source": [
    "df_stations = pd.DataFrame(all_stations)\n",
    "print( df_stations.shape )\n",
    "df_stations.head(3)"
   ]
  },
  {
   "cell_type": "code",
   "execution_count": 45,
   "metadata": {},
   "outputs": [
    {
     "data": {
      "text/plain": [
       "STA_LOC        object\n",
       "RENT_ID        object\n",
       "RENT_NO        object\n",
       "RENT_NM        object\n",
       "RENT_ID_NM     object\n",
       "HOLD_NUM       object\n",
       "STA_ADD1       object\n",
       "STA_ADD2       object\n",
       "STA_LAT        object\n",
       "STA_LONG       object\n",
       "START_INDEX     int64\n",
       "END_INDEX       int64\n",
       "RNUM           object\n",
       "dtype: object"
      ]
     },
     "execution_count": 45,
     "metadata": {},
     "output_type": "execute_result"
    }
   ],
   "source": [
    "df_stations.dtypes"
   ]
  },
  {
   "cell_type": "code",
   "execution_count": 46,
   "metadata": {},
   "outputs": [
    {
     "data": {
      "text/plain": [
       "STA_LOC         0\n",
       "RENT_ID         0\n",
       "RENT_NO         0\n",
       "RENT_NM         0\n",
       "RENT_ID_NM      0\n",
       "HOLD_NUM       13\n",
       "STA_ADD1        0\n",
       "STA_ADD2        0\n",
       "STA_LAT         0\n",
       "STA_LONG        0\n",
       "START_INDEX     0\n",
       "END_INDEX       0\n",
       "RNUM            0\n",
       "dtype: int64"
      ]
     },
     "execution_count": 46,
     "metadata": {},
     "output_type": "execute_result"
    }
   ],
   "source": [
    "df_stations.isnull().sum() # 실행 결과 HOLD_NUM 컬럼에 null 발견"
   ]
  },
  {
   "cell_type": "code",
   "execution_count": 47,
   "metadata": {},
   "outputs": [
    {
     "data": {
      "text/plain": [
       "np.int64(2)"
      ]
     },
     "execution_count": 47,
     "metadata": {},
     "output_type": "execute_result"
    }
   ],
   "source": [
    "(df_stations['HOLD_NUM'].str.len() == 0).sum() # 2개의 행에 빈문자열('')이 있는 것을 확인 --> missing value로 해석"
   ]
  },
  {
   "cell_type": "code",
   "execution_count": 48,
   "metadata": {},
   "outputs": [
    {
     "name": "stdout",
     "output_type": "stream",
     "text": [
      "int64 0\n"
     ]
    }
   ],
   "source": [
    "# 'HOLD_NUM' 컬럼의 missing value 처리\n",
    "\n",
    "df_stations['HOLD_NUM'] = df_stations['HOLD_NUM'].fillna('0') # missing value를 특정한 값으로 변경\n",
    "empty_str_mask = df_stations['HOLD_NUM'].str.len() == 0\n",
    "# df_stations[empty_str_mask] = '0' # 빈문자열은 missing value로 해석해서 '0'으로 변경\n",
    "df_stations.loc[empty_str_mask, 'HOLD_NUM'] = '0' # 빈문자열은 missing value로 해석해서 '0'으로 변경\n",
    "df_stations['HOLD_NUM'] = df_stations['HOLD_NUM'].astype(int) # 자료형을 정수로 변경\n",
    "\n",
    "print( df_stations['HOLD_NUM'].dtype, df_stations['HOLD_NUM'].isna().sum() )"
   ]
  },
  {
   "cell_type": "code",
   "execution_count": 50,
   "metadata": {},
   "outputs": [],
   "source": [
    "# 데이터를 저장할 테이블 만들기\n",
    "\n",
    "try:\n",
    "    # 데이터베이스 연결\n",
    "    conn = pymysql.connect(\n",
    "        host=\"127.0.0.1\",\n",
    "        user=\"humanda5\",\n",
    "        password=\"humanda5\",\n",
    "        database=\"data_repo\"\n",
    "    )\n",
    "\n",
    "    # 명령 실행기 준비\n",
    "    cursor = conn.cursor()\n",
    "\n",
    "    sql = \"drop table if exists station\"\n",
    "    cursor.execute(sql)\n",
    "    sql = \"\"\"create table if not exists station\n",
    "          (\n",
    "            idx int primary key auto_increment,\n",
    "            STA_LOC varchar(20) not null,\n",
    "            RENT_ID varchar(20) not null,\n",
    "            RENT_NO varchar(20) not null,\n",
    "            RENT_NM varchar(50) not null,\n",
    "            RENT_ID_NM varchar(50) not null,\n",
    "            HOLD_NUM int not null,\n",
    "            STA_ADD1 varchar(100) not null,\n",
    "            STA_ADD2 varchar(100) null,\n",
    "            STA_LAT varchar(15) not null,\n",
    "            STA_LONG varchar(15) not null\n",
    "          )\"\"\"\n",
    "    cursor.execute(sql)    \n",
    "except Exception as e:\n",
    "    print(\"오류 발생 : \", e)\n",
    "finally:\n",
    "    # 연결 종료\n",
    "    if cursor:\n",
    "        cursor.close()\n",
    "    if conn:\n",
    "        conn.close()"
   ]
  },
  {
   "cell_type": "code",
   "execution_count": 51,
   "metadata": {},
   "outputs": [],
   "source": [
    "# Open API로부터 가져온 데이터를 위에서 만든 테이블에 저장 \n",
    "\n",
    "try:\n",
    "    # 데이터베이스 연결\n",
    "    conn = pymysql.connect(\n",
    "        host=\"127.0.0.1\",\n",
    "        user=\"humanda5\",\n",
    "        password=\"humanda5\",\n",
    "        database=\"data_repo\"\n",
    "    )\n",
    "\n",
    "    # 명령 실행기 준비\n",
    "    cursor = conn.cursor()\n",
    "\n",
    "    # 명령 실행\n",
    "    sql = \"delete from station\"\n",
    "    cursor.execute(sql)\n",
    "    sql = \"\"\"insert into station \n",
    "             (STA_LOC, RENT_ID, RENT_NO, RENT_NM, RENT_ID_NM, HOLD_NUM,STA_ADD1, STA_ADD2, STA_LAT, STA_LONG)\n",
    "             values \n",
    "             (%s, %s, %s, %s, %s, %s, %s, %s, %s, %s)\"\"\"\n",
    "    data = df_stations.values[:, :-3].tolist() # Open API에서 가져온 데이터 중 마지막 3개 컬럼을 사용하지 않음\n",
    "    cursor.executemany(sql, data)\n",
    "\n",
    "    conn.commit() # 마지막 commit or rollback 이후에 실행된 모든 변경사항 확정\n",
    "except Exception as e:\n",
    "    print(\"오류 발생 : \", e)\n",
    "    if conn:\n",
    "        conn.rollback() # 마지막 commit or rollback 이후에 실행된 모든 변경사항 취소\n",
    "finally:\n",
    "    # 연결 종료\n",
    "    if cursor:\n",
    "        cursor.close()\n",
    "    if conn:\n",
    "        conn.close()"
   ]
  },
  {
   "cell_type": "code",
   "execution_count": 52,
   "metadata": {},
   "outputs": [],
   "source": [
    "# 자치구별 대여소 갯수 데이터를 조회해서 파일로 저장\n",
    "\n",
    "try:\n",
    "    # 데이터베이스 연결\n",
    "    conn = pymysql.connect(\n",
    "        host=\"127.0.0.1\",\n",
    "        user=\"humanda5\",\n",
    "        password=\"humanda5\",\n",
    "        database=\"data_repo\"\n",
    "    )\n",
    "\n",
    "    # 명령 실행기 준비\n",
    "    cursor = conn.cursor()\n",
    "\n",
    "    # 명령 실행\n",
    "    sql = \"\"\"select sta_loc, count(*) cnt from station group by sta_loc\"\"\"\n",
    "    cursor.execute(sql)\n",
    "\n",
    "    station_data = cursor.fetchall() # 조회 결과를 tuple 형식으로 반환\n",
    "\n",
    "    # 파일로 저장\n",
    "    df_station = pd.DataFrame(station_data, \n",
    "                              columns=['자치구', '대여소갯수'])\n",
    "    \n",
    "    df_station.to_csv('data-files/station-count-by-gu.csv', index=False) # index 저장하지 않도록 설정\n",
    "    \n",
    "except Exception as e:\n",
    "    print(\"오류 발생 : \", e)\n",
    "\n",
    "finally:\n",
    "    # 연결 종료\n",
    "    if cursor:\n",
    "        cursor.close()\n",
    "    if conn:\n",
    "        conn.close()"
   ]
  }
 ],
 "metadata": {
  "kernelspec": {
   "display_name": "python-env-311",
   "language": "python",
   "name": "python3"
  },
  "language_info": {
   "codemirror_mode": {
    "name": "ipython",
    "version": 3
   },
   "file_extension": ".py",
   "mimetype": "text/x-python",
   "name": "python",
   "nbconvert_exporter": "python",
   "pygments_lexer": "ipython3",
   "version": "3.11.11"
  }
 },
 "nbformat": 4,
 "nbformat_minor": 2
}
