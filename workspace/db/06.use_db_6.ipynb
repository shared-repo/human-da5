{
 "cells": [
  {
   "cell_type": "code",
   "execution_count": null,
   "metadata": {},
   "outputs": [],
   "source": [
    "# 건강보험심사평가원 제공 Open API 사용해서 병원 현황 데이터 조회\n",
    "# - 진료과목코드 선택해서 해당 진료과목을 지원하는 병원 조회\n",
    "# 테이블 만들기 - 테이블에 조회된 데이터 저장\n",
    "# 자치구 또는 시도별 병원 현황 조회해서 파일로 저장"
   ]
  },
  {
   "cell_type": "code",
   "execution_count": 15,
   "metadata": {},
   "outputs": [],
   "source": [
    "# 라이브러리 준비\n",
    "import requests\n",
    "import pandas as pd\n",
    "import pymysql\n",
    "import time"
   ]
  },
  {
   "cell_type": "code",
   "execution_count": 4,
   "metadata": {},
   "outputs": [
    {
     "name": "stdout",
     "output_type": "stream",
     "text": [
      "<?xml version=\"1.0\" encoding=\"UTF-8\" standalone=\"yes\"?><response><header><resultCode>00</resultCode><resultMsg>NORMAL SERVICE.</resultMsg></header><body><items><item><addr>경기도 수원시 팔달구 중부대로 93, (지동)</addr><clCd>01</clCd><clCdNm>상급종합</clCdNm><cmdcGdrCnt>0</cmdcGdrCnt><cmdcIntnCnt>0</cmdcIntnCnt><cmdcResdntCnt>0</cmdcResdntCnt><cmdcSdrCnt>0</cmdcSdrCnt><detyGdrCnt>0</detyGdrCnt><detyIntnCnt>0</detyIntnCnt><detyResdntCnt>0</detyResdntCnt><detySdrCnt>7</detySdrCnt><drTotCnt>260</drTotCnt><emdongNm>지동</emdongNm><estbDd>19670523</estbDd><hospUrl>http://www.cmcvincent.or.kr/skip.html</hospUrl><mdeptGdrCnt>1</mdeptGdrCnt><mdeptIntnCnt>1</mdeptIntnCnt><mdeptResdntCnt>9</mdeptResdntCnt><mdeptSdrCnt>242</mdeptSdrCnt><pnursCnt>0</pnursCnt><postNo>16247</postNo><sgguCd>310603</sgguCd><sgguCdNm>수원팔달구</sgguCdNm><sidoCd>310000</sidoCd><sidoCdNm>경기</sidoCdNm><telno>031-1577-8588</telno><XPos>127.0274271</XPos><YPos>37.2779855</YPos><yadmNm>가톨릭대학교 성빈센트병원</yadmNm><ykiho>JDQ4MTYyMiM1MSMkMSMkMCMkODkkMzgxMzUxIzExIyQxIyQzIyQ3OSQzNjEwMDIjODEjJDEjJDIjJDgz</ykiho></item><item><addr>인천광역시 부평구 동수로 56, (부평동)</addr><clCd>01</clCd><clCdNm>상급종합</clCdNm><cmdcGdrCnt>0</cmdcGdrCnt><cmdcIntnCnt>0</cmdcIntnCnt><cmdcResdntCnt>0</cmdcResdntCnt><cmdcSdrCnt>0</cmdcSdrCnt><detyGdrCnt>1</detyGdrCnt><detyIntnCnt>0</detyIntnCnt><detyResdntCnt>0</detyResdntCnt><detySdrCnt>3</detySdrCnt><drTotCnt>255</drTotCnt><emdongNm>부평동</emdongNm><estbDd>19810806</estbDd><hospUrl>http://www.cmcism.or.kr/</hospUrl><mdeptGdrCnt>3</mdeptGdrCnt><mdeptIntnCnt>1</mdeptIntnCnt><mdeptResdntCnt>4</mdeptResdntCnt><mdeptSdrCnt>243</mdeptSdrCnt><pnursCnt>0</pnursCnt><postNo>21431</postNo><sgguCd>220003</sgguCd><sgguCdNm>인천부평구</sgguCdNm><sidoCd>220000</sidoCd><sidoCdNm>인천</sidoCdNm><telno>032-1544-9004</telno><XPos>126.7248987</XPos><YPos>37.4848309</YPos><yadmNm>가톨릭대학교인천성모병원</yadmNm><ykiho>JDQ4MTYyMiM1MSMkMSMkMCMkODkkMzgxMzUxIzExIyQxIyQzIyQ3OSQyNjE4MzIjNDEjJDEjJDgjJDgz</ykiho></item><item><addr>강원특별자치도 강릉시 사천면 방동길 38, (사천면)</addr><clCd>01</clCd><clCdNm>상급종합</clCdNm><cmdcGdrCnt>0</cmdcGdrCnt><cmdcIntnCnt>0</cmdcIntnCnt><cmdcResdntCnt>0</cmdcResdntCnt><cmdcSdrCnt>0</cmdcSdrCnt><detyGdrCnt>0</detyGdrCnt><detyIntnCnt>0</detyIntnCnt><detyResdntCnt>0</detyResdntCnt><detySdrCnt>2</detySdrCnt><drTotCnt>175</drTotCnt><emdongNm>사천면</emdongNm><estbDd>19960730</estbDd><hospUrl>http://www.gnah.co.kr</hospUrl><mdeptGdrCnt>7</mdeptGdrCnt><mdeptIntnCnt>0</mdeptIntnCnt><mdeptResdntCnt>11</mdeptResdntCnt><mdeptSdrCnt>155</mdeptSdrCnt><pnursCnt>0</pnursCnt><postNo>25440</postNo><sgguCd>320100</sgguCd><sgguCdNm>강릉시</sgguCdNm><sidoCd>320000</sidoCd><sidoCdNm>강원</sidoCdNm><telno>033-610-3114</telno><XPos>128.8578411</XPos><YPos>37.8184325</YPos><yadmNm>강릉아산병원</yadmNm><ykiho>JDQ4MTYyMiM1MSMkMSMkNCMkODkkMzgxMzUxIzExIyQxIyQzIyQ4OSQ0NjEwMDIjNDEjJDEjJDgjJDgz</ykiho></item><item><addr>서울특별시 종로구 새문안로 29, (평동)</addr><clCd>01</clCd><clCdNm>상급종합</clCdNm><cmdcGdrCnt>0</cmdcGdrCnt><cmdcIntnCnt>0</cmdcIntnCnt><cmdcResdntCnt>0</cmdcResdntCnt><cmdcSdrCnt>0</cmdcSdrCnt><detyGdrCnt>4</detyGdrCnt><detyIntnCnt>0</detyIntnCnt><detyResdntCnt>0</detyResdntCnt><detySdrCnt>4</detySdrCnt><drTotCnt>289</drTotCnt><emdongNm>평동</emdongNm><estbDd>19790324</estbDd><hospUrl>http://www.kbsmc.co.kr</hospUrl><mdeptGdrCnt>0</mdeptGdrCnt><mdeptIntnCnt>5</mdeptIntnCnt><mdeptResdntCnt>17</mdeptResdntCnt><mdeptSdrCnt>259</mdeptSdrCnt><pnursCnt>0</pnursCnt><postNo>03181</postNo><sgguCd>110016</sgguCd><sgguCdNm>종로구</sgguCdNm><sidoCd>110000</sidoCd><sidoCdNm>서울</sidoCdNm><telno>02-2001-2001</telno><XPos>126.9677500</XPos><YPos>37.5684083</YPos><yadmNm>강북삼성병원</yadmNm><ykiho>JDQ4MTg4MSM1MSMkMSMkMCMkODkkMzgxMzUxIzExIyQxIyQzIyQ3OSQ0NjEwMDIjNjEjJDEjJDQjJDgz</ykiho></item><item><addr>서울특별시 광진구 능동로 120-1, (화양동)</addr><clCd>01</clCd><clCdNm>상급종합</clCdNm><cmdcGdrCnt>0</cmdcGdrCnt><cmdcIntnCnt>0</cmdcIntnCnt><cmdcResdntCnt>0</cmdcResdntCnt><cmdcSdrCnt>0</cmdcSdrCnt><detyGdrCnt>0</detyGdrCnt><detyIntnCnt>0</detyIntnCnt><detyResdntCnt>0</detyResdntCnt><detySdrCnt>1</detySdrCnt><drTotCnt>251</drTotCnt><emdongNm>화양동</emdongNm><estbDd>19821116</estbDd><hospUrl>http://www.kuh.ac.kr</hospUrl><mdeptGdrCnt>1</mdeptGdrCnt><mdeptIntnCnt>0</mdeptIntnCnt><mdeptResdntCnt>22</mdeptResdntCnt><mdeptSdrCnt>227</mdeptSdrCnt><pnursCnt>0</pnursCnt><postNo>05030</postNo><sgguCd>110023</sgguCd><sgguCdNm>광진구</sgguCdNm><sidoCd>110000</sidoCd><sidoCdNm>서울</sidoCdNm><telno>1588-1533</telno><XPos>127.0718276</XPos><YPos>37.5403764</YPos><yadmNm>건국대학교병원</yadmNm><ykiho>JDQ4MTg4MSM1MSMkMSMkMCMkODkkMzgxMzUxIzExIyQxIyQzIyQ2MiQyNjE4MzIjNjEjJDEjJDQjJDgz</ykiho></item><item><addr>대구광역시 중구 동덕로 130, (삼덕동2가, 경북대학교병원)</addr><clCd>01</clCd><clCdNm>상급종합</clCdNm><cmdcGdrCnt>0</cmdcGdrCnt><cmdcIntnCnt>0</cmdcIntnCnt><cmdcResdntCnt>0</cmdcResdntCnt><cmdcSdrCnt>0</cmdcSdrCnt><detyGdrCnt>0</detyGdrCnt><detyIntnCnt>0</detyIntnCnt><detyResdntCnt>0</detyResdntCnt><detySdrCnt>1</detySdrCnt><drTotCnt>220</drTotCnt><emdongNm>삼덕동2가</emdongNm><estbDd>19100907</estbDd><hospUrl>http://knumc.knu.ac.kr</hospUrl><mdeptGdrCnt>2</mdeptGdrCnt><mdeptIntnCnt>0</mdeptIntnCnt><mdeptResdntCnt>18</mdeptResdntCnt><mdeptSdrCnt>199</mdeptSdrCnt><pnursCnt>0</pnursCnt><postNo>41944</postNo><sgguCd>230006</sgguCd><sgguCdNm>대구중구</sgguCdNm><sidoCd>230000</sidoCd><sidoCdNm>대구</sidoCdNm><telno>053-200-5114</telno><XPos>128.6047030</XPos><YPos>35.8662525</YPos><yadmNm>경북대학교병원</yadmNm><ykiho>JDQ4MTYyMiM4MSMkMSMkMCMkODkkMzgxMzUxIzExIyQxIyQzIyQ3OSQyNjEwMDIjNzEjJDEjJDgjJDgz</ykiho></item><item><addr>경상남도 진주시 강남로 79, (칠암동)</addr><clCd>01</clCd><clCdNm>상급종합</clCdNm><cmdcGdrCnt>0</cmdcGdrCnt><cmdcIntnCnt>0</cmdcIntnCnt><cmdcResdntCnt>0</cmdcResdntCnt><cmdcSdrCnt>0</cmdcSdrCnt><detyGdrCnt>0</detyGdrCnt><detyIntnCnt>0</detyIntnCnt><detyResdntCnt>0</detyResdntCnt><detySdrCnt>2</detySdrCnt><drTotCnt>189</drTotCnt><emdongNm>칠암동</emdongNm><estbDd>19861013</estbDd><hospUrl>http://www.gnuh.co.kr/</hospUrl><mdeptGdrCnt>0</mdeptGdrCnt><mdeptIntnCnt>1</mdeptIntnCnt><mdeptResdntCnt>10</mdeptResdntCnt><mdeptSdrCnt>176</mdeptSdrCnt><pnursCnt>0</pnursCnt><postNo>52727</postNo><sgguCd>380500</sgguCd><sgguCdNm>진주시</sgguCdNm><sidoCd>380000</sidoCd><sidoCdNm>경남</sidoCdNm><telno>055-750-8000</telno><XPos>128.0964924</XPos><YPos>35.1759944</YPos><yadmNm>경상국립대학교병원</yadmNm><ykiho>JDQ4MTYyMiM4MSMkMSMkNCMkODkkMzgxMzUxIzExIyQxIyQzIyQ5OSQyNjEwMDIjNjEjJDEjJDQjJDgz</ykiho></item><item><addr>서울특별시 동대문구 경희대로 23, (회기동)</addr><clCd>01</clCd><clCdNm>상급종합</clCdNm><cmdcGdrCnt>0</cmdcGdrCnt><cmdcIntnCnt>0</cmdcIntnCnt><cmdcResdntCnt>0</cmdcResdntCnt><cmdcSdrCnt>0</cmdcSdrCnt><detyGdrCnt>0</detyGdrCnt><detyIntnCnt>0</detyIntnCnt><detyResdntCnt>0</detyResdntCnt><detySdrCnt>0</detySdrCnt><drTotCnt>252</drTotCnt><emdongNm>회기동</emdongNm><estbDd>19711005</estbDd><hospUrl>http://www.khuh.or.kr/</hospUrl><mdeptGdrCnt>9</mdeptGdrCnt><mdeptIntnCnt>2</mdeptIntnCnt><mdeptResdntCnt>10</mdeptResdntCnt><mdeptSdrCnt>231</mdeptSdrCnt><pnursCnt>0</pnursCnt><postNo>02447</postNo><sgguCd>110007</sgguCd><sgguCdNm>동대문구</sgguCdNm><sidoCd>110000</sidoCd><sidoCdNm>서울</sidoCdNm><telno>02-958-8114</telno><XPos>127.0518520</XPos><YPos>37.5941195</YPos><yadmNm>경희대학교병원</yadmNm><ykiho>JDQ4MTg4MSM1MSMkMSMkMCMkODkkMzgxMzUxIzExIyQxIyQzIyQ4OSQzNjEyMjIjODEjJDEjJDIjJDgz</ykiho></item><item><addr>대구광역시 달서구 달구벌대로 1035, (신당동)</addr><clCd>01</clCd><clCdNm>상급종합</clCdNm><cmdcGdrCnt>0</cmdcGdrCnt><cmdcIntnCnt>0</cmdcIntnCnt><cmdcResdntCnt>0</cmdcResdntCnt><cmdcSdrCnt>0</cmdcSdrCnt><detyGdrCnt>1</detyGdrCnt><detyIntnCnt>0</detyIntnCnt><detyResdntCnt>0</detyResdntCnt><detySdrCnt>3</detySdrCnt><drTotCnt>245</drTotCnt><emdongNm>신당동</emdongNm><estbDd>19680406</estbDd><hospUrl>http://www.dsmc.or.kr/</hospUrl><mdeptGdrCnt>7</mdeptGdrCnt><mdeptIntnCnt>0</mdeptIntnCnt><mdeptResdntCnt>6</mdeptResdntCnt><mdeptSdrCnt>228</mdeptSdrCnt><pnursCnt>0</pnursCnt><postNo>42601</postNo><sgguCd>230007</sgguCd><sgguCdNm>대구달서구</sgguCdNm><sidoCd>230000</sidoCd><sidoCdNm>대구</sidoCdNm><telno>1577-6622</telno><XPos>128.4801315</XPos><YPos>35.8538856</YPos><yadmNm>계명대학교동산병원</yadmNm><ykiho>JDQ4MTYyMiM4MSMkMSMkMCMkODkkMzgxMzUxIzExIyQxIyQzIyQ3OSQyNjEyMjIjNjEjJDEjJDQjJDgz</ykiho></item><item><addr>서울특별시 구로구 구로동로 148, 고려대부속구로병원 (구로동)</addr><clCd>01</clCd><clCdNm>상급종합</clCdNm><cmdcGdrCnt>0</cmdcGdrCnt><cmdcIntnCnt>0</cmdcIntnCnt><cmdcResdntCnt>0</cmdcResdntCnt><cmdcSdrCnt>0</cmdcSdrCnt><detyGdrCnt>0</detyGdrCnt><detyIntnCnt>6</detyIntnCnt><detyResdntCnt>18</detyResdntCnt><detySdrCnt>10</detySdrCnt><drTotCnt>374</drTotCnt><emdongNm>구로동</emdongNm><estbDd>19830831</estbDd><hospUrl>http://guro.kumc.or.kr/main/index.do</hospUrl><mdeptGdrCnt>2</mdeptGdrCnt><mdeptIntnCnt>3</mdeptIntnCnt><mdeptResdntCnt>18</mdeptResdntCnt><mdeptSdrCnt>317</mdeptSdrCnt><pnursCnt>0</pnursCnt><postNo>08308</postNo><sgguCd>110005</sgguCd><sgguCdNm>구로구</sgguCdNm><sidoCd>110000</sidoCd><sidoCdNm>서울</sidoCdNm><telno>02-2626-1114</telno><XPos>126.8848701</XPos><YPos>37.4920520</YPos><yadmNm>고려대학교의과대학부속구로병원</yadmNm><ykiho>JDQ4MTg4MSM1MSMkMSMkMCMkODkkMzgxMzUxIzExIyQxIyQzIyQ2MiQ0NjEwMDIjNjEjJDEjJDAjJDgz</ykiho></item></items><numOfRows>10</numOfRows><pageNo>1</pageNo><totalCount>1137</totalCount></body></response>\n"
     ]
    }
   ],
   "source": [
    "# 데이터 요청 1\n",
    "api_key=\"R+BEwJ49XVmTutdoCAdNq4m7wjOsdFNhVtlzkxWVeZJPhwQqWbGcD7CNeQPipFzIWAanQVw/rPLsGkfcYvD4AQ==\"\n",
    "# url = f\"http://apis.data.go.kr/B551182/hospInfoServicev2/getHospBasisList?ServiceKey={api_key}\"\n",
    "\n",
    "url = \"http://apis.data.go.kr/B551182/hospInfoServicev2/getHospBasisList\"\n",
    "params = {\n",
    "    \"ServiceKey\": api_key,\n",
    "    \"dgsbjtCd\": \"07\" # 심장혈관흉부외과\n",
    "}\n",
    "\n",
    "resp = requests.get(url, params=params)\n",
    "\n",
    "print(resp.content.decode('utf-8'))"
   ]
  },
  {
   "cell_type": "code",
   "execution_count": 5,
   "metadata": {},
   "outputs": [],
   "source": [
    "from xml.etree import ElementTree as ET\n",
    "\n",
    "result = ET.fromstring(resp.content.decode(\"utf-8\")) # xml string -> object tree 변환"
   ]
  },
  {
   "cell_type": "code",
   "execution_count": null,
   "metadata": {},
   "outputs": [
    {
     "name": "stdout",
     "output_type": "stream",
     "text": [
      "response\n",
      "   header\n",
      "     resultCode\n",
      "     resultMsg\n",
      "   body\n",
      "     items\n",
      "       item\n",
      "       item\n",
      "       item\n",
      "       item\n",
      "       item\n",
      "       item\n",
      "       item\n",
      "       item\n",
      "       item\n",
      "       item\n",
      "     numOfRows\n",
      "     pageNo\n",
      "     totalCount\n"
     ]
    }
   ],
   "source": [
    "# xml을 읽어서 만든 객체 트리 구조 확인\n",
    "print(result.tag)\n",
    "\n",
    "for c1 in result: # result 태그 하위 요소를 순회\n",
    "    print(\" \" * 2, c1.tag)\n",
    "    for c2 in c1: # c1 태그 하위 요소를 순회\n",
    "        print(\" \" * 4, c2.tag)\n",
    "        for c3 in c2: # c2 태그 하위 요소를 순회\n",
    "            print(\" \" * 6, c3.tag)"
   ]
  },
  {
   "cell_type": "code",
   "execution_count": 12,
   "metadata": {},
   "outputs": [],
   "source": [
    "# 실제 데이터가 있는 item 태그를 읽어서 데이터 뽑기\n",
    "\n",
    "items = result.find('body').find('items').findall('item') # find는 1개 조회, findall 여러 개 조회\n",
    "\n",
    "columns = ['yadmNm', 'clCdNm', 'sidoCdNm', 'sgguCdNm', 'emdongNm', 'addr', 'hospUrl']\n",
    "\n",
    "data = []\n",
    "for item in items:\n",
    "    row = {}\n",
    "    for c in item:\n",
    "        if c.tag in columns:\n",
    "            row.update({c.tag:c.text})\n",
    "    data.append(row)"
   ]
  },
  {
   "cell_type": "code",
   "execution_count": null,
   "metadata": {},
   "outputs": [
    {
     "data": {
      "text/plain": [
       "[{'addr': '경기도 수원시 팔달구 중부대로 93, (지동)',\n",
       "  'clCdNm': '상급종합',\n",
       "  'emdongNm': '지동',\n",
       "  'hospUrl': 'http://www.cmcvincent.or.kr/skip.html',\n",
       "  'sgguCdNm': '수원팔달구',\n",
       "  'sidoCdNm': '경기',\n",
       "  'yadmNm': '가톨릭대학교 성빈센트병원'},\n",
       " {'addr': '인천광역시 부평구 동수로 56, (부평동)',\n",
       "  'clCdNm': '상급종합',\n",
       "  'emdongNm': '부평동',\n",
       "  'hospUrl': 'http://www.cmcism.or.kr/',\n",
       "  'sgguCdNm': '인천부평구',\n",
       "  'sidoCdNm': '인천',\n",
       "  'yadmNm': '가톨릭대학교인천성모병원'},\n",
       " {'addr': '강원특별자치도 강릉시 사천면 방동길 38, (사천면)',\n",
       "  'clCdNm': '상급종합',\n",
       "  'emdongNm': '사천면',\n",
       "  'hospUrl': 'http://www.gnah.co.kr',\n",
       "  'sgguCdNm': '강릉시',\n",
       "  'sidoCdNm': '강원',\n",
       "  'yadmNm': '강릉아산병원'},\n",
       " {'addr': '서울특별시 종로구 새문안로 29, (평동)',\n",
       "  'clCdNm': '상급종합',\n",
       "  'emdongNm': '평동',\n",
       "  'hospUrl': 'http://www.kbsmc.co.kr',\n",
       "  'sgguCdNm': '종로구',\n",
       "  'sidoCdNm': '서울',\n",
       "  'yadmNm': '강북삼성병원'},\n",
       " {'addr': '서울특별시 광진구 능동로 120-1, (화양동)',\n",
       "  'clCdNm': '상급종합',\n",
       "  'emdongNm': '화양동',\n",
       "  'hospUrl': 'http://www.kuh.ac.kr',\n",
       "  'sgguCdNm': '광진구',\n",
       "  'sidoCdNm': '서울',\n",
       "  'yadmNm': '건국대학교병원'},\n",
       " {'addr': '대구광역시 중구 동덕로 130, (삼덕동2가, 경북대학교병원)',\n",
       "  'clCdNm': '상급종합',\n",
       "  'emdongNm': '삼덕동2가',\n",
       "  'hospUrl': 'http://knumc.knu.ac.kr',\n",
       "  'sgguCdNm': '대구중구',\n",
       "  'sidoCdNm': '대구',\n",
       "  'yadmNm': '경북대학교병원'},\n",
       " {'addr': '경상남도 진주시 강남로 79, (칠암동)',\n",
       "  'clCdNm': '상급종합',\n",
       "  'emdongNm': '칠암동',\n",
       "  'hospUrl': 'http://www.gnuh.co.kr/',\n",
       "  'sgguCdNm': '진주시',\n",
       "  'sidoCdNm': '경남',\n",
       "  'yadmNm': '경상국립대학교병원'},\n",
       " {'addr': '서울특별시 동대문구 경희대로 23, (회기동)',\n",
       "  'clCdNm': '상급종합',\n",
       "  'emdongNm': '회기동',\n",
       "  'hospUrl': 'http://www.khuh.or.kr/',\n",
       "  'sgguCdNm': '동대문구',\n",
       "  'sidoCdNm': '서울',\n",
       "  'yadmNm': '경희대학교병원'},\n",
       " {'addr': '대구광역시 달서구 달구벌대로 1035, (신당동)',\n",
       "  'clCdNm': '상급종합',\n",
       "  'emdongNm': '신당동',\n",
       "  'hospUrl': 'http://www.dsmc.or.kr/',\n",
       "  'sgguCdNm': '대구달서구',\n",
       "  'sidoCdNm': '대구',\n",
       "  'yadmNm': '계명대학교동산병원'},\n",
       " {'addr': '서울특별시 구로구 구로동로 148, 고려대부속구로병원 (구로동)',\n",
       "  'clCdNm': '상급종합',\n",
       "  'emdongNm': '구로동',\n",
       "  'hospUrl': 'http://guro.kumc.or.kr/main/index.do',\n",
       "  'sgguCdNm': '구로구',\n",
       "  'sidoCdNm': '서울',\n",
       "  'yadmNm': '고려대학교의과대학부속구로병원'}]"
      ]
     },
     "execution_count": 13,
     "metadata": {},
     "output_type": "execute_result"
    }
   ],
   "source": [
    "data"
   ]
  },
  {
   "cell_type": "code",
   "execution_count": 14,
   "metadata": {},
   "outputs": [
    {
     "data": {
      "text/html": [
       "<div>\n",
       "<style scoped>\n",
       "    .dataframe tbody tr th:only-of-type {\n",
       "        vertical-align: middle;\n",
       "    }\n",
       "\n",
       "    .dataframe tbody tr th {\n",
       "        vertical-align: top;\n",
       "    }\n",
       "\n",
       "    .dataframe thead th {\n",
       "        text-align: right;\n",
       "    }\n",
       "</style>\n",
       "<table border=\"1\" class=\"dataframe\">\n",
       "  <thead>\n",
       "    <tr style=\"text-align: right;\">\n",
       "      <th></th>\n",
       "      <th>addr</th>\n",
       "      <th>clCdNm</th>\n",
       "      <th>emdongNm</th>\n",
       "      <th>hospUrl</th>\n",
       "      <th>sgguCdNm</th>\n",
       "      <th>sidoCdNm</th>\n",
       "      <th>yadmNm</th>\n",
       "    </tr>\n",
       "  </thead>\n",
       "  <tbody>\n",
       "    <tr>\n",
       "      <th>0</th>\n",
       "      <td>경기도 수원시 팔달구 중부대로 93, (지동)</td>\n",
       "      <td>상급종합</td>\n",
       "      <td>지동</td>\n",
       "      <td>http://www.cmcvincent.or.kr/skip.html</td>\n",
       "      <td>수원팔달구</td>\n",
       "      <td>경기</td>\n",
       "      <td>가톨릭대학교 성빈센트병원</td>\n",
       "    </tr>\n",
       "    <tr>\n",
       "      <th>1</th>\n",
       "      <td>인천광역시 부평구 동수로 56, (부평동)</td>\n",
       "      <td>상급종합</td>\n",
       "      <td>부평동</td>\n",
       "      <td>http://www.cmcism.or.kr/</td>\n",
       "      <td>인천부평구</td>\n",
       "      <td>인천</td>\n",
       "      <td>가톨릭대학교인천성모병원</td>\n",
       "    </tr>\n",
       "    <tr>\n",
       "      <th>2</th>\n",
       "      <td>강원특별자치도 강릉시 사천면 방동길 38, (사천면)</td>\n",
       "      <td>상급종합</td>\n",
       "      <td>사천면</td>\n",
       "      <td>http://www.gnah.co.kr</td>\n",
       "      <td>강릉시</td>\n",
       "      <td>강원</td>\n",
       "      <td>강릉아산병원</td>\n",
       "    </tr>\n",
       "    <tr>\n",
       "      <th>3</th>\n",
       "      <td>서울특별시 종로구 새문안로 29, (평동)</td>\n",
       "      <td>상급종합</td>\n",
       "      <td>평동</td>\n",
       "      <td>http://www.kbsmc.co.kr</td>\n",
       "      <td>종로구</td>\n",
       "      <td>서울</td>\n",
       "      <td>강북삼성병원</td>\n",
       "    </tr>\n",
       "    <tr>\n",
       "      <th>4</th>\n",
       "      <td>서울특별시 광진구 능동로 120-1, (화양동)</td>\n",
       "      <td>상급종합</td>\n",
       "      <td>화양동</td>\n",
       "      <td>http://www.kuh.ac.kr</td>\n",
       "      <td>광진구</td>\n",
       "      <td>서울</td>\n",
       "      <td>건국대학교병원</td>\n",
       "    </tr>\n",
       "  </tbody>\n",
       "</table>\n",
       "</div>"
      ],
      "text/plain": [
       "                            addr clCdNm emdongNm  \\\n",
       "0      경기도 수원시 팔달구 중부대로 93, (지동)   상급종합       지동   \n",
       "1        인천광역시 부평구 동수로 56, (부평동)   상급종합      부평동   \n",
       "2  강원특별자치도 강릉시 사천면 방동길 38, (사천면)   상급종합      사천면   \n",
       "3        서울특별시 종로구 새문안로 29, (평동)   상급종합       평동   \n",
       "4     서울특별시 광진구 능동로 120-1, (화양동)   상급종합      화양동   \n",
       "\n",
       "                                 hospUrl sgguCdNm sidoCdNm         yadmNm  \n",
       "0  http://www.cmcvincent.or.kr/skip.html    수원팔달구       경기  가톨릭대학교 성빈센트병원  \n",
       "1               http://www.cmcism.or.kr/    인천부평구       인천   가톨릭대학교인천성모병원  \n",
       "2                  http://www.gnah.co.kr      강릉시       강원         강릉아산병원  \n",
       "3                 http://www.kbsmc.co.kr      종로구       서울         강북삼성병원  \n",
       "4                   http://www.kuh.ac.kr      광진구       서울        건국대학교병원  "
      ]
     },
     "execution_count": 14,
     "metadata": {},
     "output_type": "execute_result"
    }
   ],
   "source": [
    "df_hospitals = pd.DataFrame(data)\n",
    "df_hospitals.head()"
   ]
  },
  {
   "cell_type": "code",
   "execution_count": null,
   "metadata": {},
   "outputs": [],
   "source": []
  },
  {
   "cell_type": "code",
   "execution_count": 19,
   "metadata": {},
   "outputs": [],
   "source": [
    "# 데이터 조회 2. 전체 데이터 조회\n",
    "\n",
    "api_key = \"R+BEwJ49XVmTutdoCAdNq4m7wjOsdFNhVtlzkxWVeZJPhwQqWbGcD7CNeQPipFzIWAanQVw/rPLsGkfcYvD4AQ==\"\n",
    "url = \"http://apis.data.go.kr/B551182/hospInfoServicev2/getHospBasisList\"\n",
    "\n",
    "columns = ['yadmNm', 'clCdNm', 'sidoCdNm', 'sgguCdNm', 'emdongNm', 'addr', 'hospUrl']\n",
    "cnt_per_page = 100 # 한 번 요청할 때 받아올 데이터 갯수\n",
    "page = 1\n",
    "data = []\n",
    "while True:    \n",
    "    params = {\n",
    "        \"ServiceKey\": api_key,\n",
    "        \"dgsbjtCd\": \"07\", # 심장혈관흉부외과\n",
    "        \"pageNo\": page, \n",
    "        \"numOfRows\": cnt_per_page\n",
    "    }\n",
    "    resp = requests.get(url, params)\n",
    "    parsed_xml = ET.fromstring(resp.content.decode('utf-8'))\n",
    "    items = parsed_xml.find('body').find('items').findall(\"item\")\n",
    "    for item in items:\n",
    "        row = {}\n",
    "        for child in item:\n",
    "            if child.tag in columns:\n",
    "                row.update({child.tag: child.text})\n",
    "        data.append(row)\n",
    "\n",
    "    total_cnt = int(parsed_xml.find('body').find('totalCount').text) # 전체 데이터 갯수 읽기\n",
    "    if total_cnt <= len(data):\n",
    "        break\n",
    "\n",
    "    page += 1\n",
    "\n",
    "    time.sleep(0.1) # 여기서 0.1초 실행 중지\n"
   ]
  },
  {
   "cell_type": "code",
   "execution_count": 20,
   "metadata": {},
   "outputs": [
    {
     "data": {
      "text/plain": [
       "1137"
      ]
     },
     "execution_count": 20,
     "metadata": {},
     "output_type": "execute_result"
    }
   ],
   "source": [
    "len(data)"
   ]
  }
 ],
 "metadata": {
  "kernelspec": {
   "display_name": "python-env-311",
   "language": "python",
   "name": "python3"
  },
  "language_info": {
   "codemirror_mode": {
    "name": "ipython",
    "version": 3
   },
   "file_extension": ".py",
   "mimetype": "text/x-python",
   "name": "python",
   "nbconvert_exporter": "python",
   "pygments_lexer": "ipython3",
   "version": "3.11.11"
  }
 },
 "nbformat": 4,
 "nbformat_minor": 2
}
