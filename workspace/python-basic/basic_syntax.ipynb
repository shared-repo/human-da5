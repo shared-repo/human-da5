{
 "cells": [
  {
   "cell_type": "code",
   "execution_count": 1,
   "metadata": {},
   "outputs": [
    {
     "name": "stdout",
     "output_type": "stream",
     "text": [
      "60\n"
     ]
    }
   ],
   "source": [
    "a = 10 + 20 + 30\n",
    "print(a)"
   ]
  },
  {
   "cell_type": "code",
   "execution_count": 4,
   "metadata": {},
   "outputs": [
    {
     "name": "stdout",
     "output_type": "stream",
     "text": [
      "60\n"
     ]
    }
   ],
   "source": [
    "a = 10 + \\\n",
    "    20 + \\\n",
    "    30\n",
    "print(a)"
   ]
  },
  {
   "cell_type": "code",
   "execution_count": 5,
   "metadata": {},
   "outputs": [
    {
     "name": "stdout",
     "output_type": "stream",
     "text": [
      "[1, 2, 3, 4, 5, 6]\n"
     ]
    }
   ],
   "source": [
    "a = [1, 2, 3, \n",
    "     4, 5, 6]\n",
    "print(a)"
   ]
  },
  {
   "cell_type": "code",
   "execution_count": 7,
   "metadata": {},
   "outputs": [
    {
     "name": "stdout",
     "output_type": "stream",
     "text": [
      "10 20 10 20\n"
     ]
    }
   ],
   "source": [
    "a = 10; b = 20\n",
    "c, d = 10, 20\n",
    "\n",
    "print(a, b, c, d)"
   ]
  },
  {
   "cell_type": "code",
   "execution_count": null,
   "metadata": {},
   "outputs": [],
   "source": [
    "a = 'hello'\n",
    "b = \"hi\"\n",
    "c = \"\"\"bye\"\"\"\n",
    "d = '''end'''\n",
    "\n",
    "e = 'hello1 \\\n",
    "hello2'\n",
    "f = '''hello1\n",
    "hello2'''"
   ]
  },
  {
   "cell_type": "code",
   "execution_count": null,
   "metadata": {},
   "outputs": [
    {
     "name": "stdout",
     "output_type": "stream",
     "text": [
      "hello 1\n"
     ]
    }
   ],
   "source": [
    "print('hello 1')\n",
    "# print('hello 2')\n",
    "\n",
    "\n",
    "# print('hello 3')\n",
    "# print('hello 4')\n",
    "# print('hello 5')\n",
    "# print('hello 6')\n"
   ]
  },
  {
   "cell_type": "code",
   "execution_count": 11,
   "metadata": {},
   "outputs": [
    {
     "name": "stdout",
     "output_type": "stream",
     "text": [
      "<class 'int'> <class 'float'> <class 'str'>\n"
     ]
    }
   ],
   "source": [
    "a = 100\n",
    "b = 100.\n",
    "c = 'hello'\n",
    "\n",
    "print( type(a), type(b), type(c) )"
   ]
  },
  {
   "cell_type": "code",
   "execution_count": 14,
   "metadata": {},
   "outputs": [
    {
     "name": "stdout",
     "output_type": "stream",
     "text": [
      "13\n",
      "7\n",
      "30\n",
      "3.3333333333333335\n",
      "1000\n",
      "3\n",
      "1\n"
     ]
    }
   ],
   "source": [
    "a = 10\n",
    "b = 3\n",
    "\n",
    "print(a + b)\n",
    "print(a - b)\n",
    "print(a * b)\n",
    "print(a / b)\n",
    "print(a ** b)\n",
    "\n",
    "print( a // b)  # 몫 연산\n",
    "print( a % b)   # 나머지 연산"
   ]
  },
  {
   "cell_type": "code",
   "execution_count": null,
   "metadata": {},
   "outputs": [
    {
     "name": "stdout",
     "output_type": "stream",
     "text": [
      "20.1\n",
      "20\n",
      "21.11\n"
     ]
    }
   ],
   "source": [
    "a = 10.1\n",
    "b = 10\n",
    "c = '10'\n",
    "\n",
    "print( a + b )\n",
    "# print( b + c ) # 숫자와 문자열을 연산할 수 없습니다.\n",
    "print( b + int(c) ) # '10' -> 10\n",
    "print( b + float('11.11')) # '11.11' -> 11.11 "
   ]
  },
  {
   "cell_type": "code",
   "execution_count": 5,
   "metadata": {},
   "outputs": [
    {
     "name": "stdout",
     "output_type": "stream",
     "text": [
      "hello john doe\n"
     ]
    }
   ],
   "source": [
    "a = 'hello '\n",
    "b = 'john doe'\n",
    "\n",
    "c = a + b\n",
    "print(c)"
   ]
  },
  {
   "cell_type": "code",
   "execution_count": 3,
   "metadata": {},
   "outputs": [
    {
     "name": "stdout",
     "output_type": "stream",
     "text": [
      "testtesttesttesttest\n"
     ]
    }
   ],
   "source": [
    "a = 'test'\n",
    "b = a * 5\n",
    "print(b)"
   ]
  },
  {
   "cell_type": "code",
   "execution_count": 7,
   "metadata": {},
   "outputs": [
    {
     "name": "stdout",
     "output_type": "stream",
     "text": [
      "[1, 2, 3, 4, 5, 6]\n",
      "[1, 2, 3, 1, 2, 3, 1, 2, 3, 1, 2, 3, 1, 2, 3]\n"
     ]
    }
   ],
   "source": [
    "a = [1, 2, 3]\n",
    "b = [4, 5, 6]\n",
    "c = a + b\n",
    "print(c)\n",
    "d = a * 5\n",
    "print(d)"
   ]
  },
  {
   "cell_type": "code",
   "execution_count": 11,
   "metadata": {},
   "outputs": [
    {
     "name": "stdout",
     "output_type": "stream",
     "text": [
      "j\n",
      "john\n",
      "d\n",
      "14\n",
      "6\n"
     ]
    }
   ],
   "source": [
    "a = 'hello john doe' # a = ['h', 'e', 'l', 'l', 'o', ...]\n",
    "\n",
    "print(a[6]) # 6번째 문자 \n",
    "print(a[6:10]) # 5번째부터 10번째문자\n",
    "print(a[-3]) # 뒤에서 3번째 문자\n",
    "print( len(a) ) # 문자 갯수\n",
    "print( a.find('john') ) # 위치 찾기"
   ]
  },
  {
   "cell_type": "code",
   "execution_count": 16,
   "metadata": {},
   "outputs": [
    {
     "name": "stdout",
     "output_type": "stream",
     "text": [
      "내 이름은 홍길동이고 나이는 35 입니다\n"
     ]
    }
   ],
   "source": [
    "name = \"홍길동\"\n",
    "age = 35\n",
    "\n",
    "# test = \"내 이름은 \" + name + \"이고 나이는\" + age + \" 입니다\"\n",
    "# test = \"내 이름은 %s이고 나이는 %d 입니다\" % (name, age)\n",
    "# test = \"내 이름은 {0}이고 나이는 {1} 입니다\".format(name, age)\n",
    "test = f\"내 이름은 {name}이고 나이는 {age} 입니다\"\n",
    "\n",
    "print(test)"
   ]
  },
  {
   "cell_type": "code",
   "execution_count": 21,
   "metadata": {},
   "outputs": [
    {
     "name": "stdout",
     "output_type": "stream",
     "text": [
      "첫 번째 문자열\n",
      "두 번째 문자열\n",
      "첫 번째 문자열 두 번째 문자열\n",
      "첫 번째 문자열 \n",
      "\"두 번째\" 문자열\n"
     ]
    }
   ],
   "source": [
    "a = \"\"\"첫 번째 문자열\n",
    "두 번째 문자열\"\"\"\n",
    "print(a)\n",
    "\n",
    "b = \"첫 번째 문자열 \\\n",
    "두 번째 문자열\"\n",
    "print(b)\n",
    "\n",
    "b = \"첫 번째 문자열 \\n\\\"두 번째\\\" 문자열\"\n",
    "print(b)"
   ]
  },
  {
   "cell_type": "code",
   "execution_count": 23,
   "metadata": {},
   "outputs": [
    {
     "name": "stdout",
     "output_type": "stream",
     "text": [
      "['장동건', '송강호', '최민식', '한석규']\n",
      "장동건:송강호:최민식:한석규\n"
     ]
    }
   ],
   "source": [
    "names = '장동건,송강호,최민식,한석규'\n",
    "names2 = names.split(',') # -> ['장동건','송강호','최민식','한석규']\n",
    "print(names2)\n",
    "\n",
    "names3 = ':'.join(names2) # '장동건:송강호:최민식:한석규'\n",
    "print(names3)"
   ]
  },
  {
   "cell_type": "code",
   "execution_count": null,
   "metadata": {},
   "outputs": [],
   "source": []
  },
  {
   "cell_type": "code",
   "execution_count": null,
   "metadata": {},
   "outputs": [],
   "source": []
  }
 ],
 "metadata": {
  "kernelspec": {
   "display_name": "python-env-311",
   "language": "python",
   "name": "python3"
  },
  "language_info": {
   "codemirror_mode": {
    "name": "ipython",
    "version": 3
   },
   "file_extension": ".py",
   "mimetype": "text/x-python",
   "name": "python",
   "nbconvert_exporter": "python",
   "pygments_lexer": "ipython3",
   "version": "3.11.11"
  }
 },
 "nbformat": 4,
 "nbformat_minor": 2
}
