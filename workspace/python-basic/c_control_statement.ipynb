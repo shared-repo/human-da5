{
 "cells": [
  {
   "cell_type": "code",
   "execution_count": null,
   "metadata": {},
   "outputs": [
    {
     "name": "stdout",
     "output_type": "stream",
     "text": [
      "장동건\n"
     ]
    }
   ],
   "source": [
    "name = input(\"이름을 입력하세요\") # 사용자로부터 입력 받기 -> 변수에 저장\n",
    "print(name)"
   ]
  },
  {
   "cell_type": "code",
   "execution_count": null,
   "metadata": {},
   "outputs": [
    {
     "name": "stdout",
     "output_type": "stream",
     "text": [
      "<class 'str'> 50\n",
      "<class 'int'> 50\n"
     ]
    }
   ],
   "source": [
    "number = input(\"숫자를 입력하세요\")\n",
    "print(type(number), number)\n",
    "number2 = int(number) # '10' -> 10\n",
    "print(type(number2), number2)"
   ]
  },
  {
   "cell_type": "code",
   "execution_count": 7,
   "metadata": {},
   "outputs": [
    {
     "name": "stdout",
     "output_type": "stream",
     "text": [
      "짝수\n"
     ]
    }
   ],
   "source": [
    "# 숫자 입력 -> 짝수 홀수를 구분해서 출력\n",
    "number = input(\"숫자(정수)를 입력하세요\")\n",
    "number = int(number)\n",
    "\n",
    "if number % 2 == 0:\n",
    "    print('짝수')\n",
    "else:\n",
    "    print('홀수')"
   ]
  },
  {
   "cell_type": "code",
   "execution_count": null,
   "metadata": {},
   "outputs": [
    {
     "name": "stdout",
     "output_type": "stream",
     "text": [
      "0\n"
     ]
    }
   ],
   "source": [
    "# 숫자 입력 -> 음수 양수 0을 구분해서 출력\n",
    "number = input(\"숫자를 입력하세요\")\n",
    "number = int(number)\n",
    "\n",
    "if number > 0:\n",
    "    print(\"1\")\n",
    "    print('양수')\n",
    "elif number < 0:\n",
    "    print('음수')\n",
    "else:\n",
    "    print(\"0\")"
   ]
  },
  {
   "cell_type": "code",
   "execution_count": 56,
   "metadata": {},
   "outputs": [
    {
     "name": "stdout",
     "output_type": "stream",
     "text": [
      "0.8951930981071382\n",
      "1\n"
     ]
    }
   ],
   "source": [
    "import random\n",
    "\n",
    "rnumber = random.random() # 0 ~ 1 난수 발생\n",
    "print(rnumber)\n",
    "\n",
    "rnumber2 = random.randint(1, 45)\n",
    "print(rnumber2)\n",
    "\n"
   ]
  },
  {
   "cell_type": "code",
   "execution_count": null,
   "metadata": {},
   "outputs": [
    {
     "name": "stdout",
     "output_type": "stream",
     "text": [
      "[62, 93, 13]\n",
      "168\n",
      "56.0\n",
      "B\n"
     ]
    }
   ],
   "source": [
    "# 0 ~ 100 범위의 random number 3개 뽑기 -> 각각 변수에 저장 (또는 리스트에 저장)\n",
    "numbers = []\n",
    "numbers.append( random.randint(1, 100) )\n",
    "numbers.append( random.randint(1, 100) )\n",
    "numbers.append( random.randint(1, 100) )\n",
    "# 각 값 출력\n",
    "print(numbers)\n",
    "# 세 값을 더해서 다른 변수에 저장\n",
    "# hap = numbers[0] + numbers[1] + numbers[2]\n",
    "hap = sum(numbers) # 리스트에 포함된 값을 더하기 \n",
    "# 합계 출력\n",
    "print(hap)\n",
    "# 합을 사용해서 평균 계산 -> 다른 변수에 저장\n",
    "mean = hap / len(numbers)\n",
    "# 평균 출력\n",
    "print(mean)\n",
    "\n",
    "# 등급 출력\n",
    "if 90 <= mean and mean <= 100:\n",
    "    print('A')\n",
    "elif mean >= 80 and mean < 90:\n",
    "    print('B')\n",
    "elif mean >= 70 and mean < 80:\n",
    "    print('C')\n",
    "elif mean >= 60 and mean < 70:\n",
    "    print('D')\n",
    "elif mean >= 0 and mean < 60:\n",
    "    print('F')\n",
    "else:\n",
    "    print('비정상 데이터')\n"
   ]
  },
  {
   "cell_type": "code",
   "execution_count": null,
   "metadata": {},
   "outputs": [],
   "source": [
    "if mean >= 90:\n",
    "    pass\n",
    "else:\n",
    "    pass\n"
   ]
  },
  {
   "cell_type": "code",
   "execution_count": 1,
   "metadata": {},
   "outputs": [
    {
     "name": "stdout",
     "output_type": "stream",
     "text": [
      "1 라운드 입니다.\n",
      "2 라운드 입니다.\n",
      "3 라운드 입니다.\n",
      "4 라운드 입니다.\n",
      "5 라운드 입니다.\n",
      "6 라운드 입니다.\n",
      "7 라운드 입니다.\n",
      "8 라운드 입니다.\n",
      "9 라운드 입니다.\n",
      "10 라운드 입니다.\n"
     ]
    }
   ],
   "source": [
    "rnd = 1\n",
    "while rnd <= 10:\n",
    "    print(f\"{rnd} 라운드 입니다.\")\n",
    "    # rnd = rnd + 1\n",
    "    rnd += 1 # -> rnd = rnd + 1\n",
    "    pass"
   ]
  },
  {
   "cell_type": "code",
   "execution_count": null,
   "metadata": {},
   "outputs": [],
   "source": []
  },
  {
   "cell_type": "code",
   "execution_count": null,
   "metadata": {},
   "outputs": [
    {
     "name": "stdout",
     "output_type": "stream",
     "text": [
      "장동건\n",
      "송강호\n",
      "김윤석\n"
     ]
    }
   ],
   "source": [
    "names = ['장동건', '송강호', '김윤석']\n",
    "for name in names:\n",
    "    print(name)"
   ]
  },
  {
   "cell_type": "code",
   "execution_count": 7,
   "metadata": {},
   "outputs": [
    {
     "name": "stdout",
     "output_type": "stream",
     "text": [
      "1. 장동건\n",
      "2. 송강호\n",
      "3. 김윤석\n"
     ]
    }
   ],
   "source": [
    "names = ['장동건', '송강호', '김윤석']\n",
    "for idx, name in enumerate(names): # 현재순서번호, 데이터 반환\n",
    "    print(f'{idx + 1}. {name}')"
   ]
  },
  {
   "cell_type": "code",
   "execution_count": null,
   "metadata": {},
   "outputs": [
    {
     "name": "stdout",
     "output_type": "stream",
     "text": [
      "1. 장동건 (30)\n",
      "2. 송강호 (40)\n",
      "3. 김윤석 (43)\n",
      "1. 장동건 (30)\n",
      "2. 송강호 (40)\n",
      "3. 김윤석 (43)\n"
     ]
    }
   ],
   "source": [
    "names = [('장동건', 30), ('송강호', 40), ('김윤석', 43)]\n",
    "\n",
    "for idx, (name, age) in enumerate(names): # 현재순서번호, 데이터 반환\n",
    "    print(f'{idx + 1}. {name} ({age})')\n",
    "\n",
    "for idx, name in enumerate(names): # 현재순서번호, 데이터 반환\n",
    "    print(f'{idx + 1}. {name[0]} ({name[1]})')"
   ]
  },
  {
   "cell_type": "code",
   "execution_count": 16,
   "metadata": {},
   "outputs": [
    {
     "name": "stdout",
     "output_type": "stream",
     "text": [
      "장동건 (30)\n",
      "송강호 (40)\n",
      "김윤석 (43)\n",
      "1. 장동건 (30)\n",
      "2. 송강호 (40)\n",
      "3. 김윤석 (43)\n"
     ]
    }
   ],
   "source": [
    "names = ['장동건', '송강호', '김윤석']\n",
    "ages = [ 30, 40, 43 ]\n",
    "\n",
    "for (name, age) in zip(names, ages): # ('장동건', 30), ('송강호', 40), ('김윤석', 43)\n",
    "    print(f'{name} ({age})')\n",
    "\n",
    "for idx, (name, age) in enumerate( zip(names, ages), start=1 ):\n",
    "    print(f'{idx}. {name} ({age})')\n"
   ]
  },
  {
   "cell_type": "code",
   "execution_count": 22,
   "metadata": {},
   "outputs": [
    {
     "name": "stdout",
     "output_type": "stream",
     "text": [
      "1 2 3 4 5 6 7 8 9 \n",
      "**********\n",
      "1 3 5 7 9 \n",
      "**********\n",
      "반복 실행중\n",
      "반복 실행중\n",
      "반복 실행중\n",
      "반복 실행중\n",
      "반복 실행중\n",
      "반복 실행중\n",
      "반복 실행중\n",
      "반복 실행중\n",
      "반복 실행중\n",
      "반복 실행중\n"
     ]
    }
   ],
   "source": [
    "for idx in range(1, 10):\n",
    "    print(idx, end=\" \")\n",
    "\n",
    "print()\n",
    "print(\"*\" * 10)\n",
    "\n",
    "for idx in range(1, 11, 2):\n",
    "    print(idx, end=\" \")  \n",
    "\n",
    "print()\n",
    "print(\"*\" * 10)\n",
    "\n",
    "for _ in range(1, 11):\n",
    "    print('반복 실행중')   "
   ]
  },
  {
   "cell_type": "code",
   "execution_count": null,
   "metadata": {},
   "outputs": [],
   "source": []
  }
 ],
 "metadata": {
  "kernelspec": {
   "display_name": "python-env-311",
   "language": "python",
   "name": "python3"
  },
  "language_info": {
   "codemirror_mode": {
    "name": "ipython",
    "version": 3
   },
   "file_extension": ".py",
   "mimetype": "text/x-python",
   "name": "python",
   "nbconvert_exporter": "python",
   "pygments_lexer": "ipython3",
   "version": "3.11.11"
  }
 },
 "nbformat": 4,
 "nbformat_minor": 2
}
