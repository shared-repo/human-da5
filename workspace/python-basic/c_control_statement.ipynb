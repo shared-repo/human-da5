{
 "cells": [
  {
   "cell_type": "code",
   "execution_count": null,
   "metadata": {},
   "outputs": [
    {
     "name": "stdout",
     "output_type": "stream",
     "text": [
      "장동건\n"
     ]
    }
   ],
   "source": [
    "name = input(\"이름을 입력하세요\") # 사용자로부터 입력 받기 -> 변수에 저장\n",
    "print(name)"
   ]
  },
  {
   "cell_type": "code",
   "execution_count": null,
   "metadata": {},
   "outputs": [
    {
     "name": "stdout",
     "output_type": "stream",
     "text": [
      "<class 'str'> 50\n",
      "<class 'int'> 50\n"
     ]
    }
   ],
   "source": [
    "number = input(\"숫자를 입력하세요\")\n",
    "print(type(number), number)\n",
    "number2 = int(number) # '10' -> 10\n",
    "print(type(number2), number2)"
   ]
  },
  {
   "cell_type": "code",
   "execution_count": 7,
   "metadata": {},
   "outputs": [
    {
     "name": "stdout",
     "output_type": "stream",
     "text": [
      "짝수\n"
     ]
    }
   ],
   "source": [
    "# 숫자 입력 -> 짝수 홀수를 구분해서 출력\n",
    "number = input(\"숫자(정수)를 입력하세요\")\n",
    "number = int(number)\n",
    "\n",
    "if number % 2 == 0:\n",
    "    print('짝수')\n",
    "else:\n",
    "    print('홀수')"
   ]
  },
  {
   "cell_type": "code",
   "execution_count": null,
   "metadata": {},
   "outputs": [
    {
     "name": "stdout",
     "output_type": "stream",
     "text": [
      "0\n"
     ]
    }
   ],
   "source": [
    "# 숫자 입력 -> 음수 양수 0을 구분해서 출력\n",
    "number = input(\"숫자를 입력하세요\")\n",
    "number = int(number)\n",
    "\n",
    "if number > 0:\n",
    "    print(\"1\")\n",
    "    print('양수')\n",
    "elif number < 0:\n",
    "    print('음수')\n",
    "else:\n",
    "    print(\"0\")"
   ]
  },
  {
   "cell_type": "code",
   "execution_count": 56,
   "metadata": {},
   "outputs": [
    {
     "name": "stdout",
     "output_type": "stream",
     "text": [
      "0.8951930981071382\n",
      "1\n"
     ]
    }
   ],
   "source": [
    "import random\n",
    "\n",
    "rnumber = random.random() # 0 ~ 1 난수 발생\n",
    "print(rnumber)\n",
    "\n",
    "rnumber2 = random.randint(1, 45)\n",
    "print(rnumber2)\n",
    "\n"
   ]
  },
  {
   "cell_type": "code",
   "execution_count": null,
   "metadata": {},
   "outputs": [
    {
     "name": "stdout",
     "output_type": "stream",
     "text": [
      "[62, 93, 13]\n",
      "168\n",
      "56.0\n",
      "B\n"
     ]
    }
   ],
   "source": [
    "# 0 ~ 100 범위의 random number 3개 뽑기 -> 각각 변수에 저장 (또는 리스트에 저장)\n",
    "numbers = []\n",
    "numbers.append( random.randint(1, 100) )\n",
    "numbers.append( random.randint(1, 100) )\n",
    "numbers.append( random.randint(1, 100) )\n",
    "# 각 값 출력\n",
    "print(numbers)\n",
    "# 세 값을 더해서 다른 변수에 저장\n",
    "# hap = numbers[0] + numbers[1] + numbers[2]\n",
    "hap = sum(numbers) # 리스트에 포함된 값을 더하기 \n",
    "# 합계 출력\n",
    "print(hap)\n",
    "# 합을 사용해서 평균 계산 -> 다른 변수에 저장\n",
    "mean = hap / len(numbers)\n",
    "# 평균 출력\n",
    "print(mean)\n",
    "\n",
    "# 등급 출력\n",
    "if 90 <= mean and mean <= 100:\n",
    "    print('A')\n",
    "elif mean >= 80 and mean < 90:\n",
    "    print('B')\n",
    "elif mean >= 70 and mean < 80:\n",
    "    print('C')\n",
    "elif mean >= 60 and mean < 70:\n",
    "    print('D')\n",
    "elif mean >= 0 and mean < 60:\n",
    "    print('F')\n",
    "else:\n",
    "    print('비정상 데이터')\n"
   ]
  },
  {
   "cell_type": "code",
   "execution_count": null,
   "metadata": {},
   "outputs": [],
   "source": [
    "if mean >= 90:\n",
    "    pass\n",
    "else:\n",
    "    pass\n"
   ]
  },
  {
   "cell_type": "code",
   "execution_count": 1,
   "metadata": {},
   "outputs": [
    {
     "name": "stdout",
     "output_type": "stream",
     "text": [
      "1 라운드 입니다.\n",
      "2 라운드 입니다.\n",
      "3 라운드 입니다.\n",
      "4 라운드 입니다.\n",
      "5 라운드 입니다.\n",
      "6 라운드 입니다.\n",
      "7 라운드 입니다.\n",
      "8 라운드 입니다.\n",
      "9 라운드 입니다.\n",
      "10 라운드 입니다.\n"
     ]
    }
   ],
   "source": [
    "rnd = 1\n",
    "while rnd <= 10:\n",
    "    print(f\"{rnd} 라운드 입니다.\")\n",
    "    # rnd = rnd + 1\n",
    "    rnd += 1 # -> rnd = rnd + 1\n",
    "    pass"
   ]
  },
  {
   "cell_type": "code",
   "execution_count": null,
   "metadata": {},
   "outputs": [],
   "source": []
  },
  {
   "cell_type": "code",
   "execution_count": null,
   "metadata": {},
   "outputs": [
    {
     "name": "stdout",
     "output_type": "stream",
     "text": [
      "장동건\n",
      "송강호\n",
      "김윤석\n"
     ]
    }
   ],
   "source": [
    "names = ['장동건', '송강호', '김윤석']\n",
    "for name in names:\n",
    "    print(name)"
   ]
  },
  {
   "cell_type": "code",
   "execution_count": 7,
   "metadata": {},
   "outputs": [
    {
     "name": "stdout",
     "output_type": "stream",
     "text": [
      "1. 장동건\n",
      "2. 송강호\n",
      "3. 김윤석\n"
     ]
    }
   ],
   "source": [
    "names = ['장동건', '송강호', '김윤석']\n",
    "for idx, name in enumerate(names): # 현재순서번호, 데이터 반환\n",
    "    print(f'{idx + 1}. {name}')"
   ]
  },
  {
   "cell_type": "code",
   "execution_count": null,
   "metadata": {},
   "outputs": [
    {
     "name": "stdout",
     "output_type": "stream",
     "text": [
      "1. 장동건 (30)\n",
      "2. 송강호 (40)\n",
      "3. 김윤석 (43)\n",
      "1. 장동건 (30)\n",
      "2. 송강호 (40)\n",
      "3. 김윤석 (43)\n"
     ]
    }
   ],
   "source": [
    "names = [('장동건', 30), ('송강호', 40), ('김윤석', 43)]\n",
    "\n",
    "for idx, (name, age) in enumerate(names): # 현재순서번호, 데이터 반환\n",
    "    print(f'{idx + 1}. {name} ({age})')\n",
    "\n",
    "for idx, name in enumerate(names): # 현재순서번호, 데이터 반환\n",
    "    print(f'{idx + 1}. {name[0]} ({name[1]})')"
   ]
  },
  {
   "cell_type": "code",
   "execution_count": 16,
   "metadata": {},
   "outputs": [
    {
     "name": "stdout",
     "output_type": "stream",
     "text": [
      "장동건 (30)\n",
      "송강호 (40)\n",
      "김윤석 (43)\n",
      "1. 장동건 (30)\n",
      "2. 송강호 (40)\n",
      "3. 김윤석 (43)\n"
     ]
    }
   ],
   "source": [
    "names = ['장동건', '송강호', '김윤석']\n",
    "ages = [ 30, 40, 43 ]\n",
    "\n",
    "for (name, age) in zip(names, ages): # ('장동건', 30), ('송강호', 40), ('김윤석', 43)\n",
    "    print(f'{name} ({age})')\n",
    "\n",
    "for idx, (name, age) in enumerate( zip(names, ages), start=1 ):\n",
    "    print(f'{idx}. {name} ({age})')\n"
   ]
  },
  {
   "cell_type": "code",
   "execution_count": 22,
   "metadata": {},
   "outputs": [
    {
     "name": "stdout",
     "output_type": "stream",
     "text": [
      "1 2 3 4 5 6 7 8 9 \n",
      "**********\n",
      "1 3 5 7 9 \n",
      "**********\n",
      "반복 실행중\n",
      "반복 실행중\n",
      "반복 실행중\n",
      "반복 실행중\n",
      "반복 실행중\n",
      "반복 실행중\n",
      "반복 실행중\n",
      "반복 실행중\n",
      "반복 실행중\n",
      "반복 실행중\n"
     ]
    }
   ],
   "source": [
    "for idx in range(1, 10):\n",
    "    print(idx, end=\" \")\n",
    "\n",
    "print()\n",
    "print(\"*\" * 10)\n",
    "\n",
    "for idx in range(1, 11, 2):\n",
    "    print(idx, end=\" \")  \n",
    "\n",
    "print()\n",
    "print(\"*\" * 10)\n",
    "\n",
    "for _ in range(1, 11):\n",
    "    print('반복 실행중')   "
   ]
  },
  {
   "cell_type": "code",
   "execution_count": null,
   "metadata": {},
   "outputs": [
    {
     "name": "stdout",
     "output_type": "stream",
     "text": [
      "d 장동건\n",
      "d 한석규\n",
      "d 송강호\n",
      "d 최민식\n"
     ]
    }
   ],
   "source": [
    "names = {'a': '장동건',\n",
    "         'b': '한석규', \n",
    "         'c': '송강호', \n",
    "         'd': '최민식' }\n",
    "\n",
    "for key in names: # dict를 순회하면 key 반복\n",
    "    print(name, names[key])"
   ]
  },
  {
   "cell_type": "code",
   "execution_count": 27,
   "metadata": {},
   "outputs": [
    {
     "name": "stdout",
     "output_type": "stream",
     "text": [
      "장동건\n",
      "한석규\n",
      "송강호\n",
      "최민식\n"
     ]
    }
   ],
   "source": [
    "for v in names.values(): \n",
    "    print(v)"
   ]
  },
  {
   "cell_type": "code",
   "execution_count": 28,
   "metadata": {},
   "outputs": [
    {
     "name": "stdout",
     "output_type": "stream",
     "text": [
      "a. 장동건\n",
      "b. 한석규\n",
      "c. 송강호\n",
      "d. 최민식\n"
     ]
    }
   ],
   "source": [
    "for k, v in names.items(): # (key, value) 반환 \n",
    "    print(f'{k}. {v}')"
   ]
  },
  {
   "cell_type": "code",
   "execution_count": null,
   "metadata": {},
   "outputs": [],
   "source": []
  },
  {
   "cell_type": "code",
   "execution_count": 31,
   "metadata": {},
   "outputs": [
    {
     "name": "stdout",
     "output_type": "stream",
     "text": [
      "[18, 18, 37, 7, 37, 41]\n",
      "[25, 24, 7, 22, 2, 41]\n"
     ]
    }
   ],
   "source": [
    "# 로또 번호 추출기 1\n",
    "\n",
    "# 1. 1 ~ 45, random, 6개 뽑기 -> 리스트에 저장\n",
    "# -> [ random, range, for 사용 ] or [ random, while 사용 ]\n",
    "# 2. 출력\n",
    "\n",
    "import random\n",
    "\n",
    "numbers = [] # 리스트 만들기\n",
    "for _ in range(6):\n",
    "    numbers.append( random.randint(1, 45) )\n",
    "print(numbers)\n",
    "\n",
    "numbers2 = [] # 리스트 만들기\n",
    "while len(numbers2) < 6:\n",
    "    numbers2.append( random.randint(1, 45) )\n",
    "print(numbers2)"
   ]
  },
  {
   "cell_type": "code",
   "execution_count": 34,
   "metadata": {},
   "outputs": [
    {
     "name": "stdout",
     "output_type": "stream",
     "text": [
      "True\n",
      "False\n"
     ]
    }
   ],
   "source": [
    "# 리스트(튜플)에 어떤 값의 포함 여부 확인\n",
    "\n",
    "print( 3 in [1, 2, 3, 4, 5] ) # 3이 리스트에 포함된 값인가요?\n",
    "print( 7 in [1, 2, 3, 4, 5] ) # 7이 리스트에 포함된 값인가요?"
   ]
  },
  {
   "cell_type": "code",
   "execution_count": 64,
   "metadata": {},
   "outputs": [
    {
     "name": "stdout",
     "output_type": "stream",
     "text": [
      "[26, 8, 4, 14, 12, 41]\n"
     ]
    }
   ],
   "source": [
    "# 로또 번호 추출기 2\n",
    "\n",
    "# 1. 1 ~ 45, 중복X, random, 6개 뽑기 -> 리스트에 저장\n",
    "# -> [ random, while 사용 ]\n",
    "# 2. 출력\n",
    "\n",
    "numbers2 = [] # 리스트 만들기\n",
    "while len(numbers2) < 6:\n",
    "    number = random.randint(1, 45)\n",
    "    # if (number in numbers2) == False:\n",
    "    if number not in numbers2:\n",
    "        numbers2.append( number )\n",
    "print(numbers2)"
   ]
  },
  {
   "cell_type": "code",
   "execution_count": 73,
   "metadata": {},
   "outputs": [
    {
     "name": "stdout",
     "output_type": "stream",
     "text": [
      "others\n",
      "end of while loop\n",
      "2\n"
     ]
    }
   ],
   "source": [
    "while True:\n",
    "    n = random.randint(1, 3) # 1, 2, 3\n",
    "    if n == 1:\n",
    "        print(\"1\")\n",
    "        continue # 반복문의 처음으로 이동하세요\n",
    "    elif n == 2:\n",
    "        print(\"2\")\n",
    "        break # 반복문을 종료하세요\n",
    "    else:\n",
    "        print(\"others\")\n",
    "\n",
    "    print('end of while loop')"
   ]
  },
  {
   "cell_type": "code",
   "execution_count": null,
   "metadata": {},
   "outputs": [
    {
     "name": "stdout",
     "output_type": "stream",
     "text": [
      "[41, 26, 6, 8, 27, 14] 20.333333333333332\n"
     ]
    }
   ],
   "source": [
    "# 로또 번호 추출기 3\n",
    "\n",
    "# 1. 1 ~ 45, 중복X, random, 6개 뽑기 -> 리스트에 저장\n",
    "# -> [ random, while 사용 ]\n",
    "# 2. 뽑힌 숫자의 평균 계산\n",
    "# 3. 평균이 20보다 작거나 26보다 크다면 1부터 다시\n",
    "\n",
    "# 4. 출력\n",
    "\n",
    "# 1 ~ 2까지 반복문(while)으로 구성\n",
    "while True:\n",
    "    # 1\n",
    "    numbers2 = [] # 리스트 만들기    \n",
    "    while len(numbers2) < 6:\n",
    "        number = random.randint(1, 45)\n",
    "        # if (number in numbers2) == False:\n",
    "        if number not in numbers2:\n",
    "            numbers2.append( number )\n",
    "    # 합 계산\n",
    "    hap = sum(numbers2)\n",
    "    # 평균 계산\n",
    "    mean = hap / len(numbers2)\n",
    "    # 평균 검사 -> 조건을 만족하면 종료 -> if and break\n",
    "    if mean > 20 and mean < 26:\n",
    "        print(numbers2, mean)\n",
    "        break\n",
    "    # 2\n",
    "\n"
   ]
  },
  {
   "cell_type": "code",
   "execution_count": null,
   "metadata": {},
   "outputs": [],
   "source": []
  }
 ],
 "metadata": {
  "kernelspec": {
   "display_name": "python-env-311",
   "language": "python",
   "name": "python3"
  },
  "language_info": {
   "codemirror_mode": {
    "name": "ipython",
    "version": 3
   },
   "file_extension": ".py",
   "mimetype": "text/x-python",
   "name": "python",
   "nbconvert_exporter": "python",
   "pygments_lexer": "ipython3",
   "version": "3.11.11"
  }
 },
 "nbformat": 4,
 "nbformat_minor": 2
}
