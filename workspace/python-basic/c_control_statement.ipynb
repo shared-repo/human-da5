{
 "cells": [
  {
   "cell_type": "code",
   "execution_count": null,
   "metadata": {},
   "outputs": [
    {
     "name": "stdout",
     "output_type": "stream",
     "text": [
      "장동건\n"
     ]
    }
   ],
   "source": [
    "name = input(\"이름을 입력하세요\") # 사용자로부터 입력 받기 -> 변수에 저장\n",
    "print(name)"
   ]
  },
  {
   "cell_type": "code",
   "execution_count": 5,
   "metadata": {},
   "outputs": [
    {
     "name": "stdout",
     "output_type": "stream",
     "text": [
      "<class 'str'> 50\n",
      "<class 'int'> 50\n"
     ]
    }
   ],
   "source": [
    "number = input(\"숫자를 입력하세요\")\n",
    "print(type(number), number)\n",
    "number2 = int(number) # '10' -> 10\n",
    "print(type(number2), number2)"
   ]
  },
  {
   "cell_type": "code",
   "execution_count": 7,
   "metadata": {},
   "outputs": [
    {
     "name": "stdout",
     "output_type": "stream",
     "text": [
      "짝수\n"
     ]
    }
   ],
   "source": [
    "# 숫자 입력 -> 짝수 홀수를 구분해서 출력\n",
    "number = input(\"숫자(정수)를 입력하세요\")\n",
    "number = int(number)\n",
    "\n",
    "if number % 2 == 0:\n",
    "    print('짝수')\n",
    "else:\n",
    "    print('홀수')"
   ]
  },
  {
   "cell_type": "code",
   "execution_count": 10,
   "metadata": {},
   "outputs": [
    {
     "name": "stdout",
     "output_type": "stream",
     "text": [
      "0\n"
     ]
    }
   ],
   "source": [
    "# 숫자 입력 -> 음수 양수 0을 구분해서 출력\n",
    "number = input(\"숫자를 입력하세요\")\n",
    "number = int(number)\n",
    "\n",
    "if number > 0:\n",
    "    print('양수')\n",
    "elif number < 0:\n",
    "    print('음수')\n",
    "else:\n",
    "    print(\"0\")"
   ]
  },
  {
   "cell_type": "code",
   "execution_count": null,
   "metadata": {},
   "outputs": [],
   "source": []
  }
 ],
 "metadata": {
  "kernelspec": {
   "display_name": "python-env-311",
   "language": "python",
   "name": "python3"
  },
  "language_info": {
   "codemirror_mode": {
    "name": "ipython",
    "version": 3
   },
   "file_extension": ".py",
   "mimetype": "text/x-python",
   "name": "python",
   "nbconvert_exporter": "python",
   "pygments_lexer": "ipython3",
   "version": "3.11.11"
  }
 },
 "nbformat": 4,
 "nbformat_minor": 2
}
