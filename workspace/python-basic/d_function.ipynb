{
 "cells": [
  {
   "cell_type": "code",
   "execution_count": 6,
   "metadata": {},
   "outputs": [],
   "source": [
    "# 함수 정의, 선언 -> 함수 만들기\n",
    "def show_message():\n",
    "    print(\"안녕하세요.\")\n",
    "    print(\"함수의 세계에 오신것을 환영합니다.\")\n",
    "    print(\"수정되었습니다.\")"
   ]
  },
  {
   "cell_type": "code",
   "execution_count": 7,
   "metadata": {},
   "outputs": [
    {
     "name": "stdout",
     "output_type": "stream",
     "text": [
      "안녕하세요.\n",
      "함수의 세계에 오신것을 환영합니다.\n",
      "수정되었습니다.\n",
      "안녕하세요.\n",
      "함수의 세계에 오신것을 환영합니다.\n",
      "수정되었습니다.\n"
     ]
    }
   ],
   "source": [
    "# 함수 호출 : 정의된 함수를 실행\n",
    "show_message()\n",
    "show_message()"
   ]
  },
  {
   "cell_type": "code",
   "execution_count": 9,
   "metadata": {},
   "outputs": [
    {
     "name": "stdout",
     "output_type": "stream",
     "text": [
      "<bound method Kernel.raw_input of <ipykernel.ipkernel.IPythonKernel object at 0x00000282B2C090D0>>\n",
      "<function show_message at 0x00000282B4299260>\n"
     ]
    }
   ],
   "source": [
    "print(input)\n",
    "print(show_message)"
   ]
  }
 ],
 "metadata": {
  "kernelspec": {
   "display_name": "python-env-311",
   "language": "python",
   "name": "python3"
  },
  "language_info": {
   "codemirror_mode": {
    "name": "ipython",
    "version": 3
   },
   "file_extension": ".py",
   "mimetype": "text/x-python",
   "name": "python",
   "nbconvert_exporter": "python",
   "pygments_lexer": "ipython3",
   "version": "3.11.11"
  }
 },
 "nbformat": 4,
 "nbformat_minor": 2
}
