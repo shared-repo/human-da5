{
 "cells": [
  {
   "cell_type": "code",
   "execution_count": 6,
   "metadata": {},
   "outputs": [],
   "source": [
    "# 함수 정의, 선언 -> 함수 만들기\n",
    "def show_message():\n",
    "    print(\"안녕하세요.\")\n",
    "    print(\"함수의 세계에 오신것을 환영합니다.\")\n",
    "    print(\"수정되었습니다.\")"
   ]
  },
  {
   "cell_type": "code",
   "execution_count": 7,
   "metadata": {},
   "outputs": [
    {
     "name": "stdout",
     "output_type": "stream",
     "text": [
      "안녕하세요.\n",
      "함수의 세계에 오신것을 환영합니다.\n",
      "수정되었습니다.\n",
      "안녕하세요.\n",
      "함수의 세계에 오신것을 환영합니다.\n",
      "수정되었습니다.\n"
     ]
    }
   ],
   "source": [
    "# 함수 호출 : 정의된 함수를 실행\n",
    "show_message()\n",
    "show_message()"
   ]
  },
  {
   "cell_type": "code",
   "execution_count": 9,
   "metadata": {},
   "outputs": [
    {
     "name": "stdout",
     "output_type": "stream",
     "text": [
      "<bound method Kernel.raw_input of <ipykernel.ipkernel.IPythonKernel object at 0x00000282B2C090D0>>\n",
      "<function show_message at 0x00000282B4299260>\n"
     ]
    }
   ],
   "source": [
    "print(input)\n",
    "print(show_message)"
   ]
  },
  {
   "cell_type": "code",
   "execution_count": null,
   "metadata": {},
   "outputs": [],
   "source": [
    "# '*' 문자를 사용해서 20 X 10 박스 그리기\n",
    "# 경계선은 *, 내부는 공백으로 표시\n",
    "# ********************\n",
    "# *                  *\n",
    "# *                  *\n",
    "# ...                \n",
    "# ********************"
   ]
  },
  {
   "cell_type": "code",
   "execution_count": 12,
   "metadata": {},
   "outputs": [
    {
     "name": "stdout",
     "output_type": "stream",
     "text": [
      "********************\n",
      "*                  *\n",
      "*                  *\n",
      "*                  *\n",
      "*                  *\n",
      "*                  *\n",
      "*                  *\n",
      "*                  *\n",
      "*                  *\n",
      "********************\n"
     ]
    }
   ],
   "source": [
    "for y in range(10):\n",
    "    for x in range(20):\n",
    "        if x == 0 or x == 19 or y == 0 or y == 9:\n",
    "            print(\"*\", end='')\n",
    "        else:\n",
    "            print(\" \", end='')\n",
    "    print() # 줄바꿈"
   ]
  },
  {
   "cell_type": "code",
   "execution_count": null,
   "metadata": {},
   "outputs": [],
   "source": [
    "# 박스 그리기 함수 만들기 --> 정의, 선언\n",
    "def draw_box():\n",
    "    \"\"\"이 함수는 가로 20, 세로 10 크기의 박스를 그리는 함수입니다.\n",
    "    박스그리기에 사용하는 문자는 '*'입니다.\"\"\"\n",
    "    for y in range(10):\n",
    "        for x in range(20):\n",
    "            if x == 0 or x == 19 or y == 0 or y == 9:\n",
    "                print(\"*\", end='')\n",
    "            else:\n",
    "                print(\" \", end='')\n",
    "        print() # 줄바꿈"
   ]
  },
  {
   "cell_type": "code",
   "execution_count": 16,
   "metadata": {},
   "outputs": [
    {
     "name": "stdout",
     "output_type": "stream",
     "text": [
      "********************\n",
      "*                  *\n",
      "*                  *\n",
      "*                  *\n",
      "*                  *\n",
      "*                  *\n",
      "*                  *\n",
      "*                  *\n",
      "*                  *\n",
      "********************\n",
      "********************\n",
      "*                  *\n",
      "*                  *\n",
      "*                  *\n",
      "*                  *\n",
      "*                  *\n",
      "*                  *\n",
      "*                  *\n",
      "*                  *\n",
      "********************\n"
     ]
    }
   ],
   "source": [
    "# 박스 그리기 함수 실행 --> 호출\n",
    "draw_box()\n",
    "draw_box()"
   ]
  },
  {
   "cell_type": "code",
   "execution_count": 24,
   "metadata": {},
   "outputs": [],
   "source": [
    "# 박스 그리기 함수 만들기 2 : 전달인자 (파라미터) 사용\n",
    "def draw_box2(width, height, c):   \n",
    "    for y in range(height):\n",
    "        for x in range(width):\n",
    "            if x == 0 or x == width-1 or y == 0 or y == height-1:\n",
    "                print(c, end='')\n",
    "            else:\n",
    "                print(\" \", end='')\n",
    "        print() # 줄바꿈"
   ]
  },
  {
   "cell_type": "code",
   "execution_count": null,
   "metadata": {},
   "outputs": [
    {
     "name": "stdout",
     "output_type": "stream",
     "text": [
      "##################################################\n",
      "#                                                #\n",
      "#                                                #\n",
      "#                                                #\n",
      "#                                                #\n",
      "#                                                #\n",
      "#                                                #\n",
      "#                                                #\n",
      "#                                                #\n",
      "##################################################\n"
     ]
    }
   ],
   "source": [
    "w = int( input('박스의 너비 : ') )\n",
    "h = int( input('박스의 높이 : ') )\n",
    "c = input('박스 그리기에 사용할 문자 : ')\n",
    "draw_box2(w, h, c) # draw_box2 함수에게 width, height 값 전달"
   ]
  },
  {
   "cell_type": "code",
   "execution_count": 27,
   "metadata": {},
   "outputs": [
    {
     "name": "stdout",
     "output_type": "stream",
     "text": [
      "30\n"
     ]
    }
   ],
   "source": [
    "# 결과(반환, retrun)가 있는 함수 만들기\n",
    "def add(a, b):\n",
    "    r = a + b\n",
    "    return r # 함수를 종료하고 호출한 곳으로 r을 반환\n",
    "\n",
    "result = add(10, 20)\n",
    "print(result)"
   ]
  },
  {
   "cell_type": "code",
   "execution_count": 30,
   "metadata": {},
   "outputs": [
    {
     "name": "stdout",
     "output_type": "stream",
     "text": [
      "(1, 2, 3, 4, 5)\n",
      "15\n",
      "(1, 2, 3)\n",
      "6\n",
      "(1, 2)\n",
      "3\n"
     ]
    }
   ],
   "source": [
    "# result = add(10, 20, 30)\n",
    "# print(result)\n",
    "\n",
    "# 갯수에 관계없는 전달인자를 사용하는 함수 정의\n",
    "def add_all(*values):\n",
    "    print(values)\n",
    "    r = sum(values)\n",
    "    return r\n",
    "\n",
    "print( add_all(1, 2, 3, 4, 5) )\n",
    "print( add_all(1, 2, 3) )\n",
    "print( add_all(1, 2) )"
   ]
  },
  {
   "cell_type": "code",
   "execution_count": null,
   "metadata": {},
   "outputs": [
    {
     "name": "stdout",
     "output_type": "stream",
     "text": [
      "(18, 11)\n",
      "18 90\n",
      "47 16\n"
     ]
    }
   ],
   "source": [
    "# 여러 개의 값을 반환하는 함수 만들기\n",
    "import random\n",
    "\n",
    "def return_multiple_values():\n",
    "    return random.randint(10, 99), random.randint(10, 99) # 여러 개의 값을 묶어서 한 개의 tuple로 반환\n",
    "\n",
    "print( return_multiple_values() )\n",
    "\n",
    "a = return_multiple_values()\n",
    "print(a[0], a[1])\n",
    "\n",
    "b, c = return_multiple_values()\n",
    "print(b, c)"
   ]
  },
  {
   "cell_type": "code",
   "execution_count": 40,
   "metadata": {},
   "outputs": [
    {
     "name": "stdout",
     "output_type": "stream",
     "text": [
      "나의 이름은 John Doe 입니다.\n",
      "나이는 32살입니다.\n",
      "남자입니다.\n",
      "나의 이름은 Jane Doe 입니다.\n",
      "나이는 32살입니다.\n",
      "여자입니다.\n"
     ]
    }
   ],
   "source": [
    "# 기본값이 지정된 전달인자를 사용하는 함수 만들기\n",
    "def say_myself(name, old, man=True):\n",
    "    print(\"나의 이름은 %s 입니다.\" % name)\n",
    "    print(\"나이는 %d살입니다.\" % old)\n",
    "    if man:\n",
    "        print(\"남자입니다.\")\n",
    "    else:\n",
    "        print(\"여자입니다.\")\n",
    "\n",
    "say_myself('John Doe', 32)\n",
    "say_myself('Jane Doe', 32, False)\n"
   ]
  },
  {
   "cell_type": "code",
   "execution_count": 41,
   "metadata": {},
   "outputs": [
    {
     "name": "stdout",
     "output_type": "stream",
     "text": [
      "1 2 3 20\n",
      "1 2 10 3\n"
     ]
    }
   ],
   "source": [
    "# 기본값이 지정된 전달인자를 사용하는 함수 만들기 2\n",
    "# def default_paramater_test(a, b, c=10, d): # 전달인자 목록 중간에 기본값 사용 불가능\n",
    "def default_paramater_test(a, b, c=10, d=20): # 기본 값이 전다인자는 뒷부분에 배치\n",
    "    print(a, b, c, d)\n",
    "\n",
    "\n",
    "default_paramater_test(1, 2, 3) # 3은 c 전달인자에 저장\n",
    "default_paramater_test(1, 2, d=3) # 3은 d 전달인자에 저장\n"
   ]
  }
 ],
 "metadata": {
  "kernelspec": {
   "display_name": "python-env-311",
   "language": "python",
   "name": "python3"
  },
  "language_info": {
   "codemirror_mode": {
    "name": "ipython",
    "version": 3
   },
   "file_extension": ".py",
   "mimetype": "text/x-python",
   "name": "python",
   "nbconvert_exporter": "python",
   "pygments_lexer": "ipython3",
   "version": "3.11.11"
  }
 },
 "nbformat": 4,
 "nbformat_minor": 2
}
