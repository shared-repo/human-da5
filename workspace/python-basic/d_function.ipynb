{
 "cells": [
  {
   "cell_type": "code",
   "execution_count": 6,
   "metadata": {},
   "outputs": [],
   "source": [
    "# 함수 정의, 선언 -> 함수 만들기\n",
    "def show_message():\n",
    "    print(\"안녕하세요.\")\n",
    "    print(\"함수의 세계에 오신것을 환영합니다.\")\n",
    "    print(\"수정되었습니다.\")"
   ]
  },
  {
   "cell_type": "code",
   "execution_count": 7,
   "metadata": {},
   "outputs": [
    {
     "name": "stdout",
     "output_type": "stream",
     "text": [
      "안녕하세요.\n",
      "함수의 세계에 오신것을 환영합니다.\n",
      "수정되었습니다.\n",
      "안녕하세요.\n",
      "함수의 세계에 오신것을 환영합니다.\n",
      "수정되었습니다.\n"
     ]
    }
   ],
   "source": [
    "# 함수 호출 : 정의된 함수를 실행\n",
    "show_message()\n",
    "show_message()"
   ]
  },
  {
   "cell_type": "code",
   "execution_count": 9,
   "metadata": {},
   "outputs": [
    {
     "name": "stdout",
     "output_type": "stream",
     "text": [
      "<bound method Kernel.raw_input of <ipykernel.ipkernel.IPythonKernel object at 0x00000282B2C090D0>>\n",
      "<function show_message at 0x00000282B4299260>\n"
     ]
    }
   ],
   "source": [
    "print(input)\n",
    "print(show_message)"
   ]
  },
  {
   "cell_type": "code",
   "execution_count": null,
   "metadata": {},
   "outputs": [],
   "source": [
    "# '*' 문자를 사용해서 20 X 10 박스 그리기\n",
    "# 경계선은 *, 내부는 공백으로 표시\n",
    "# ********************\n",
    "# *                  *\n",
    "# *                  *\n",
    "# ...                \n",
    "# ********************"
   ]
  },
  {
   "cell_type": "code",
   "execution_count": 12,
   "metadata": {},
   "outputs": [
    {
     "name": "stdout",
     "output_type": "stream",
     "text": [
      "********************\n",
      "*                  *\n",
      "*                  *\n",
      "*                  *\n",
      "*                  *\n",
      "*                  *\n",
      "*                  *\n",
      "*                  *\n",
      "*                  *\n",
      "********************\n"
     ]
    }
   ],
   "source": [
    "for y in range(10):\n",
    "    for x in range(20):\n",
    "        if x == 0 or x == 19 or y == 0 or y == 9:\n",
    "            print(\"*\", end='')\n",
    "        else:\n",
    "            print(\" \", end='')\n",
    "    print() # 줄바꿈"
   ]
  },
  {
   "cell_type": "code",
   "execution_count": null,
   "metadata": {},
   "outputs": [],
   "source": [
    "# 박스 그리기 함수 만들기 --> 정의, 선언\n",
    "def draw_box():\n",
    "    \"\"\"이 함수는 가로 20, 세로 10 크기의 박스를 그리는 함수입니다.\n",
    "    박스그리기에 사용하는 문자는 '*'입니다.\"\"\"\n",
    "    for y in range(10):\n",
    "        for x in range(20):\n",
    "            if x == 0 or x == 19 or y == 0 or y == 9:\n",
    "                print(\"*\", end='')\n",
    "            else:\n",
    "                print(\" \", end='')\n",
    "        print() # 줄바꿈"
   ]
  },
  {
   "cell_type": "code",
   "execution_count": 16,
   "metadata": {},
   "outputs": [
    {
     "name": "stdout",
     "output_type": "stream",
     "text": [
      "********************\n",
      "*                  *\n",
      "*                  *\n",
      "*                  *\n",
      "*                  *\n",
      "*                  *\n",
      "*                  *\n",
      "*                  *\n",
      "*                  *\n",
      "********************\n",
      "********************\n",
      "*                  *\n",
      "*                  *\n",
      "*                  *\n",
      "*                  *\n",
      "*                  *\n",
      "*                  *\n",
      "*                  *\n",
      "*                  *\n",
      "********************\n"
     ]
    }
   ],
   "source": [
    "# 박스 그리기 함수 실행 --> 호출\n",
    "draw_box()\n",
    "draw_box()"
   ]
  },
  {
   "cell_type": "code",
   "execution_count": null,
   "metadata": {},
   "outputs": [],
   "source": [
    "# 박스 그리기 함수 만들기 2 : 전달인자 (파라미터) 사용\n",
    "def draw_box2(width, height):   \n",
    "    for y in range(height):\n",
    "        for x in range(width):\n",
    "            if x == 0 or x == width-1 or y == 0 or y == height-1:\n",
    "                print(\"*\", end='')\n",
    "            else:\n",
    "                print(\" \", end='')\n",
    "        print() # 줄바꿈"
   ]
  },
  {
   "cell_type": "code",
   "execution_count": 23,
   "metadata": {},
   "outputs": [
    {
     "name": "stdout",
     "output_type": "stream",
     "text": [
      "******************************\n",
      "*                            *\n",
      "*                            *\n",
      "*                            *\n",
      "*                            *\n",
      "*                            *\n",
      "*                            *\n",
      "*                            *\n",
      "*                            *\n",
      "******************************\n"
     ]
    }
   ],
   "source": [
    "w = int( input('박스의 너비 : ') )\n",
    "h = int( input('박스의 높이 : ') )\n",
    "draw_box2(w, h) # draw_box2 함수에게 width, height 값 전달"
   ]
  }
 ],
 "metadata": {
  "kernelspec": {
   "display_name": "python-env-311",
   "language": "python",
   "name": "python3"
  },
  "language_info": {
   "codemirror_mode": {
    "name": "ipython",
    "version": 3
   },
   "file_extension": ".py",
   "mimetype": "text/x-python",
   "name": "python",
   "nbconvert_exporter": "python",
   "pygments_lexer": "ipython3",
   "version": "3.11.11"
  }
 },
 "nbformat": 4,
 "nbformat_minor": 2
}
