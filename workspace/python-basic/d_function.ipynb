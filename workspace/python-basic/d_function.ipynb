{
 "cells": [
  {
   "cell_type": "code",
   "execution_count": 6,
   "metadata": {},
   "outputs": [],
   "source": [
    "# 함수 정의, 선언 -> 함수 만들기\n",
    "def show_message():\n",
    "    print(\"안녕하세요.\")\n",
    "    print(\"함수의 세계에 오신것을 환영합니다.\")\n",
    "    print(\"수정되었습니다.\")"
   ]
  },
  {
   "cell_type": "code",
   "execution_count": 7,
   "metadata": {},
   "outputs": [
    {
     "name": "stdout",
     "output_type": "stream",
     "text": [
      "안녕하세요.\n",
      "함수의 세계에 오신것을 환영합니다.\n",
      "수정되었습니다.\n",
      "안녕하세요.\n",
      "함수의 세계에 오신것을 환영합니다.\n",
      "수정되었습니다.\n"
     ]
    }
   ],
   "source": [
    "# 함수 호출 : 정의된 함수를 실행\n",
    "show_message()\n",
    "show_message()"
   ]
  },
  {
   "cell_type": "code",
   "execution_count": 9,
   "metadata": {},
   "outputs": [
    {
     "name": "stdout",
     "output_type": "stream",
     "text": [
      "<bound method Kernel.raw_input of <ipykernel.ipkernel.IPythonKernel object at 0x00000282B2C090D0>>\n",
      "<function show_message at 0x00000282B4299260>\n"
     ]
    }
   ],
   "source": [
    "print(input)\n",
    "print(show_message)"
   ]
  },
  {
   "cell_type": "code",
   "execution_count": null,
   "metadata": {},
   "outputs": [],
   "source": [
    "# '*' 문자를 사용해서 20 X 10 박스 그리기\n",
    "# 경계선은 *, 내부는 공백으로 표시\n",
    "# ********************\n",
    "# *                  *\n",
    "# *                  *\n",
    "# ...                \n",
    "# ********************"
   ]
  },
  {
   "cell_type": "code",
   "execution_count": 12,
   "metadata": {},
   "outputs": [
    {
     "name": "stdout",
     "output_type": "stream",
     "text": [
      "********************\n",
      "*                  *\n",
      "*                  *\n",
      "*                  *\n",
      "*                  *\n",
      "*                  *\n",
      "*                  *\n",
      "*                  *\n",
      "*                  *\n",
      "********************\n"
     ]
    }
   ],
   "source": [
    "for y in range(10):\n",
    "    for x in range(20):\n",
    "        if x == 0 or x == 19 or y == 0 or y == 9:\n",
    "            print(\"*\", end='')\n",
    "        else:\n",
    "            print(\" \", end='')\n",
    "    print() # 줄바꿈"
   ]
  },
  {
   "cell_type": "code",
   "execution_count": null,
   "metadata": {},
   "outputs": [],
   "source": [
    "# 박스 그리기 함수 만들기 --> 정의, 선언\n",
    "def draw_box():\n",
    "    \"\"\"이 함수는 가로 20, 세로 10 크기의 박스를 그리는 함수입니다.\n",
    "    박스그리기에 사용하는 문자는 '*'입니다.\"\"\"\n",
    "    for y in range(10):\n",
    "        for x in range(20):\n",
    "            if x == 0 or x == 19 or y == 0 or y == 9:\n",
    "                print(\"*\", end='')\n",
    "            else:\n",
    "                print(\" \", end='')\n",
    "        print() # 줄바꿈"
   ]
  },
  {
   "cell_type": "code",
   "execution_count": 16,
   "metadata": {},
   "outputs": [
    {
     "name": "stdout",
     "output_type": "stream",
     "text": [
      "********************\n",
      "*                  *\n",
      "*                  *\n",
      "*                  *\n",
      "*                  *\n",
      "*                  *\n",
      "*                  *\n",
      "*                  *\n",
      "*                  *\n",
      "********************\n",
      "********************\n",
      "*                  *\n",
      "*                  *\n",
      "*                  *\n",
      "*                  *\n",
      "*                  *\n",
      "*                  *\n",
      "*                  *\n",
      "*                  *\n",
      "********************\n"
     ]
    }
   ],
   "source": [
    "# 박스 그리기 함수 실행 --> 호출\n",
    "draw_box()\n",
    "draw_box()"
   ]
  },
  {
   "cell_type": "code",
   "execution_count": 24,
   "metadata": {},
   "outputs": [],
   "source": [
    "# 박스 그리기 함수 만들기 2 : 전달인자 (파라미터) 사용\n",
    "def draw_box2(width, height, c):   \n",
    "    for y in range(height):\n",
    "        for x in range(width):\n",
    "            if x == 0 or x == width-1 or y == 0 or y == height-1:\n",
    "                print(c, end='')\n",
    "            else:\n",
    "                print(\" \", end='')\n",
    "        print() # 줄바꿈"
   ]
  },
  {
   "cell_type": "code",
   "execution_count": null,
   "metadata": {},
   "outputs": [
    {
     "name": "stdout",
     "output_type": "stream",
     "text": [
      "##################################################\n",
      "#                                                #\n",
      "#                                                #\n",
      "#                                                #\n",
      "#                                                #\n",
      "#                                                #\n",
      "#                                                #\n",
      "#                                                #\n",
      "#                                                #\n",
      "##################################################\n"
     ]
    }
   ],
   "source": [
    "w = int( input('박스의 너비 : ') )\n",
    "h = int( input('박스의 높이 : ') )\n",
    "c = input('박스 그리기에 사용할 문자 : ')\n",
    "draw_box2(w, h, c) # draw_box2 함수에게 width, height 값 전달"
   ]
  },
  {
   "cell_type": "code",
   "execution_count": 27,
   "metadata": {},
   "outputs": [
    {
     "name": "stdout",
     "output_type": "stream",
     "text": [
      "30\n"
     ]
    }
   ],
   "source": [
    "# 결과(반환, retrun)가 있는 함수 만들기\n",
    "def add(a, b):\n",
    "    r = a + b\n",
    "    return r # 함수를 종료하고 호출한 곳으로 r을 반환\n",
    "\n",
    "result = add(10, 20)\n",
    "print(result)"
   ]
  },
  {
   "cell_type": "code",
   "execution_count": null,
   "metadata": {},
   "outputs": [
    {
     "name": "stdout",
     "output_type": "stream",
     "text": [
      "(1, 2, 3, 4, 5)\n",
      "15\n",
      "(1, 2, 3)\n",
      "6\n",
      "(1, 2)\n",
      "3\n",
      "(1, 2, 3, 4, 5)\n",
      "15\n",
      "(1, 2, 3, 4, 5)\n",
      "15\n"
     ]
    }
   ],
   "source": [
    "# result = add(10, 20, 30)\n",
    "# print(result)\n",
    "\n",
    "# 갯수에 관계없는 전달인자를 사용하는 함수 정의\n",
    "def add_all(*values):\n",
    "    print(values)\n",
    "    r = sum(values)\n",
    "    return r\n",
    "\n",
    "print( add_all(1, 2, 3, 4, 5) ) # 값 5개 전달\n",
    "print( add_all(1, 2, 3) )\n",
    "print( add_all(1, 2) )\n",
    "\n",
    "l = [1, 2, 3, 4, 5]\n",
    "# print( add_all(l) ) # (다섯 개로 구성된)값 1개 전달 \n",
    "print( add_all(l[0], l[1], l[2], l[3], l[4]) )\n",
    "print( add_all(*l) ) # *l -> l[0], l[1], l[2], l[3], l[4]"
   ]
  },
  {
   "cell_type": "code",
   "execution_count": null,
   "metadata": {},
   "outputs": [
    {
     "name": "stdout",
     "output_type": "stream",
     "text": [
      "(18, 11)\n",
      "18 90\n",
      "47 16\n"
     ]
    }
   ],
   "source": [
    "# 여러 개의 값을 반환하는 함수 만들기\n",
    "import random\n",
    "\n",
    "def return_multiple_values():\n",
    "    return random.randint(10, 99), random.randint(10, 99) # 여러 개의 값을 묶어서 한 개의 tuple로 반환\n",
    "\n",
    "print( return_multiple_values() )\n",
    "\n",
    "a = return_multiple_values()\n",
    "print(a[0], a[1])\n",
    "\n",
    "b, c = return_multiple_values()\n",
    "print(b, c)"
   ]
  },
  {
   "cell_type": "code",
   "execution_count": 40,
   "metadata": {},
   "outputs": [
    {
     "name": "stdout",
     "output_type": "stream",
     "text": [
      "나의 이름은 John Doe 입니다.\n",
      "나이는 32살입니다.\n",
      "남자입니다.\n",
      "나의 이름은 Jane Doe 입니다.\n",
      "나이는 32살입니다.\n",
      "여자입니다.\n"
     ]
    }
   ],
   "source": [
    "# 기본값이 지정된 전달인자를 사용하는 함수 만들기\n",
    "def say_myself(name, old, man=True):\n",
    "    print(\"나의 이름은 %s 입니다.\" % name)\n",
    "    print(\"나이는 %d살입니다.\" % old)\n",
    "    if man:\n",
    "        print(\"남자입니다.\")\n",
    "    else:\n",
    "        print(\"여자입니다.\")\n",
    "\n",
    "say_myself('John Doe', 32)\n",
    "say_myself('Jane Doe', 32, False)\n"
   ]
  },
  {
   "cell_type": "code",
   "execution_count": 41,
   "metadata": {},
   "outputs": [
    {
     "name": "stdout",
     "output_type": "stream",
     "text": [
      "1 2 3 20\n",
      "1 2 10 3\n"
     ]
    }
   ],
   "source": [
    "# 기본값이 지정된 전달인자를 사용하는 함수 만들기 2\n",
    "# def default_paramater_test(a, b, c=10, d): # 전달인자 목록 중간에 기본값 사용 불가능\n",
    "def default_paramater_test(a, b, c=10, d=20): # 기본 값이 전다인자는 뒷부분에 배치\n",
    "    print(a, b, c, d)\n",
    "\n",
    "\n",
    "default_paramater_test(1, 2, 3) # 3은 c 전달인자에 저장\n",
    "default_paramater_test(1, 2, d=3) # 3은 d 전달인자에 저장\n"
   ]
  },
  {
   "cell_type": "code",
   "execution_count": null,
   "metadata": {},
   "outputs": [],
   "source": []
  },
  {
   "cell_type": "code",
   "execution_count": 54,
   "metadata": {},
   "outputs": [
    {
     "name": "stdout",
     "output_type": "stream",
     "text": [
      "*\n",
      "**\n",
      "***\n",
      "****\n",
      "*****\n",
      "******\n",
      "*******\n",
      "********\n",
      "*********\n",
      "**********\n"
     ]
    }
   ],
   "source": [
    "# 아래 삼각형을 출력하는 함수 만들기 (draw_triangle, 전달인자 X, 결과형 X)\n",
    "# *\n",
    "# **\n",
    "# ***\n",
    "# ****\n",
    "# ...\n",
    "# **********\n",
    "def draw_triangle():\n",
    "    for y in range(1, 11):\n",
    "        for x in range(y):\n",
    "            print('*', end='')\n",
    "        print()\n",
    "\n",
    "draw_triangle()\n"
   ]
  },
  {
   "cell_type": "code",
   "execution_count": null,
   "metadata": {},
   "outputs": [
    {
     "name": "stdout",
     "output_type": "stream",
     "text": [
      "690.0\n"
     ]
    }
   ],
   "source": [
    "# 환율 계산 함수 만들기 (원화 전달인자 -> 결과는 미화 반환)\n",
    "def exchange(won):\n",
    "    dol = won * 0.00069\n",
    "    return dol\n",
    "\n",
    "won = input(\"원화 : \")\n",
    "won = int(won)\n",
    "\n",
    "dol = exchange(won)\n",
    "print(dol)"
   ]
  },
  {
   "cell_type": "code",
   "execution_count": 52,
   "metadata": {},
   "outputs": [
    {
     "name": "stdout",
     "output_type": "stream",
     "text": [
      "a\n",
      "a\n",
      "존재하지 않는 값입니다.\n"
     ]
    }
   ],
   "source": [
    "d = {1: 'a', 2: 'b', 3: 'c'}\n",
    "print( d[1] )\n",
    "print( d.get(1) )\n",
    "\n",
    "# print(d[-1])\n",
    "print( d.get(-1, '존재하지 않는 값입니다.') )"
   ]
  },
  {
   "cell_type": "code",
   "execution_count": null,
   "metadata": {},
   "outputs": [
    {
     "name": "stdout",
     "output_type": "stream",
     "text": [
      "100000.0\n"
     ]
    }
   ],
   "source": [
    "# 환율 계산 함수 만들기 (원화, 화폐 전달인자 -> 결과는 달라, 엔, 위안 선택해서 반환)\n",
    "def exchange2(won, currency):\n",
    "    exchange_rate = { 1: 0.00069, 2: 0.10, 3: 0.0050 } # 1: dol, 2. yen, 3. yuan\n",
    "    rate = exchange_rate[currency]\n",
    "    result = won * rate\n",
    "    return result\n",
    "\n",
    "# won = input(\"원화 : \")\n",
    "# won = int(won)\n",
    "# currency = input(\"화폐 종류: 1: 달러, 2. 엔, 3. 위안\")\n",
    "# currency = int(currency)\n",
    "wc = input(\"원, 화폐 종류 : \\n(화폐 종류: 1: 달러, 2. 엔, 3. 위안)\")\n",
    "wc2 = wc.split(\",\") # \"10,1\" -> ['10', '1']\n",
    "wc3 = [ int(v.strip()) for v in wc2 ] # ' abc '.strip() -> 'abc'\n",
    "\n",
    "r = exchange2(wc3[0], wc3[1])\n",
    "print(r)"
   ]
  },
  {
   "cell_type": "code",
   "execution_count": 70,
   "metadata": {},
   "outputs": [
    {
     "name": "stdout",
     "output_type": "stream",
     "text": [
      "[11, 45, 35, 17, 33, 6] 24.5\n",
      "[42, 13, 31, 1, 11, 39] 22.833333333333332\n",
      "[31, 33, 36, 6, 17, 9] 22.0\n",
      "프로그램을 종료합니다.\n",
      "행운을 빕니다.\n"
     ]
    }
   ],
   "source": [
    "# 함수 만들기 1\n",
    "# - 1 ~ 45 범위의 6개의 중복X random number 뽑는 함수\n",
    "# - 함수이름 : select_basic_numbers\n",
    "# - 전달인자 X, 반환은 뽑힌 6개의 숫자 (리스트 형식)\n",
    "\n",
    "def select_basic_numbers():\n",
    "    numbers2 = [] # 리스트 만들기    \n",
    "    while len(numbers2) < 6:\n",
    "        number = random.randint(1, 45)\n",
    "        # if (number in numbers2) == False:\n",
    "        if number not in numbers2:\n",
    "            numbers2.append( number )\n",
    "    return numbers2\n",
    "\n",
    "# 함수 만들기 2\n",
    "# - 평균 계산\n",
    "# - 함수이름 : mean\n",
    "# - 전달인자 : 뽑힌 6개의 숫자 (리스트 형식), 반환 : 계산된 평균 값\n",
    "def mean(numbers):\n",
    "    hap = sum(numbers)\n",
    "    m = hap / len(numbers)\n",
    "    return m\n",
    "\n",
    "# 함수 만들기 3\n",
    "# - 평균 검사\n",
    "# - 함수이름 : check_mean\n",
    "# - 전달인자 : 평균 값, 반환 : True or False\n",
    "def check_mean(m):\n",
    "    # return m > 20 and m < 26\n",
    "    if m > 20 and m < 26:\n",
    "        return True\n",
    "    else:\n",
    "        return False\n",
    "    \n",
    "# 함수 만들기 4\n",
    "# - 당첨 예상 번호 뽑기\n",
    "# - 함수이름 : select_winning_numbers\n",
    "# - 전달인자 : 없음, 반환 : 뽑힌 6개의 숫자 (리스트 형식)와 평균\n",
    "def select_winning_numbers():\n",
    "    while True:\n",
    "        # 1\n",
    "        numbers2 = select_basic_numbers()\n",
    "        m = mean(numbers2)\n",
    "\n",
    "        # 평균 검사 -> 조건을 만족하면 종료 -> if and break\n",
    "        if check_mean(m):            \n",
    "            break\n",
    "    return numbers2, m\n",
    "\n",
    "while True:\n",
    "\n",
    "    msg = \"\"\"   1. 당첨 예상 번호 뽑기\n",
    "                2. 종료\n",
    "                원하는 작업을 선택하세요 : \"\"\"\n",
    "    selection = input(msg)\n",
    "\n",
    "    if selection == \"2\":\n",
    "        print(\"프로그램을 종료합니다.\")\n",
    "        print(\"행운을 빕니다.\")\n",
    "        break\n",
    "    elif selection != \"1\":\n",
    "        print(\"지원하지 않는 작업입니다.\")\n",
    "        continue\n",
    "\n",
    "    numbers2, m = select_winning_numbers()\n",
    "    print(numbers2, m)\n"
   ]
  }
 ],
 "metadata": {
  "kernelspec": {
   "display_name": "python-env-311",
   "language": "python",
   "name": "python3"
  },
  "language_info": {
   "codemirror_mode": {
    "name": "ipython",
    "version": 3
   },
   "file_extension": ".py",
   "mimetype": "text/x-python",
   "name": "python",
   "nbconvert_exporter": "python",
   "pygments_lexer": "ipython3",
   "version": "3.11.11"
  }
 },
 "nbformat": 4,
 "nbformat_minor": 2
}
