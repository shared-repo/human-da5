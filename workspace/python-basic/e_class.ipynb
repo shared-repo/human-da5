{
 "cells": [
  {
   "cell_type": "code",
   "execution_count": null,
   "metadata": {},
   "outputs": [],
   "source": [
    "# 클래스 만들기\n",
    "class Employee:\n",
    "    'Common base class for all employees'\n",
    "\n",
    "    emp_count = 0    # 공유 변수 : 모든 인스턴스가 공유하는 변수, 클래스 이름으로 사용\n",
    "\n",
    "    def __init__(self, name=\"\", salary=0): # 초기화 함수 : 인스턴스 만들때 자동 호출\n",
    "        print('새 인스턴스를 만들었습니다.')\n",
    "        self.name = name        # 인스턴스 변수 : 인스턴스 별로 따로 만들고 사용하는 변수 \n",
    "        self.salary = salary    # 인스턴스 변수\n",
    "        Employee.emp_count += 1\n",
    "\n",
    "    def display_count(self):\n",
    "        print(\"Total Employee %d\" % Employee.emp_count)\n",
    "\n",
    "    def display_employee(self):\n",
    "        print(\"Name : \", self.name, \", Salary: \", self.salary)"
   ]
  },
  {
   "cell_type": "code",
   "execution_count": null,
   "metadata": {},
   "outputs": [
    {
     "name": "stdout",
     "output_type": "stream",
     "text": [
      "새 인스턴스를 만들었습니다.\n",
      "Name :  John Doe , Salary:  100000000\n",
      "John Doe 100000000\n"
     ]
    }
   ],
   "source": [
    "# 클래스 사용 1\n",
    "emp = Employee('John Doe', 100000000) # 인스턴스 만들기 -> 변수 만들기\n",
    "emp.display_employee() # 인스턴스에 포함된 함수 사용(호출)\n",
    "print(emp.name, emp.salary) # 인스턴스에 포함된 변수 사용"
   ]
  },
  {
   "cell_type": "code",
   "execution_count": 8,
   "metadata": {},
   "outputs": [
    {
     "name": "stdout",
     "output_type": "stream",
     "text": [
      "새 인스턴스를 만들었습니다.\n",
      "Name :  Jane Doe , Salary:  200000000\n"
     ]
    }
   ],
   "source": [
    "# 클래스 사용 2\n",
    "emp2 = Employee(\"Jane Doe\", 200000000)\n",
    "emp2.display_employee()"
   ]
  },
  {
   "cell_type": "code",
   "execution_count": 11,
   "metadata": {},
   "outputs": [
    {
     "name": "stdout",
     "output_type": "stream",
     "text": [
      "새 인스턴스를 만들었습니다.\n",
      "Name :   , Salary:  0\n"
     ]
    }
   ],
   "source": [
    "# 클래스 사용 3\n",
    "emp3 = Employee()\n",
    "emp3.display_employee()"
   ]
  },
  {
   "cell_type": "code",
   "execution_count": 15,
   "metadata": {},
   "outputs": [
    {
     "name": "stdout",
     "output_type": "stream",
     "text": [
      "새 인스턴스를 만들었습니다.\n",
      "새 인스턴스를 만들었습니다.\n",
      "1000 2000\n",
      "4 4 4\n"
     ]
    }
   ],
   "source": [
    "# 클래스 사용 4\n",
    "emp4_1 = Employee('장동건', 1000)\n",
    "emp4_2 = Employee('송강호', 2000)\n",
    "\n",
    "print(emp4_1.salary, emp4_2.salary)\n",
    "print(emp4_1.emp_count, emp4_2.emp_count, Employee.emp_count)"
   ]
  },
  {
   "cell_type": "code",
   "execution_count": null,
   "metadata": {},
   "outputs": [
    {
     "name": "stdout",
     "output_type": "stream",
     "text": [
      "새 인스턴스를 만들었습니다.\n",
      "새 인스턴스를 만들었습니다.\n",
      "1000 2000\n",
      "벤틀리\n"
     ]
    },
    {
     "ename": "AttributeError",
     "evalue": "'Employee' object has no attribute 'car'",
     "output_type": "error",
     "traceback": [
      "\u001b[1;31m---------------------------------------------------------------------------\u001b[0m",
      "\u001b[1;31mAttributeError\u001b[0m                            Traceback (most recent call last)",
      "Cell \u001b[1;32mIn[17], line 9\u001b[0m\n\u001b[0;32m      7\u001b[0m \u001b[38;5;28mprint\u001b[39m(emp5_1\u001b[38;5;241m.\u001b[39msalary, emp5_2\u001b[38;5;241m.\u001b[39msalary)\n\u001b[0;32m      8\u001b[0m \u001b[38;5;28mprint\u001b[39m(emp5_1\u001b[38;5;241m.\u001b[39mcar)\n\u001b[1;32m----> 9\u001b[0m \u001b[38;5;28mprint\u001b[39m(\u001b[43memp5_2\u001b[49m\u001b[38;5;241;43m.\u001b[39;49m\u001b[43mcar\u001b[49m)\n",
      "\u001b[1;31mAttributeError\u001b[0m: 'Employee' object has no attribute 'car'"
     ]
    }
   ],
   "source": [
    "# 클래스 사용 5\n",
    "\n",
    "emp5_1 = Employee('장동건', 1000)\n",
    "emp5_2 = Employee('송강호', 2000)\n",
    "emp5_1.car = '벤틀리' # 객체(인스턴스)를 생성한 이후에 변수 추가\n",
    "\n",
    "print(emp5_1.salary, emp5_2.salary)\n",
    "print(emp5_1.car)\n",
    "# print(emp5_2.car) # 오류 : emp5_2에는 car 변수를 추가하지 않음\n"
   ]
  },
  {
   "cell_type": "code",
   "execution_count": 18,
   "metadata": {},
   "outputs": [
    {
     "name": "stdout",
     "output_type": "stream",
     "text": [
      "10 , 7\n"
     ]
    }
   ],
   "source": [
    "# 클래스 만들기 연습\n",
    "# - 평면상의 한 점을 구현하는 클래스\n",
    "# - 클래스 이름 : ThePoint\n",
    "# - 변수 : x, y\n",
    "# - 함수 : show() -> x, y위치 출력\n",
    "# - 초기화 함수 : x, y 값 초기화 (전달인자 사용)\n",
    "\n",
    "class ThePoint:\n",
    "\n",
    "    def __init__(self, x=0, y=0):\n",
    "        self.x = x\n",
    "        self.y = y\n",
    "\n",
    "    def show(self):\n",
    "        print(self.x, ',', self.y)\n",
    "\n",
    "# 클래스 사용 연습\n",
    "# -인스턴스 만들고 show함수 호출\n",
    "p = ThePoint(10, 7)\n",
    "p.show()"
   ]
  },
  {
   "cell_type": "code",
   "execution_count": null,
   "metadata": {},
   "outputs": [],
   "source": []
  },
  {
   "cell_type": "code",
   "execution_count": 35,
   "metadata": {},
   "outputs": [],
   "source": [
    "class Parent: # define parent class\n",
    "    parentAttr = 100\n",
    "    def __init__(self):\n",
    "        print (\"Calling parent constructor\")\n",
    "    def parentMethod(self):\n",
    "        print ('Calling parent method')\n",
    "    def setAttr(self, attr):\n",
    "        Parent.parentAttr = attr\n",
    "    def getAttr(self):\n",
    "        print (\"Parent attribute :\", Parent.parentAttr)\n",
    "\n",
    "class Parent2:\n",
    "    pass\n",
    "\n",
    "class Child(Parent, Parent2): # define child class ( 다중 상속 허용 : 2개 이상의 부모 클래스 )\n",
    "    def __init__(self):\n",
    "        super().__init__()\n",
    "        print (\"Calling child constructor\")\n",
    "    def childMethod(self):\n",
    "        print ('Calling child method')\n",
    "    def parentMethod(self): # 메서드 재정의 : 부모 메서드를 변경해서 사용 ( 부모 메서드와 이름, 전달인자 동일 )\n",
    "        super().parentMethod() # super() : 부모 인스턴스 가져오기\n",
    "        print ('Calling modified parent method')\n",
    "\n",
    "class Child2:\n",
    "    def __init__(self):\n",
    "        print (\"Calling child constructor\")\n",
    "    def childMethod(self):\n",
    "        print ('Calling child method')"
   ]
  },
  {
   "cell_type": "code",
   "execution_count": 32,
   "metadata": {},
   "outputs": [
    {
     "name": "stdout",
     "output_type": "stream",
     "text": [
      "Calling child constructor\n",
      "Calling child method\n",
      "Calling modified parent method\n",
      "Parent attribute : 12345\n",
      "Calling child constructor\n",
      "Calling child method\n"
     ]
    }
   ],
   "source": [
    "# 상속 클래스 사용 1\n",
    "c = Child()\n",
    "c.childMethod()\n",
    "c.parentMethod()    # 상속 받은 부모 클래스의 함수 호출\n",
    "c.setAttr(12345)    # 상속 받은 부모 클래스의 함수 호출\n",
    "c.getAttr()         # 상속 받은 부모 클래스의 함수 호출\n",
    "\n",
    "c2 = Child2()\n",
    "c2.childMethod()\n",
    "# c2.parentMethod() # 오류 : 상속 받지 않았기 때문에 Parent 클래스의 함수를 사용할 수 없습니다."
   ]
  },
  {
   "cell_type": "code",
   "execution_count": 36,
   "metadata": {},
   "outputs": [
    {
     "name": "stdout",
     "output_type": "stream",
     "text": [
      "Calling parent constructor\n",
      "Calling child constructor\n",
      "Calling parent method\n",
      "Calling modified parent method\n",
      "Calling parent constructor\n",
      "Calling parent method\n"
     ]
    }
   ],
   "source": [
    "# 상속 클래스 사용 2\n",
    "c3 = Child()\n",
    "c3.parentMethod()\n",
    "\n",
    "p3 = Parent()\n",
    "p3.parentMethod()"
   ]
  },
  {
   "cell_type": "code",
   "execution_count": 37,
   "metadata": {},
   "outputs": [
    {
     "data": {
      "text/plain": [
       "[__main__.Child, __main__.Parent, __main__.Parent2, object]"
      ]
     },
     "execution_count": 37,
     "metadata": {},
     "output_type": "execute_result"
    }
   ],
   "source": [
    "Child.mro()"
   ]
  }
 ],
 "metadata": {
  "kernelspec": {
   "display_name": "python-env-311",
   "language": "python",
   "name": "python3"
  },
  "language_info": {
   "codemirror_mode": {
    "name": "ipython",
    "version": 3
   },
   "file_extension": ".py",
   "mimetype": "text/x-python",
   "name": "python",
   "nbconvert_exporter": "python",
   "pygments_lexer": "ipython3",
   "version": "3.11.11"
  }
 },
 "nbformat": 4,
 "nbformat_minor": 2
}
