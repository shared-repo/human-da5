{
 "cells": [
  {
   "cell_type": "code",
   "execution_count": 3,
   "metadata": {},
   "outputs": [],
   "source": [
    "class Employee:\n",
    "    'Common base class for all employees'\n",
    "\n",
    "    emp_count = 0    # 변수\n",
    "\n",
    "    def __init__(self, name, salary):\n",
    "        self.name = name        # 변수\n",
    "        self.salary = salary    # 변수\n",
    "        Employee.emp_count += 1\n",
    "\n",
    "    def display_count(self):\n",
    "        print(\"Total Employee %d\" % Employee.emp_count)\n",
    "\n",
    "    def display_employee(self):\n",
    "        print(\"Name : \", self.name, \", Salary: \", self.salary)"
   ]
  },
  {
   "cell_type": "code",
   "execution_count": 4,
   "metadata": {},
   "outputs": [
    {
     "name": "stdout",
     "output_type": "stream",
     "text": [
      "Name :  John Doe , Salary:  100000000\n"
     ]
    }
   ],
   "source": [
    "# 클래스 사용\n",
    "emp = Employee('John Doe', 100000000)\n",
    "emp.display_employee()"
   ]
  }
 ],
 "metadata": {
  "kernelspec": {
   "display_name": "python-env-311",
   "language": "python",
   "name": "python3"
  },
  "language_info": {
   "codemirror_mode": {
    "name": "ipython",
    "version": 3
   },
   "file_extension": ".py",
   "mimetype": "text/x-python",
   "name": "python",
   "nbconvert_exporter": "python",
   "pygments_lexer": "ipython3",
   "version": "3.11.11"
  }
 },
 "nbformat": 4,
 "nbformat_minor": 2
}
