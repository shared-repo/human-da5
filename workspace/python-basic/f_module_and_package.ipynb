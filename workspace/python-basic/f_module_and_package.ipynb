{
 "cells": [
  {
   "cell_type": "code",
   "execution_count": 1,
   "metadata": {},
   "outputs": [
    {
     "name": "stdout",
     "output_type": "stream",
     "text": [
      "John Doe님 반갑습니다.\n",
      "[0.4351040280492998, 0.7423771513263726, 0.8805887244224754, 0.7204347870528073, 0.41023006016127683]\n"
     ]
    },
    {
     "data": {
      "text/plain": [
       "[0.8957894987242742,\n",
       " 0.4863577627195592,\n",
       " 0.419120476389542,\n",
       " 0.620798218500933,\n",
       " 0.515755420618595]"
      ]
     },
     "execution_count": 1,
     "metadata": {},
     "output_type": "execute_result"
    }
   ],
   "source": [
    "import my_module\n",
    "\n",
    "my_module.greetings('John Doe')\n",
    "my_module.select_rand_number(5)"
   ]
  },
  {
   "cell_type": "code",
   "execution_count": 1,
   "metadata": {},
   "outputs": [
    {
     "name": "stdout",
     "output_type": "stream",
     "text": [
      "Jane Doe님 반갑습니다.\n",
      "[0.6036534312662776, 0.23021970423408322, 0.5607275521178833]\n"
     ]
    }
   ],
   "source": [
    "from my_module import greetings, select_rand_number\n",
    "\n",
    "print( greetings('Jane Doe') )\n",
    "print( select_rand_number(3) )"
   ]
  },
  {
   "cell_type": "code",
   "execution_count": 6,
   "metadata": {},
   "outputs": [
    {
     "name": "stdout",
     "output_type": "stream",
     "text": [
      "Jane Doe님 반갑습니다.\n",
      "[0.8192690604929341, 0.7501180848011424, 0.29648263261178576]\n"
     ]
    }
   ],
   "source": [
    "import my_module as mm\n",
    "\n",
    "print( mm.greetings('Jane Doe') )\n",
    "print( mm.select_rand_number(3) )"
   ]
  },
  {
   "cell_type": "code",
   "execution_count": 2,
   "metadata": {},
   "outputs": [
    {
     "name": "stdout",
     "output_type": "stream",
     "text": [
      "Jane Doe님 반갑습니다.\n",
      "[0.7713367378660961, 0.0866568741991035, 0.16264287662136145]\n"
     ]
    }
   ],
   "source": [
    "from my_module import greetings, select_rand_number\n",
    "\n",
    "print( greetings('Jane Doe') )\n",
    "print( select_rand_number(3) )\n",
    "\n",
    "# print( my_module.greetings('Jane Doe') ) # import 한 것만 사용 가능"
   ]
  },
  {
   "cell_type": "code",
   "execution_count": 2,
   "metadata": {},
   "outputs": [
    {
     "name": "stdout",
     "output_type": "stream",
     "text": [
      "Jane Doe님 반갑습니다.\n",
      "[0.8274154433796662, 0.4851081737640912, 0.7602805314307833]\n"
     ]
    }
   ],
   "source": [
    "from my_module import greetings as g\n",
    "from my_module import select_rand_number as srn\n",
    "\n",
    "print( g('Jane Doe') )\n",
    "print( srn(3) )"
   ]
  },
  {
   "cell_type": "code",
   "execution_count": 1,
   "metadata": {},
   "outputs": [
    {
     "name": "stdout",
     "output_type": "stream",
     "text": [
      "Jane Doe님 반갑습니다.\n",
      "[0.953701855019336, 0.5010295904203892, 0.13880088416111447]\n"
     ]
    }
   ],
   "source": [
    "from my_module import *\n",
    "\n",
    "print( greetings('Jane Doe') )\n",
    "print( select_rand_number(3) )"
   ]
  },
  {
   "cell_type": "code",
   "execution_count": 1,
   "metadata": {},
   "outputs": [
    {
     "name": "stdout",
     "output_type": "stream",
     "text": [
      "my_module\n"
     ]
    }
   ],
   "source": [
    "import my_module # my_module을 실행하세요\n"
   ]
  },
  {
   "cell_type": "code",
   "execution_count": null,
   "metadata": {},
   "outputs": [],
   "source": []
  },
  {
   "cell_type": "code",
   "execution_count": 9,
   "metadata": {},
   "outputs": [
    {
     "name": "stdout",
     "output_type": "stream",
     "text": [
      "module1\n",
      "module2\n"
     ]
    }
   ],
   "source": [
    "# 패키지와 모듈 사용하기\n",
    "import pa.pb.module1\n",
    "import pa.pc.module2\n",
    "\n",
    "print(pa.pb.module1.message)\n",
    "print(pa.pc.module2.message)"
   ]
  },
  {
   "cell_type": "code",
   "execution_count": 10,
   "metadata": {},
   "outputs": [
    {
     "name": "stdout",
     "output_type": "stream",
     "text": [
      "module1\n",
      "module2\n"
     ]
    }
   ],
   "source": [
    "# 패키지와 모듈 사용하기\n",
    "import pa.pb.module1 as m1\n",
    "import pa.pc.module2 as m2\n",
    "\n",
    "print(m1.message)\n",
    "print(m2.message)"
   ]
  },
  {
   "cell_type": "code",
   "execution_count": 13,
   "metadata": {},
   "outputs": [
    {
     "name": "stdout",
     "output_type": "stream",
     "text": [
      "module1\n",
      "module1\n",
      "module1 module2\n"
     ]
    }
   ],
   "source": [
    "from pa.pb import module1\n",
    "from pa.pb.module1 import message\n",
    "from pa import pb, pc\n",
    "\n",
    "print(module1.message)\n",
    "print(message)\n",
    "print(pb.module1.message, pc.module2.message)"
   ]
  },
  {
   "cell_type": "code",
   "execution_count": null,
   "metadata": {},
   "outputs": [],
   "source": []
  }
 ],
 "metadata": {
  "kernelspec": {
   "display_name": "python-env-311",
   "language": "python",
   "name": "python3"
  },
  "language_info": {
   "codemirror_mode": {
    "name": "ipython",
    "version": 3
   },
   "file_extension": ".py",
   "mimetype": "text/x-python",
   "name": "python",
   "nbconvert_exporter": "python",
   "pygments_lexer": "ipython3",
   "version": "3.11.11"
  }
 },
 "nbformat": 4,
 "nbformat_minor": 2
}
