{
 "cells": [
  {
   "cell_type": "code",
   "execution_count": null,
   "metadata": {},
   "outputs": [
    {
     "ename": "NotImplementedError",
     "evalue": "늑대가 나타났어요",
     "output_type": "error",
     "traceback": [
      "\u001b[1;31m---------------------------------------------------------------------------\u001b[0m",
      "\u001b[1;31mNotImplementedError\u001b[0m                       Traceback (most recent call last)",
      "Cell \u001b[1;32mIn[8], line 3\u001b[0m\n\u001b[0;32m      1\u001b[0m \u001b[38;5;66;03m# open('test.txt')\u001b[39;00m\n\u001b[0;32m      2\u001b[0m \u001b[38;5;66;03m# 4 / 0\u001b[39;00m\n\u001b[1;32m----> 3\u001b[0m \u001b[38;5;28;01mraise\u001b[39;00m \u001b[38;5;167;01mNotImplementedError\u001b[39;00m(\u001b[38;5;124m\"\u001b[39m\u001b[38;5;124m늑대가 나타났어요\u001b[39m\u001b[38;5;124m\"\u001b[39m)\n",
      "\u001b[1;31mNotImplementedError\u001b[0m: 늑대가 나타났어요"
     ]
    }
   ],
   "source": [
    "# 오류 발생 확인\n",
    "\n",
    "# open('test.txt')\n",
    "# 4 / 0\n",
    "raise NotImplementedError(\"늑대가 나타났어요\")"
   ]
  },
  {
   "cell_type": "code",
   "execution_count": null,
   "metadata": {},
   "outputs": [
    {
     "name": "stdout",
     "output_type": "stream",
     "text": [
      "오류 의심 영역\n",
      "오류가 발생했을 때 실행되는 영역\n",
      "[Errno 2] No such file or directory: 'test.txt'\n",
      "오류 발생 여부와 관계 없이 실행되는 영역\n"
     ]
    }
   ],
   "source": [
    "import random\n",
    "try:\n",
    "    print(\"오류 의심 영역\")\n",
    "    rn = random.randint(1, 2)\n",
    "    if rn == 1:\n",
    "        open('test.txt')\n",
    "    else:\n",
    "        10 / 0\n",
    "# except: 오류 발생 여부만 확인\n",
    "except Exception as e: # 오류 정보를 변수로 저장\n",
    "    print(\"오류가 발생했을 때 실행되는 영역\")\n",
    "    print(e)\n",
    "    pass\n",
    "else:\n",
    "    print(\"오류가 발생하지 않았을 경우 실행되는 영역\")\n",
    "    pass\n",
    "finally:\n",
    "    print(\"오류 발생 여부와 관계 없이 실행되는 영역\")\n",
    "    pass"
   ]
  },
  {
   "cell_type": "code",
   "execution_count": 27,
   "metadata": {},
   "outputs": [
    {
     "name": "stdout",
     "output_type": "stream",
     "text": [
      "오류 의심 영역\n",
      "division by zero\n",
      "오류 발생 여부와 관계 없이 실행되는 영역\n"
     ]
    }
   ],
   "source": [
    "import random\n",
    "try:\n",
    "    print(\"오류 의심 영역\")\n",
    "    rn = random.randint(1, 2)\n",
    "    if rn == 1:\n",
    "        open('test.txt')\n",
    "    else:\n",
    "        10 / 0\n",
    "except FileNotFoundError as e1: # 오류 정보를 변수로 저장\n",
    "    print(e1)\n",
    "except ZeroDivisionError as e2: # 오류 정보를 변수로 저장\n",
    "    print(e2)\n",
    "else:\n",
    "    print(\"오류가 발생하지 않았을 경우 실행되는 영역\")\n",
    "    pass\n",
    "finally:\n",
    "    print(\"오류 발생 여부와 관계 없이 실행되는 영역\")\n",
    "    pass"
   ]
  }
 ],
 "metadata": {
  "kernelspec": {
   "display_name": "python-env-311",
   "language": "python",
   "name": "python3"
  },
  "language_info": {
   "codemirror_mode": {
    "name": "ipython",
    "version": 3
   },
   "file_extension": ".py",
   "mimetype": "text/x-python",
   "name": "python",
   "nbconvert_exporter": "python",
   "pygments_lexer": "ipython3",
   "version": "3.11.11"
  }
 },
 "nbformat": 4,
 "nbformat_minor": 2
}
