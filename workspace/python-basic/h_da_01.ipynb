{
 "cells": [
  {
   "cell_type": "code",
   "execution_count": 7,
   "metadata": {},
   "outputs": [],
   "source": [
    "# 파일에 데이터 쓰기\n",
    "\n",
    "# f = open('data-files/test.txt', 'w')\n",
    "# f = open('data-files/test.txt', 'wt') # w : 쓰기, t : 텍스트 형식\n",
    "f = open('data-files/test.txt', 'wt', encoding=\"utf-8\")\n",
    "\n",
    "f.write('파일에 쓰는 데이터 1\\n')\n",
    "f.write('파일에 쓰는 데이터 2\\n')\n",
    "f.write('파일에 쓰는 데이터 3\\n')\n",
    "f.write('파일에 쓰는 데이터 4\\n')\n",
    "f.write('파일에 쓰는 데이터 5\\n')\n",
    "\n",
    "f.close()"
   ]
  },
  {
   "cell_type": "code",
   "execution_count": 18,
   "metadata": {},
   "outputs": [
    {
     "name": "stdout",
     "output_type": "stream",
     "text": [
      "파일에 쓰는 데이터 1\n",
      "\n",
      "파일에 쓰는 데이터 2\n",
      "\n",
      "파일에 쓰는 데이터 3\n",
      "\n",
      "파일에 쓰는 데이터 4\n",
      "\n",
      "파일에 쓰는 데이터 5\n",
      "\n"
     ]
    }
   ],
   "source": [
    "# 파일에서 데이터 읽기\n",
    "\n",
    "# f2 = open('data-files/test.txt', 'r')\n",
    "# f2 = open('data-files/test.txt', 'rt')  # r : 읽기, t : 텍스트 형식\n",
    "f2 = open('data-files/test.txt', 'rt', encoding='utf-8')\n",
    "\n",
    "# 1\n",
    "# print( f2.read() ) # 모든 내용을 읽어서 한 단위로 반환\n",
    "# 2\n",
    "# print( f2.readlines() ) # 모든 내용을 읽어서 행 단위로 구분한 리스트 반환\n",
    "# 3\n",
    "while True:\n",
    "    l = f2.readline() # 한 행만 읽어서 반환 ( 더 이상 읽을 데이터가 없으면 \"\" 반환)\n",
    "    if l:\n",
    "        print(l)\n",
    "    else:\n",
    "        break\n",
    "\n",
    "f2.close()"
   ]
  },
  {
   "cell_type": "code",
   "execution_count": 10,
   "metadata": {},
   "outputs": [],
   "source": [
    "# 파일에 데이터 쓰기 2\n",
    "\n",
    "with open('data-files/test2.txt', 'wt', encoding=\"utf-8\") as f: # with block 끝에서 자동으로 f.close()\n",
    "    f.write('파일에 쓰는 데이터 1\\n')\n",
    "    f.write('파일에 쓰는 데이터 2\\n')\n",
    "    f.write('파일에 쓰는 데이터 3\\n')\n",
    "    f.write('파일에 쓰는 데이터 4\\n')\n",
    "    f.write('파일에 쓰는 데이터 5\\n')\n"
   ]
  },
  {
   "cell_type": "code",
   "execution_count": 12,
   "metadata": {},
   "outputs": [
    {
     "name": "stdout",
     "output_type": "stream",
     "text": [
      "파일에 쓰는 데이터 1\n",
      "파일에 쓰는 데이터 2\n",
      "파일에 쓰는 데이터 3\n",
      "파일에 쓰는 데이터 4\n",
      "파일에 쓰는 데이터 5\n",
      "\n"
     ]
    }
   ],
   "source": [
    "# 파일에서 데이터 읽기 2\n",
    "\n",
    "with open('data-files/test2.txt', 'rt', encoding='utf-8') as f2:\n",
    "\n",
    "    print( f2.read() )"
   ]
  }
 ],
 "metadata": {
  "kernelspec": {
   "display_name": "python-env-311",
   "language": "python",
   "name": "python3"
  },
  "language_info": {
   "codemirror_mode": {
    "name": "ipython",
    "version": 3
   },
   "file_extension": ".py",
   "mimetype": "text/x-python",
   "name": "python",
   "nbconvert_exporter": "python",
   "pygments_lexer": "ipython3",
   "version": "3.11.11"
  }
 },
 "nbformat": 4,
 "nbformat_minor": 2
}
