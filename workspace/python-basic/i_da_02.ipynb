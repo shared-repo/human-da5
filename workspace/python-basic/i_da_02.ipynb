{
 "cells": [
  {
   "cell_type": "code",
   "execution_count": 18,
   "metadata": {},
   "outputs": [],
   "source": [
    "# 날씨 데이터 읽어서 행별 리스트로 구성 1\n",
    "with open('data-files/seoul-temperature.csv', 'rt', encoding='utf-8') as f:\n",
    "    lines = f.readlines()\n",
    "\n",
    "# print(lines)\n",
    "# print( lines[0] )\n",
    "# print( lines[:10] )\n",
    "\n",
    "# print( lines[1] )\n",
    "# row = lines[1].split(\",\") # \"1, 2, 3\" -> ['1', '2', '3']\n",
    "# print(row)\n",
    "# print( row[0].replace('\\t', '') ) # '\\t123' -> '123'\n",
    "# print( float(row[2]), float(row[3]) ) # '1.2' -> 1.2\n",
    "# print( float( row[4].replace('\\n', '') ) ) # '1.2\\t' -> 1.2\n",
    "\n",
    "rows = []\n",
    "for line in lines[1:]:\n",
    "    row = line.split(',')\n",
    "    # print(row)\n",
    "    if len(row) == 5 and \\\n",
    "       row[2] and row[3] and row[4].replace('\\n', ''): # 빈문자열은 False로 해석\n",
    "        row2 = [ row[0].replace('\\t', ''),\n",
    "                float(row[2]), float(row[3]),\n",
    "                float( row[4].replace('\\n', '') ) ]\n",
    "        rows.append(row2)\n",
    "\n"
   ]
  },
  {
   "cell_type": "code",
   "execution_count": 20,
   "metadata": {},
   "outputs": [
    {
     "name": "stdout",
     "output_type": "stream",
     "text": [
      "41695\n",
      "[['1907-10-01', 13.5, 7.9, 20.7], ['1907-10-02', 16.2, 7.9, 22.0], ['1907-10-03', 16.2, 13.1, 21.3], ['1907-10-04', 16.5, 11.2, 22.0], ['1907-10-05', 17.6, 10.9, 25.4]]\n"
     ]
    }
   ],
   "source": [
    "print( len(rows) ) # len : 데이터 갯수\n",
    "\n",
    "print( rows[:5] )"
   ]
  },
  {
   "cell_type": "code",
   "execution_count": null,
   "metadata": {},
   "outputs": [
    {
     "name": "stdout",
     "output_type": "stream",
     "text": [
      "['2018-08-01', 33.6, 27.8, 39.6]\n"
     ]
    }
   ],
   "source": [
    "# 서울이 가장 더웠던 날의 데이터 조회\n",
    "high = -1000\n",
    "high_row = None\n",
    "for row in rows:\n",
    "    # row[-1] # 어떤 날의 최고기온\n",
    "    if high < row[-1]:\n",
    "        high = row[-1]\n",
    "        high_row = row\n",
    "\n",
    "print(high_row)"
   ]
  },
  {
   "cell_type": "code",
   "execution_count": 23,
   "metadata": {},
   "outputs": [
    {
     "name": "stdout",
     "output_type": "stream",
     "text": [
      "['1927-12-31', -15.3, -23.1, -6.4]\n"
     ]
    }
   ],
   "source": [
    "# 서울이 가장 추웠던 날의 데이터 조회\n",
    "low_row = None\n",
    "for row in rows:\n",
    "    # row[-2] # 어떤 날의 최저기온\n",
    "    if low_row is None or low_row[-2] > row[-2]:        \n",
    "        low_row = row\n",
    "\n",
    "print(low_row)"
   ]
  },
  {
   "cell_type": "code",
   "execution_count": 24,
   "metadata": {},
   "outputs": [
    {
     "name": "stdout",
     "output_type": "stream",
     "text": [
      "11.829865384615358\n"
     ]
    }
   ],
   "source": [
    "# 관측 기간 전체 평균기온의 평균\n",
    "total = 0\n",
    "cnt = 0\n",
    "for row in rows:\n",
    "    if row[1]:\n",
    "        total += row[1] # total = total + row[1]\n",
    "        cnt += 1\n",
    "\n",
    "print( total / cnt )"
   ]
  }
 ],
 "metadata": {
  "kernelspec": {
   "display_name": "python-env-311",
   "language": "python",
   "name": "python3"
  },
  "language_info": {
   "codemirror_mode": {
    "name": "ipython",
    "version": 3
   },
   "file_extension": ".py",
   "mimetype": "text/x-python",
   "name": "python",
   "nbconvert_exporter": "python",
   "pygments_lexer": "ipython3",
   "version": "3.11.11"
  }
 },
 "nbformat": 4,
 "nbformat_minor": 2
}
