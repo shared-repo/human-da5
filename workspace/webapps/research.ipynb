{
 "cells": [
  {
   "cell_type": "code",
   "execution_count": 1,
   "id": "5e826a63",
   "metadata": {},
   "outputs": [
    {
     "name": "stdout",
     "output_type": "stream",
     "text": [
      "Collecting yfinance\n",
      "  Using cached yfinance-0.2.55-py2.py3-none-any.whl.metadata (5.8 kB)\n",
      "Collecting lxml\n",
      "  Using cached lxml-5.3.2-cp311-cp311-win_amd64.whl.metadata (3.7 kB)\n",
      "Requirement already satisfied: pandas>=1.3.0 in d:\\apps\\miniconda3\\envs\\python-env-311\\lib\\site-packages (from yfinance) (2.2.3)\n",
      "Requirement already satisfied: numpy>=1.16.5 in d:\\apps\\miniconda3\\envs\\python-env-311\\lib\\site-packages (from yfinance) (2.2.3)\n",
      "Requirement already satisfied: requests>=2.31 in d:\\apps\\miniconda3\\envs\\python-env-311\\lib\\site-packages (from yfinance) (2.32.3)\n",
      "Collecting multitasking>=0.0.7 (from yfinance)\n",
      "  Using cached multitasking-0.0.11-py3-none-any.whl.metadata (5.5 kB)\n",
      "Requirement already satisfied: platformdirs>=2.0.0 in d:\\apps\\miniconda3\\envs\\python-env-311\\lib\\site-packages (from yfinance) (4.3.6)\n",
      "Requirement already satisfied: pytz>=2022.5 in d:\\apps\\miniconda3\\envs\\python-env-311\\lib\\site-packages (from yfinance) (2025.1)\n",
      "Collecting frozendict>=2.3.4 (from yfinance)\n",
      "  Using cached frozendict-2.4.6-py311-none-any.whl.metadata (23 kB)\n",
      "Collecting peewee>=3.16.2 (from yfinance)\n",
      "  Using cached peewee-3.17.9-py3-none-any.whl\n",
      "Requirement already satisfied: beautifulsoup4>=4.11.1 in d:\\apps\\miniconda3\\envs\\python-env-311\\lib\\site-packages (from yfinance) (4.13.3)\n",
      "Requirement already satisfied: soupsieve>1.2 in d:\\apps\\miniconda3\\envs\\python-env-311\\lib\\site-packages (from beautifulsoup4>=4.11.1->yfinance) (2.6)\n",
      "Requirement already satisfied: typing-extensions>=4.0.0 in d:\\apps\\miniconda3\\envs\\python-env-311\\lib\\site-packages (from beautifulsoup4>=4.11.1->yfinance) (4.12.2)\n",
      "Requirement already satisfied: python-dateutil>=2.8.2 in d:\\apps\\miniconda3\\envs\\python-env-311\\lib\\site-packages (from pandas>=1.3.0->yfinance) (2.9.0.post0)\n",
      "Requirement already satisfied: tzdata>=2022.7 in d:\\apps\\miniconda3\\envs\\python-env-311\\lib\\site-packages (from pandas>=1.3.0->yfinance) (2025.1)\n",
      "Requirement already satisfied: charset-normalizer<4,>=2 in d:\\apps\\miniconda3\\envs\\python-env-311\\lib\\site-packages (from requests>=2.31->yfinance) (3.4.1)\n",
      "Requirement already satisfied: idna<4,>=2.5 in d:\\apps\\miniconda3\\envs\\python-env-311\\lib\\site-packages (from requests>=2.31->yfinance) (3.10)\n",
      "Requirement already satisfied: urllib3<3,>=1.21.1 in d:\\apps\\miniconda3\\envs\\python-env-311\\lib\\site-packages (from requests>=2.31->yfinance) (2.3.0)\n",
      "Requirement already satisfied: certifi>=2017.4.17 in d:\\apps\\miniconda3\\envs\\python-env-311\\lib\\site-packages (from requests>=2.31->yfinance) (2025.1.31)\n",
      "Requirement already satisfied: six>=1.5 in d:\\apps\\miniconda3\\envs\\python-env-311\\lib\\site-packages (from python-dateutil>=2.8.2->pandas>=1.3.0->yfinance) (1.17.0)\n",
      "Using cached yfinance-0.2.55-py2.py3-none-any.whl (109 kB)\n",
      "Using cached lxml-5.3.2-cp311-cp311-win_amd64.whl (3.8 MB)\n",
      "Using cached frozendict-2.4.6-py311-none-any.whl (16 kB)\n",
      "Using cached multitasking-0.0.11-py3-none-any.whl (8.5 kB)\n",
      "Installing collected packages: peewee, multitasking, lxml, frozendict, yfinance\n",
      "Successfully installed frozendict-2.4.6 lxml-5.3.2 multitasking-0.0.11 peewee-3.17.9 yfinance-0.2.55\n"
     ]
    }
   ],
   "source": [
    "!pip install yfinance lxml"
   ]
  },
  {
   "cell_type": "code",
   "execution_count": 2,
   "id": "187ed4bc",
   "metadata": {},
   "outputs": [],
   "source": [
    "import numpy as np\n",
    "import pandas as pd\n",
    "import matplotlib.pyplot as plt\n",
    "import yfinance as yf\n",
    "import requests\n",
    "from io import StringIO"
   ]
  },
  {
   "cell_type": "code",
   "execution_count": 3,
   "id": "aa17d2a7",
   "metadata": {},
   "outputs": [],
   "source": [
    "ticker = yf.Ticker('005930.KS')\n",
    "quotes = ticker.history(period='max', interval='1d')"
   ]
  },
  {
   "cell_type": "code",
   "execution_count": 5,
   "id": "ad28f6bd",
   "metadata": {},
   "outputs": [
    {
     "name": "stdout",
     "output_type": "stream",
     "text": [
      "(6330, 7)\n"
     ]
    },
    {
     "data": {
      "text/html": [
       "<div>\n",
       "<style scoped>\n",
       "    .dataframe tbody tr th:only-of-type {\n",
       "        vertical-align: middle;\n",
       "    }\n",
       "\n",
       "    .dataframe tbody tr th {\n",
       "        vertical-align: top;\n",
       "    }\n",
       "\n",
       "    .dataframe thead th {\n",
       "        text-align: right;\n",
       "    }\n",
       "</style>\n",
       "<table border=\"1\" class=\"dataframe\">\n",
       "  <thead>\n",
       "    <tr style=\"text-align: right;\">\n",
       "      <th></th>\n",
       "      <th>Open</th>\n",
       "      <th>High</th>\n",
       "      <th>Low</th>\n",
       "      <th>Close</th>\n",
       "      <th>Volume</th>\n",
       "      <th>Dividends</th>\n",
       "      <th>Stock Splits</th>\n",
       "    </tr>\n",
       "    <tr>\n",
       "      <th>Date</th>\n",
       "      <th></th>\n",
       "      <th></th>\n",
       "      <th></th>\n",
       "      <th></th>\n",
       "      <th></th>\n",
       "      <th></th>\n",
       "      <th></th>\n",
       "    </tr>\n",
       "  </thead>\n",
       "  <tbody>\n",
       "    <tr>\n",
       "      <th>2000-01-04 00:00:00+09:00</th>\n",
       "      <td>4296.628861</td>\n",
       "      <td>4375.400391</td>\n",
       "      <td>4053.153226</td>\n",
       "      <td>4375.400391</td>\n",
       "      <td>74195000</td>\n",
       "      <td>0.0</td>\n",
       "      <td>0.0</td>\n",
       "    </tr>\n",
       "    <tr>\n",
       "      <th>2000-01-05 00:00:00+09:00</th>\n",
       "      <td>4153.409069</td>\n",
       "      <td>4339.596373</td>\n",
       "      <td>3952.899666</td>\n",
       "      <td>3995.865967</td>\n",
       "      <td>74680000</td>\n",
       "      <td>0.0</td>\n",
       "      <td>0.0</td>\n",
       "    </tr>\n",
       "    <tr>\n",
       "      <th>2000-01-06 00:00:00+09:00</th>\n",
       "      <td>4117.602159</td>\n",
       "      <td>4139.085301</td>\n",
       "      <td>3995.864356</td>\n",
       "      <td>4024.508545</td>\n",
       "      <td>54390000</td>\n",
       "      <td>0.0</td>\n",
       "      <td>0.0</td>\n",
       "    </tr>\n",
       "    <tr>\n",
       "      <th>2000-01-07 00:00:00+09:00</th>\n",
       "      <td>3981.543535</td>\n",
       "      <td>4060.315079</td>\n",
       "      <td>3838.322544</td>\n",
       "      <td>3967.221436</td>\n",
       "      <td>40305000</td>\n",
       "      <td>0.0</td>\n",
       "      <td>0.0</td>\n",
       "    </tr>\n",
       "    <tr>\n",
       "      <th>2000-01-10 00:00:00+09:00</th>\n",
       "      <td>4010.186985</td>\n",
       "      <td>4131.924805</td>\n",
       "      <td>3995.864889</td>\n",
       "      <td>4131.924805</td>\n",
       "      <td>46880000</td>\n",
       "      <td>0.0</td>\n",
       "      <td>0.0</td>\n",
       "    </tr>\n",
       "  </tbody>\n",
       "</table>\n",
       "</div>"
      ],
      "text/plain": [
       "                                  Open         High          Low        Close  \\\n",
       "Date                                                                            \n",
       "2000-01-04 00:00:00+09:00  4296.628861  4375.400391  4053.153226  4375.400391   \n",
       "2000-01-05 00:00:00+09:00  4153.409069  4339.596373  3952.899666  3995.865967   \n",
       "2000-01-06 00:00:00+09:00  4117.602159  4139.085301  3995.864356  4024.508545   \n",
       "2000-01-07 00:00:00+09:00  3981.543535  4060.315079  3838.322544  3967.221436   \n",
       "2000-01-10 00:00:00+09:00  4010.186985  4131.924805  3995.864889  4131.924805   \n",
       "\n",
       "                             Volume  Dividends  Stock Splits  \n",
       "Date                                                          \n",
       "2000-01-04 00:00:00+09:00  74195000        0.0           0.0  \n",
       "2000-01-05 00:00:00+09:00  74680000        0.0           0.0  \n",
       "2000-01-06 00:00:00+09:00  54390000        0.0           0.0  \n",
       "2000-01-07 00:00:00+09:00  40305000        0.0           0.0  \n",
       "2000-01-10 00:00:00+09:00  46880000        0.0           0.0  "
      ]
     },
     "execution_count": 5,
     "metadata": {},
     "output_type": "execute_result"
    }
   ],
   "source": [
    "print( quotes.shape )\n",
    "quotes.head()"
   ]
  },
  {
   "cell_type": "code",
   "execution_count": 6,
   "id": "d80b178d",
   "metadata": {},
   "outputs": [
    {
     "data": {
      "image/png": "[encoded data removed]",
      "text/plain": [
       "<Figure size 1500x500 with 1 Axes>"
      ]
     },
     "metadata": {},
     "output_type": "display_data"
    }
   ],
   "source": [
    "plt.figure(figsize=(15, 5))\n",
    "plt.plot(quotes.index, quotes['Close'])\n",
    "plt.show()"
   ]
  },
  {
   "cell_type": "code",
   "execution_count": 7,
   "id": "8d703d39",
   "metadata": {},
   "outputs": [],
   "source": [
    "api_url = 'http://kind.krx.co.kr/corpgeneral/corpList.do'\n",
    "params = {\n",
    "    \"method\": \"download\",\n",
    "    \"marketType\": \"stockMkt\" # kosdaqMkt (KOSDAQ)\n",
    "}\n",
    "\n",
    "resp = requests.get(api_url, params)"
   ]
  },
  {
   "cell_type": "code",
   "execution_count": null,
   "id": "88f551ae",
   "metadata": {},
   "outputs": [],
   "source": [
    "print( resp.text )"
   ]
  },
  {
   "cell_type": "code",
   "execution_count": 17,
   "id": "5f38cbb3",
   "metadata": {},
   "outputs": [
    {
     "data": {
      "text/html": [
       "<div>\n",
       "<style scoped>\n",
       "    .dataframe tbody tr th:only-of-type {\n",
       "        vertical-align: middle;\n",
       "    }\n",
       "\n",
       "    .dataframe tbody tr th {\n",
       "        vertical-align: top;\n",
       "    }\n",
       "\n",
       "    .dataframe thead th {\n",
       "        text-align: right;\n",
       "    }\n",
       "</style>\n",
       "<table border=\"1\" class=\"dataframe\">\n",
       "  <thead>\n",
       "    <tr style=\"text-align: right;\">\n",
       "      <th></th>\n",
       "      <th>회사명</th>\n",
       "      <th>종목코드</th>\n",
       "      <th>업종</th>\n",
       "      <th>주요제품</th>\n",
       "      <th>상장일</th>\n",
       "      <th>결산월</th>\n",
       "      <th>대표자명</th>\n",
       "      <th>홈페이지</th>\n",
       "      <th>지역</th>\n",
       "    </tr>\n",
       "  </thead>\n",
       "  <tbody>\n",
       "    <tr>\n",
       "      <th>0</th>\n",
       "      <td>DSR제강</td>\n",
       "      <td>69730</td>\n",
       "      <td>1차 철강 제조업</td>\n",
       "      <td>와이어로프,각종 경강선,철선제품,PC강선,아연도 강연선 제조</td>\n",
       "      <td>2003-01-28</td>\n",
       "      <td>12월</td>\n",
       "      <td>홍하종, 홍석빈 (각자 대표이사)</td>\n",
       "      <td>http://www.dsrcorp.com</td>\n",
       "      <td>전라남도</td>\n",
       "    </tr>\n",
       "    <tr>\n",
       "      <th>1</th>\n",
       "      <td>GS글로벌</td>\n",
       "      <td>1250</td>\n",
       "      <td>상품 종합 도매업</td>\n",
       "      <td>수출입업(시멘트,철강금속,전기전자,섬유,기계화학),상품중개,광업,채석업/하수처리 서...</td>\n",
       "      <td>1976-06-26</td>\n",
       "      <td>12월</td>\n",
       "      <td>이영환</td>\n",
       "      <td>http://www.gsgcorp.com</td>\n",
       "      <td>서울특별시</td>\n",
       "    </tr>\n",
       "    <tr>\n",
       "      <th>2</th>\n",
       "      <td>HDC랩스</td>\n",
       "      <td>39570</td>\n",
       "      <td>전기 및 통신 공사업</td>\n",
       "      <td>기계설비공사, 스마트홈, 지능형 빌딩, SOC, 인테리어, 조경, 시설관리</td>\n",
       "      <td>2015-09-24</td>\n",
       "      <td>12월</td>\n",
       "      <td>김성은</td>\n",
       "      <td>http://www.hdc-labs.com/</td>\n",
       "      <td>서울특별시</td>\n",
       "    </tr>\n",
       "    <tr>\n",
       "      <th>3</th>\n",
       "      <td>HDC현대산업개발</td>\n",
       "      <td>294870</td>\n",
       "      <td>건물 건설업</td>\n",
       "      <td>외주주택, 자체공사, 일반건축, 토목 등</td>\n",
       "      <td>2018-06-12</td>\n",
       "      <td>12월</td>\n",
       "      <td>정경구, 조태제(각자 대표이사)</td>\n",
       "      <td>http://www.hdc-dvp.com</td>\n",
       "      <td>서울특별시</td>\n",
       "    </tr>\n",
       "    <tr>\n",
       "      <th>4</th>\n",
       "      <td>HD현대</td>\n",
       "      <td>267250</td>\n",
       "      <td>기타 금융업</td>\n",
       "      <td>지주회사</td>\n",
       "      <td>2017-05-10</td>\n",
       "      <td>12월</td>\n",
       "      <td>권오갑, 정기선</td>\n",
       "      <td>http://www.hd.com</td>\n",
       "      <td>경기도</td>\n",
       "    </tr>\n",
       "  </tbody>\n",
       "</table>\n",
       "</div>"
      ],
      "text/plain": [
       "         회사명    종목코드           업종  \\\n",
       "0      DSR제강   69730    1차 철강 제조업   \n",
       "1      GS글로벌    1250    상품 종합 도매업   \n",
       "2      HDC랩스   39570  전기 및 통신 공사업   \n",
       "3  HDC현대산업개발  294870       건물 건설업   \n",
       "4       HD현대  267250       기타 금융업   \n",
       "\n",
       "                                                주요제품         상장일  결산월  \\\n",
       "0                  와이어로프,각종 경강선,철선제품,PC강선,아연도 강연선 제조  2003-01-28  12월   \n",
       "1  수출입업(시멘트,철강금속,전기전자,섬유,기계화학),상품중개,광업,채석업/하수처리 서...  1976-06-26  12월   \n",
       "2          기계설비공사, 스마트홈, 지능형 빌딩, SOC, 인테리어, 조경, 시설관리  2015-09-24  12월   \n",
       "3                             외주주택, 자체공사, 일반건축, 토목 등  2018-06-12  12월   \n",
       "4                                               지주회사  2017-05-10  12월   \n",
       "\n",
       "                 대표자명                      홈페이지     지역  \n",
       "0  홍하종, 홍석빈 (각자 대표이사)    http://www.dsrcorp.com   전라남도  \n",
       "1                 이영환    http://www.gsgcorp.com  서울특별시  \n",
       "2                 김성은  http://www.hdc-labs.com/  서울특별시  \n",
       "3   정경구, 조태제(각자 대표이사)    http://www.hdc-dvp.com  서울특별시  \n",
       "4            권오갑, 정기선         http://www.hd.com    경기도  "
      ]
     },
     "execution_count": 17,
     "metadata": {},
     "output_type": "execute_result"
    }
   ],
   "source": [
    "pd.read_html(StringIO(resp.text))[0].head()"
   ]
  },
  {
   "cell_type": "code",
   "execution_count": 23,
   "id": "6aae6508",
   "metadata": {},
   "outputs": [],
   "source": [
    "api_url = 'http://kind.krx.co.kr/corpgeneral/corpList.do'\n",
    "params = {\n",
    "    \"method\": \"download\",\n",
    "    \"marketType\": \"stockMkt\" # kosdaqMkt (KOSDAQ)\n",
    "}\n",
    "\n",
    "resp = requests.get(api_url, params)\n",
    "df_kospi = pd.read_html(StringIO(resp.text))[0]\n",
    "df_kospi['종목코드'] = df_kospi['종목코드'].map(lambda v: f'{v}.KS')\n",
    "\n",
    "params['marketType'] = 'kosdaqMkt'\n",
    "resp = requests.get(api_url, params)\n",
    "df_kosdaq = pd.read_html(StringIO(resp.text))[0]\n",
    "df_kosdaq['종목코드'] = df_kosdaq['종목코드'].map(lambda v: f'{v}.KQ')\n",
    "\n",
    "df_stocks = pd.concat([df_kospi, df_kosdaq])"
   ]
  },
  {
   "cell_type": "code",
   "execution_count": 39,
   "id": "c6509160",
   "metadata": {},
   "outputs": [
    {
     "name": "stdout",
     "output_type": "stream",
     "text": [
      "(2641, 9)\n"
     ]
    },
    {
     "data": {
      "text/html": [
       "<div>\n",
       "<style scoped>\n",
       "    .dataframe tbody tr th:only-of-type {\n",
       "        vertical-align: middle;\n",
       "    }\n",
       "\n",
       "    .dataframe tbody tr th {\n",
       "        vertical-align: top;\n",
       "    }\n",
       "\n",
       "    .dataframe thead th {\n",
       "        text-align: right;\n",
       "    }\n",
       "</style>\n",
       "<table border=\"1\" class=\"dataframe\">\n",
       "  <thead>\n",
       "    <tr style=\"text-align: right;\">\n",
       "      <th></th>\n",
       "      <th>회사명</th>\n",
       "      <th>종목코드</th>\n",
       "    </tr>\n",
       "  </thead>\n",
       "  <tbody>\n",
       "    <tr>\n",
       "      <th>0</th>\n",
       "      <td>DSR제강</td>\n",
       "      <td>69730.KS</td>\n",
       "    </tr>\n",
       "    <tr>\n",
       "      <th>1</th>\n",
       "      <td>GS글로벌</td>\n",
       "      <td>1250.KS</td>\n",
       "    </tr>\n",
       "    <tr>\n",
       "      <th>2</th>\n",
       "      <td>HDC랩스</td>\n",
       "      <td>39570.KS</td>\n",
       "    </tr>\n",
       "    <tr>\n",
       "      <th>3</th>\n",
       "      <td>HDC현대산업개발</td>\n",
       "      <td>294870.KS</td>\n",
       "    </tr>\n",
       "    <tr>\n",
       "      <th>4</th>\n",
       "      <td>HD현대</td>\n",
       "      <td>267250.KS</td>\n",
       "    </tr>\n",
       "  </tbody>\n",
       "</table>\n",
       "</div>"
      ],
      "text/plain": [
       "         회사명       종목코드\n",
       "0      DSR제강   69730.KS\n",
       "1      GS글로벌    1250.KS\n",
       "2      HDC랩스   39570.KS\n",
       "3  HDC현대산업개발  294870.KS\n",
       "4       HD현대  267250.KS"
      ]
     },
     "execution_count": 39,
     "metadata": {},
     "output_type": "execute_result"
    }
   ],
   "source": [
    "print( df_stocks.shape )\n",
    "df_stocks[['회사명', '종목코드']].head()"
   ]
  },
  {
   "cell_type": "code",
   "execution_count": 42,
   "id": "33daad22",
   "metadata": {},
   "outputs": [],
   "source": [
    "df_stocks[['회사명', '종목코드']].to_csv('stock-code.csv', encoding='utf-8', index=False)"
   ]
  },
  {
   "cell_type": "code",
   "execution_count": null,
   "id": "40868863",
   "metadata": {},
   "outputs": [],
   "source": []
  },
  {
   "cell_type": "code",
   "execution_count": null,
   "id": "7ac59fef",
   "metadata": {},
   "outputs": [
    {
     "name": "stdout",
     "output_type": "stream",
     "text": [
      "0     106\n",
      "1    1826\n",
      "2     369\n",
      "3    3176\n",
      "4    3650\n",
      "5    2274\n",
      "6    2996\n",
      "dtype: int64\n",
      "0     746\n",
      "1    1432\n",
      "2    1824\n",
      "3     536\n",
      "4    1105\n",
      "5    2076\n",
      "6    2380\n",
      "dtype: int64\n"
     ]
    }
   ],
   "source": [
    "import random\n",
    "s = pd.Series([1, 2, 3, 4, 5, 6, 7])\n",
    "ns = []\n",
    "for v in s:\n",
    "    ns.append(v* random.randint(100, 1000))\n",
    "ns = pd.Series(ns)\n",
    "print( ns )\n",
    "\n",
    "ns2 = s.map( lambda v: v * random.randint(100, 1000) ) # 반복문을 통해 각 값에 대해 전달인자에 지정된 함수 실행\n",
    "print( ns2 )\n"
   ]
  },
  {
   "cell_type": "code",
   "execution_count": null,
   "id": "78d21cc9",
   "metadata": {},
   "outputs": [
    {
     "data": {
      "text/plain": [
       "0    11\n",
       "1    22\n",
       "2    33\n",
       "3    44\n",
       "4    55\n",
       "5    66\n",
       "6    77\n",
       "dtype: int64"
      ]
     },
     "execution_count": 38,
     "metadata": {},
     "output_type": "execute_result"
    }
   ],
   "source": [
    "import random\n",
    "df = pd.DataFrame({'a': [1, 2, 3, 4, 5, 6, 7], 'b': [10, 20, 30, 40, 50, 60, 70] })\n",
    "df\n",
    "\n",
    "# df.map(lambda row: print(row))\n",
    "# df.apply(lambda row: print(row, type(row)), axis=1)\n",
    "df.apply(lambda row: row['a'] + row['b'], axis=1) # def(row): return row['a'] + row['b']"
   ]
  }
 ],
 "metadata": {
  "kernelspec": {
   "display_name": "python-env-311",
   "language": "python",
   "name": "python3"
  },
  "language_info": {
   "codemirror_mode": {
    "name": "ipython",
    "version": 3
   },
   "file_extension": ".py",
   "mimetype": "text/x-python",
   "name": "python",
   "nbconvert_exporter": "python",
   "pygments_lexer": "ipython3",
   "version": "3.11.11"
  }
 },
 "nbformat": 4,
 "nbformat_minor": 5
}
